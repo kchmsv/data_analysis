{
 "cells": [
  {
   "cell_type": "markdown",
   "id": "c8cf1112",
   "metadata": {},
   "source": [
    "# Анализ данных сервиса аренды самокатов GoFast "
   ]
  },
  {
   "cell_type": "markdown",
   "id": "32751f58",
   "metadata": {},
   "source": [
    "## Описание проекта"
   ]
  },
  {
   "cell_type": "markdown",
   "id": "4453e2d3-408b-44bc-8170-9776d9717483",
   "metadata": {},
   "source": [
    "### Описание бизнеса"
   ]
  },
  {
   "cell_type": "markdown",
   "id": "03f2dfb3",
   "metadata": {},
   "source": [
    "Чтобы совершать поездки по городу, пользователи сервиса GoFast пользуются мобильным приложением. Сервисом можно пользоваться:\n",
    "- без подписки\n",
    " - абонентская плата отсутствует;\n",
    " - стоимость одной минуты поездки — 8 рублей;\n",
    " - стоимость старта (начала поездки) — 50 рублей;\n",
    "- с подпиской Ultra\n",
    " - абонентская плата — 199 рублей в месяц;\n",
    " - стоимость одной минуты поездки — 6 рублей;\n",
    " - стоимость старта — бесплатно."
   ]
  },
  {
   "cell_type": "markdown",
   "id": "d4ad353d-2f0c-4e53-bfc4-16d24c8057fe",
   "metadata": {},
   "source": [
    "### Описание исходных данных"
   ]
  },
  {
   "cell_type": "markdown",
   "id": "1b0681ac",
   "metadata": {},
   "source": [
    "**Пользователи — users**\n",
    "\n",
    "- `user_id`: уникальный идентификатор пользователя\n",
    "- `name`: имя пользователя\n",
    "- `age`: возраст\n",
    "- `city`: город\n",
    "- `subscription_type`: тип подписки (free, ultra)\n",
    "\n",
    "**Поездки — rides**\n",
    "\n",
    "- `user_id`: уникальный идентификатор пользователя\n",
    "- `distance`: расстояние, которое пользователь проехал в текущей сессии (в метрах)\n",
    "- `duration`: продолжительность сессии (в минутах) — время с того момента, как пользователь нажал кнопку «Начать поездку» до момента, как он нажал кнопку «Завершить поездку»\n",
    "- `date`: дата совершения поездки\n",
    "\n",
    "**Подписки — subscriptions**\n",
    "\n",
    "- `subscription_type`: тип подписки\n",
    "- `minute_price`: стоимость одной минуты поездки по данной подписке\n",
    "- `start_ride_price`: стоимость начала поездки\n",
    "- `subscription_fee`: стоимость ежемесячного платежа\n"
   ]
  },
  {
   "cell_type": "markdown",
   "id": "01336985-fe7f-46c7-8e07-b3f03df8c1c8",
   "metadata": {},
   "source": [
    "### Цель и задачи исследования"
   ]
  },
  {
   "cell_type": "markdown",
   "id": "3bb45249",
   "metadata": {},
   "source": [
    "**Цель**\n",
    "<br>Проанализировать данные и проверить некоторые гипотезы, которые могут помочь бизнесу вырасти.\n",
    "\n",
    "**Задачи**\n",
    "1. Подготовить данные к анализу — предобработка данных\n",
    "2. Исследовать закономоерности данных\n",
    "3. Объединить данные в один датафрейм для ответа на вопросы бизнеса\n",
    "4. Проверить статистические гипотезы о данных"
   ]
  },
  {
   "cell_type": "markdown",
   "id": "96cb575f",
   "metadata": {},
   "source": [
    "## Проект"
   ]
  },
  {
   "cell_type": "markdown",
   "id": "d96c07fc",
   "metadata": {},
   "source": [
    "### Загрузка данных"
   ]
  },
  {
   "cell_type": "code",
   "execution_count": 1,
   "id": "6b7546fc",
   "metadata": {},
   "outputs": [],
   "source": [
    "import pandas as pd\n",
    "import matplotlib.pyplot as plt\n",
    "import numpy as np\n",
    "from scipy import stats as st"
   ]
  },
  {
   "cell_type": "code",
   "execution_count": 2,
   "id": "4ff02cb1",
   "metadata": {},
   "outputs": [],
   "source": [
    "users = pd.read_csv('users_go.csv')\n",
    "rides = pd.read_csv('rides_go.csv')\n",
    "subscriptions = pd.read_csv('subscriptions_go.csv')\n",
    "\n",
    "# список с датафреймами для оптимизации кода\n",
    "dfs = [users, rides]"
   ]
  },
  {
   "cell_type": "code",
   "execution_count": 3,
   "id": "0e272ae2",
   "metadata": {},
   "outputs": [
    {
     "data": {
      "text/html": [
       "<div>\n",
       "<style scoped>\n",
       "    .dataframe tbody tr th:only-of-type {\n",
       "        vertical-align: middle;\n",
       "    }\n",
       "\n",
       "    .dataframe tbody tr th {\n",
       "        vertical-align: top;\n",
       "    }\n",
       "\n",
       "    .dataframe thead th {\n",
       "        text-align: right;\n",
       "    }\n",
       "</style>\n",
       "<table border=\"1\" class=\"dataframe\">\n",
       "  <thead>\n",
       "    <tr style=\"text-align: right;\">\n",
       "      <th></th>\n",
       "      <th>user_id</th>\n",
       "      <th>name</th>\n",
       "      <th>age</th>\n",
       "      <th>city</th>\n",
       "      <th>subscription_type</th>\n",
       "    </tr>\n",
       "  </thead>\n",
       "  <tbody>\n",
       "    <tr>\n",
       "      <th>0</th>\n",
       "      <td>1</td>\n",
       "      <td>Кира</td>\n",
       "      <td>22</td>\n",
       "      <td>Тюмень</td>\n",
       "      <td>ultra</td>\n",
       "    </tr>\n",
       "    <tr>\n",
       "      <th>1</th>\n",
       "      <td>2</td>\n",
       "      <td>Станислав</td>\n",
       "      <td>31</td>\n",
       "      <td>Омск</td>\n",
       "      <td>ultra</td>\n",
       "    </tr>\n",
       "    <tr>\n",
       "      <th>2</th>\n",
       "      <td>3</td>\n",
       "      <td>Алексей</td>\n",
       "      <td>20</td>\n",
       "      <td>Москва</td>\n",
       "      <td>ultra</td>\n",
       "    </tr>\n",
       "    <tr>\n",
       "      <th>3</th>\n",
       "      <td>4</td>\n",
       "      <td>Константин</td>\n",
       "      <td>26</td>\n",
       "      <td>Ростов-на-Дону</td>\n",
       "      <td>ultra</td>\n",
       "    </tr>\n",
       "    <tr>\n",
       "      <th>4</th>\n",
       "      <td>5</td>\n",
       "      <td>Адель</td>\n",
       "      <td>28</td>\n",
       "      <td>Омск</td>\n",
       "      <td>ultra</td>\n",
       "    </tr>\n",
       "    <tr>\n",
       "      <th>...</th>\n",
       "      <td>...</td>\n",
       "      <td>...</td>\n",
       "      <td>...</td>\n",
       "      <td>...</td>\n",
       "      <td>...</td>\n",
       "    </tr>\n",
       "    <tr>\n",
       "      <th>1560</th>\n",
       "      <td>829</td>\n",
       "      <td>Федор</td>\n",
       "      <td>29</td>\n",
       "      <td>Пятигорск</td>\n",
       "      <td>free</td>\n",
       "    </tr>\n",
       "    <tr>\n",
       "      <th>1561</th>\n",
       "      <td>809</td>\n",
       "      <td>Юрий</td>\n",
       "      <td>26</td>\n",
       "      <td>Сочи</td>\n",
       "      <td>free</td>\n",
       "    </tr>\n",
       "    <tr>\n",
       "      <th>1562</th>\n",
       "      <td>307</td>\n",
       "      <td>Ясмина</td>\n",
       "      <td>19</td>\n",
       "      <td>Краснодар</td>\n",
       "      <td>ultra</td>\n",
       "    </tr>\n",
       "    <tr>\n",
       "      <th>1563</th>\n",
       "      <td>47</td>\n",
       "      <td>Юрий</td>\n",
       "      <td>28</td>\n",
       "      <td>Тюмень</td>\n",
       "      <td>ultra</td>\n",
       "    </tr>\n",
       "    <tr>\n",
       "      <th>1564</th>\n",
       "      <td>1045</td>\n",
       "      <td>Артемий</td>\n",
       "      <td>28</td>\n",
       "      <td>Ростов-на-Дону</td>\n",
       "      <td>free</td>\n",
       "    </tr>\n",
       "  </tbody>\n",
       "</table>\n",
       "<p>1565 rows × 5 columns</p>\n",
       "</div>"
      ],
      "text/plain": [
       "      user_id        name  age            city subscription_type\n",
       "0           1        Кира   22          Тюмень             ultra\n",
       "1           2   Станислав   31            Омск             ultra\n",
       "2           3     Алексей   20          Москва             ultra\n",
       "3           4  Константин   26  Ростов-на-Дону             ultra\n",
       "4           5       Адель   28            Омск             ultra\n",
       "...       ...         ...  ...             ...               ...\n",
       "1560      829       Федор   29       Пятигорск              free\n",
       "1561      809        Юрий   26            Сочи              free\n",
       "1562      307      Ясмина   19       Краснодар             ultra\n",
       "1563       47        Юрий   28          Тюмень             ultra\n",
       "1564     1045     Артемий   28  Ростов-на-Дону              free\n",
       "\n",
       "[1565 rows x 5 columns]"
      ]
     },
     "metadata": {},
     "output_type": "display_data"
    },
    {
     "data": {
      "text/html": [
       "<div>\n",
       "<style scoped>\n",
       "    .dataframe tbody tr th:only-of-type {\n",
       "        vertical-align: middle;\n",
       "    }\n",
       "\n",
       "    .dataframe tbody tr th {\n",
       "        vertical-align: top;\n",
       "    }\n",
       "\n",
       "    .dataframe thead th {\n",
       "        text-align: right;\n",
       "    }\n",
       "</style>\n",
       "<table border=\"1\" class=\"dataframe\">\n",
       "  <thead>\n",
       "    <tr style=\"text-align: right;\">\n",
       "      <th></th>\n",
       "      <th>user_id</th>\n",
       "      <th>distance</th>\n",
       "      <th>duration</th>\n",
       "      <th>date</th>\n",
       "    </tr>\n",
       "  </thead>\n",
       "  <tbody>\n",
       "    <tr>\n",
       "      <th>0</th>\n",
       "      <td>1</td>\n",
       "      <td>4409.919140</td>\n",
       "      <td>25.599769</td>\n",
       "      <td>2021-01-01</td>\n",
       "    </tr>\n",
       "    <tr>\n",
       "      <th>1</th>\n",
       "      <td>1</td>\n",
       "      <td>2617.592153</td>\n",
       "      <td>15.816871</td>\n",
       "      <td>2021-01-18</td>\n",
       "    </tr>\n",
       "    <tr>\n",
       "      <th>2</th>\n",
       "      <td>1</td>\n",
       "      <td>754.159807</td>\n",
       "      <td>6.232113</td>\n",
       "      <td>2021-04-20</td>\n",
       "    </tr>\n",
       "    <tr>\n",
       "      <th>3</th>\n",
       "      <td>1</td>\n",
       "      <td>2694.783254</td>\n",
       "      <td>18.511000</td>\n",
       "      <td>2021-08-11</td>\n",
       "    </tr>\n",
       "    <tr>\n",
       "      <th>4</th>\n",
       "      <td>1</td>\n",
       "      <td>4028.687306</td>\n",
       "      <td>26.265803</td>\n",
       "      <td>2021-08-28</td>\n",
       "    </tr>\n",
       "    <tr>\n",
       "      <th>...</th>\n",
       "      <td>...</td>\n",
       "      <td>...</td>\n",
       "      <td>...</td>\n",
       "      <td>...</td>\n",
       "    </tr>\n",
       "    <tr>\n",
       "      <th>18063</th>\n",
       "      <td>1534</td>\n",
       "      <td>3781.098080</td>\n",
       "      <td>19.822962</td>\n",
       "      <td>2021-11-04</td>\n",
       "    </tr>\n",
       "    <tr>\n",
       "      <th>18064</th>\n",
       "      <td>1534</td>\n",
       "      <td>2840.423057</td>\n",
       "      <td>21.409799</td>\n",
       "      <td>2021-11-16</td>\n",
       "    </tr>\n",
       "    <tr>\n",
       "      <th>18065</th>\n",
       "      <td>1534</td>\n",
       "      <td>3826.185507</td>\n",
       "      <td>18.435051</td>\n",
       "      <td>2021-11-18</td>\n",
       "    </tr>\n",
       "    <tr>\n",
       "      <th>18066</th>\n",
       "      <td>1534</td>\n",
       "      <td>2902.308661</td>\n",
       "      <td>16.674362</td>\n",
       "      <td>2021-11-27</td>\n",
       "    </tr>\n",
       "    <tr>\n",
       "      <th>18067</th>\n",
       "      <td>1534</td>\n",
       "      <td>2371.711192</td>\n",
       "      <td>15.893917</td>\n",
       "      <td>2021-12-29</td>\n",
       "    </tr>\n",
       "  </tbody>\n",
       "</table>\n",
       "<p>18068 rows × 4 columns</p>\n",
       "</div>"
      ],
      "text/plain": [
       "       user_id     distance   duration        date\n",
       "0            1  4409.919140  25.599769  2021-01-01\n",
       "1            1  2617.592153  15.816871  2021-01-18\n",
       "2            1   754.159807   6.232113  2021-04-20\n",
       "3            1  2694.783254  18.511000  2021-08-11\n",
       "4            1  4028.687306  26.265803  2021-08-28\n",
       "...        ...          ...        ...         ...\n",
       "18063     1534  3781.098080  19.822962  2021-11-04\n",
       "18064     1534  2840.423057  21.409799  2021-11-16\n",
       "18065     1534  3826.185507  18.435051  2021-11-18\n",
       "18066     1534  2902.308661  16.674362  2021-11-27\n",
       "18067     1534  2371.711192  15.893917  2021-12-29\n",
       "\n",
       "[18068 rows x 4 columns]"
      ]
     },
     "metadata": {},
     "output_type": "display_data"
    },
    {
     "data": {
      "text/html": [
       "<div>\n",
       "<style scoped>\n",
       "    .dataframe tbody tr th:only-of-type {\n",
       "        vertical-align: middle;\n",
       "    }\n",
       "\n",
       "    .dataframe tbody tr th {\n",
       "        vertical-align: top;\n",
       "    }\n",
       "\n",
       "    .dataframe thead th {\n",
       "        text-align: right;\n",
       "    }\n",
       "</style>\n",
       "<table border=\"1\" class=\"dataframe\">\n",
       "  <thead>\n",
       "    <tr style=\"text-align: right;\">\n",
       "      <th></th>\n",
       "      <th>subscription_type</th>\n",
       "      <th>minute_price</th>\n",
       "      <th>start_ride_price</th>\n",
       "      <th>subscription_fee</th>\n",
       "    </tr>\n",
       "  </thead>\n",
       "  <tbody>\n",
       "    <tr>\n",
       "      <th>0</th>\n",
       "      <td>free</td>\n",
       "      <td>8</td>\n",
       "      <td>50</td>\n",
       "      <td>0</td>\n",
       "    </tr>\n",
       "    <tr>\n",
       "      <th>1</th>\n",
       "      <td>ultra</td>\n",
       "      <td>6</td>\n",
       "      <td>0</td>\n",
       "      <td>199</td>\n",
       "    </tr>\n",
       "  </tbody>\n",
       "</table>\n",
       "</div>"
      ],
      "text/plain": [
       "  subscription_type  minute_price  start_ride_price  subscription_fee\n",
       "0              free             8                50                 0\n",
       "1             ultra             6                 0               199"
      ]
     },
     "metadata": {},
     "output_type": "display_data"
    }
   ],
   "source": [
    "display(users)\n",
    "display(rides)\n",
    "display(subscriptions)"
   ]
  },
  {
   "cell_type": "code",
   "execution_count": 4,
   "id": "d67aaab9",
   "metadata": {},
   "outputs": [
    {
     "name": "stdout",
     "output_type": "stream",
     "text": [
      "<class 'pandas.core.frame.DataFrame'>\n",
      "RangeIndex: 1565 entries, 0 to 1564\n",
      "Data columns (total 5 columns):\n",
      " #   Column             Non-Null Count  Dtype \n",
      "---  ------             --------------  ----- \n",
      " 0   user_id            1565 non-null   int64 \n",
      " 1   name               1565 non-null   object\n",
      " 2   age                1565 non-null   int64 \n",
      " 3   city               1565 non-null   object\n",
      " 4   subscription_type  1565 non-null   object\n",
      "dtypes: int64(2), object(3)\n",
      "memory usage: 61.3+ KB\n",
      "\n",
      " Уникальные значения\n"
     ]
    },
    {
     "data": {
      "text/plain": [
       "user_id              1534\n",
       "name                  194\n",
       "age                    29\n",
       "city                    8\n",
       "subscription_type       2\n",
       "dtype: int64"
      ]
     },
     "metadata": {},
     "output_type": "display_data"
    },
    {
     "name": "stdout",
     "output_type": "stream",
     "text": [
      "\n",
      "\n",
      "\n",
      "<class 'pandas.core.frame.DataFrame'>\n",
      "RangeIndex: 18068 entries, 0 to 18067\n",
      "Data columns (total 4 columns):\n",
      " #   Column    Non-Null Count  Dtype  \n",
      "---  ------    --------------  -----  \n",
      " 0   user_id   18068 non-null  int64  \n",
      " 1   distance  18068 non-null  float64\n",
      " 2   duration  18068 non-null  float64\n",
      " 3   date      18068 non-null  object \n",
      "dtypes: float64(2), int64(1), object(1)\n",
      "memory usage: 564.8+ KB\n",
      "\n",
      " Уникальные значения\n"
     ]
    },
    {
     "data": {
      "text/plain": [
       "user_id      1534\n",
       "distance    18068\n",
       "duration    17974\n",
       "date          364\n",
       "dtype: int64"
      ]
     },
     "metadata": {},
     "output_type": "display_data"
    },
    {
     "name": "stdout",
     "output_type": "stream",
     "text": [
      "\n",
      "\n",
      "\n"
     ]
    }
   ],
   "source": [
    "# получил основную информацтю о данных\n",
    "\n",
    "for df in dfs:\n",
    "    df.info()\n",
    "    print('\\n', 'Уникальные значения')\n",
    "    display(df.nunique())\n",
    "    print('\\n' * 2)"
   ]
  },
  {
   "cell_type": "code",
   "execution_count": 5,
   "id": "2f033a01",
   "metadata": {},
   "outputs": [
    {
     "data": {
      "text/plain": [
       "('2021-01-01', '2021-12-30')"
      ]
     },
     "execution_count": 5,
     "metadata": {},
     "output_type": "execute_result"
    }
   ],
   "source": [
    "# проверил, за какой временной интервал представлены данные\n",
    "\n",
    "rides['date'].min(), rides['date'].max()"
   ]
  },
  {
   "cell_type": "markdown",
   "id": "5e31b0f1",
   "metadata": {},
   "source": [
    "**Выводы**\n",
    "\n",
    "- имеем два датасета с живыми данными за 2021 год и один справочник;\n",
    "- в данных нет пропусков;\n",
    "- в данных есть дубликаты (*users['user_id']*);\n",
    "- тип данных можно уточнить (*users['subscription_type'], subscriptions['subscription_type'], rides['date']*)."
   ]
  },
  {
   "cell_type": "markdown",
   "id": "8997e29f",
   "metadata": {},
   "source": [
    "### Предобработка данных"
   ]
  },
  {
   "cell_type": "markdown",
   "id": "5f0a4756",
   "metadata": {},
   "source": [
    "**Изменение типа данных**"
   ]
  },
  {
   "cell_type": "code",
   "execution_count": 6,
   "id": "ce606849",
   "metadata": {},
   "outputs": [],
   "source": [
    "# изменил тип данных на более подходящий\n",
    "\n",
    "users['subscription_type'] = users['subscription_type'].astype('category')\n",
    "subscriptions['subscription_type'] = subscriptions['subscription_type'].astype('category')\n",
    "rides['date'] = pd.to_datetime(rides['date'], format='%Y-%m-%d')"
   ]
  },
  {
   "cell_type": "markdown",
   "id": "8364e423",
   "metadata": {},
   "source": [
    "**Добавление расчётных столбцов**"
   ]
  },
  {
   "cell_type": "code",
   "execution_count": 7,
   "id": "5be5f456",
   "metadata": {},
   "outputs": [],
   "source": [
    "# создал новый столбец с номером месяца на основе столбца rides['date']\n",
    "\n",
    "rides['month'] = pd.DatetimeIndex(rides['date']).month"
   ]
  },
  {
   "cell_type": "markdown",
   "id": "6b95ba45",
   "metadata": {},
   "source": [
    "**Обработка дубликатов**"
   ]
  },
  {
   "cell_type": "code",
   "execution_count": 8,
   "id": "eec2bd9f",
   "metadata": {},
   "outputs": [
    {
     "name": "stdout",
     "output_type": "stream",
     "text": [
      "Явных дубликатов в исходных данных: 31\n"
     ]
    }
   ],
   "source": [
    "# удалил явные дубликаты\n",
    "\n",
    "print(f'Явных дубликатов в исходных данных: {users.duplicated().sum()}')\n",
    "users = users.drop_duplicates()"
   ]
  },
  {
   "cell_type": "code",
   "execution_count": 9,
   "id": "426902d5",
   "metadata": {},
   "outputs": [
    {
     "name": "stdout",
     "output_type": "stream",
     "text": [
      "user_id \n",
      " [   1    2    3 ... 1532 1533 1534] \n",
      "\n",
      "name \n",
      " ['Агата' 'Аделина' 'Адель' 'Айдар' 'Александр' 'Александра' 'Алексей'\n",
      " 'Алина' 'Алиса' 'Алия' 'Алла' 'Альберт' 'Альбина' 'Алёна' 'Амалия'\n",
      " 'Амина' 'Амир' 'Анастасия' 'Анатолий' 'Ангелина' 'Андрей' 'Анжелика'\n",
      " 'Анна' 'Антон' 'Антонина' 'Ариана' 'Арина' 'Арсен' 'Арсений' 'Артемий'\n",
      " 'Артур' 'Артём' 'Богдан' 'Борис' 'Вадим' 'Валентина' 'Валерий' 'Валерия'\n",
      " 'Варвара' 'Василий' 'Василина' 'Василиса' 'Вера' 'Вероника' 'Виктор'\n",
      " 'Виктория' 'Виолетта' 'Виталий' 'Виталина' 'Влад' 'Влада' 'Владимир'\n",
      " 'Владислав' 'Владислава' 'Всеволод' 'Вячеслав' 'Галина' 'Георгий'\n",
      " 'Герман' 'Глеб' 'Гордей' 'Григорий' 'Давид' 'Дамир' 'Даниил' 'Данил'\n",
      " 'Данила' 'Даниэль' 'Дарина' 'Дарья' 'Демид' 'Денис' 'Диана' 'Дмитрий'\n",
      " 'Ева' 'Евгений' 'Евгения' 'Егор' 'Екатерина' 'Елена' 'Елизавета' 'Елисей'\n",
      " 'Есения' 'Жанна' 'Зарина' 'Захар' 'Злата' 'Иван' 'Игнат' 'Игорь' 'Ильдар'\n",
      " 'Илья' 'Инна' 'Ирина' 'Камилла' 'Карина' 'Каролина' 'Кира' 'Кирилл'\n",
      " 'Константин' 'Кристина' 'Ксения' 'Лариса' 'Лев' 'Леонид' 'Лиана' 'Лидия'\n",
      " 'Лилия' 'Любовь' 'Людмила' 'Мадина' 'Майя' 'Макар' 'Максим' 'Марат'\n",
      " 'Маргарита' 'Марина' 'Мария' 'Марк' 'Марсель' 'Матвей' 'Мелания' 'Милана'\n",
      " 'Милена' 'Мирон' 'Мирослав' 'Мирослава' 'Михаил' 'Назар' 'Наталия'\n",
      " 'Наталья' 'Наташа' 'Нелли' 'Ника' 'Никита' 'Николай' 'Нина' 'Одиссей'\n",
      " 'Оксана' 'Олег' 'Олеся' 'Ольга' 'Павел' 'Петр' 'Платон' 'Полина' 'Радмир'\n",
      " 'Рамиль' 'Регина' 'Роберт' 'Родион' 'Роман' 'Ростислав' 'Руслан' 'Рустам'\n",
      " 'Савелий' 'Самир' 'Самира' 'Светлана' 'Святогор' 'Святослав' 'Семен'\n",
      " 'Сергей' 'Снежана' 'София' 'Софья' 'Станислав' 'Степан' 'Стефания'\n",
      " 'Таисия' 'Тамара' 'Тамерлан' 'Татьяна' 'Тимофей' 'Тимур' 'Тихон' 'Ульяна'\n",
      " 'Федор' 'Эвелина' 'Эдуард' 'Элина' 'Эльвира' 'Эльмира' 'Эмилия' 'Эмиль'\n",
      " 'Юлиана' 'Юлия' 'Юрий' 'Ян' 'Яна' 'Яромир' 'Ярослав' 'Ярослава' 'Ясмина'] \n",
      "\n",
      "age \n",
      " [12 13 14 15 16 17 18 19 20 21 22 23 24 25 26 27 28 29 30 31 32 33 34 35\n",
      " 36 37 38 39 43] \n",
      "\n",
      "city \n",
      " ['Екатеринбург' 'Краснодар' 'Москва' 'Омск' 'Пятигорск' 'Ростов-на-Дону'\n",
      " 'Сочи' 'Тюмень'] \n",
      "\n",
      "subscription_type \n",
      " ['free', 'ultra']\n",
      "Categories (2, object): ['free', 'ultra'] \n",
      "\n",
      "user_id \n",
      " [   1    2    3 ... 1532 1533 1534] \n",
      "\n",
      "distance \n",
      " [8.55682926e-01 2.57078689e+00 4.32950578e+00 ... 6.90849134e+03\n",
      " 7.06600377e+03 7.21100774e+03] \n",
      "\n",
      "duration \n",
      " [ 0.5         2.03563247  2.05325125 ... 39.52660212 39.87385602\n",
      " 40.82396262] \n",
      "\n",
      "date \n",
      " <DatetimeArray>\n",
      "['2021-01-01 00:00:00', '2021-01-02 00:00:00', '2021-01-03 00:00:00',\n",
      " '2021-01-04 00:00:00', '2021-01-05 00:00:00', '2021-01-06 00:00:00',\n",
      " '2021-01-07 00:00:00', '2021-01-08 00:00:00', '2021-01-09 00:00:00',\n",
      " '2021-01-10 00:00:00',\n",
      " ...\n",
      " '2021-12-21 00:00:00', '2021-12-22 00:00:00', '2021-12-23 00:00:00',\n",
      " '2021-12-24 00:00:00', '2021-12-25 00:00:00', '2021-12-26 00:00:00',\n",
      " '2021-12-27 00:00:00', '2021-12-28 00:00:00', '2021-12-29 00:00:00',\n",
      " '2021-12-30 00:00:00']\n",
      "Length: 364, dtype: datetime64[ns] \n",
      "\n",
      "month \n",
      " [ 1  2  3  4  5  6  7  8  9 10 11 12] \n",
      "\n"
     ]
    }
   ],
   "source": [
    "# проверил наличие неявных дубликатов\n",
    "\n",
    "for df in dfs:\n",
    "    for col in df:\n",
    "        print(col, '\\n', df[col].sort_values().unique(), '\\n')\n",
    "        \n",
    "# не обнаружил неявных дубликатов"
   ]
  },
  {
   "cell_type": "code",
   "execution_count": 10,
   "id": "e8bfb0a9",
   "metadata": {},
   "outputs": [],
   "source": [
    "# обновил индекс\n",
    "\n",
    "users = users.reset_index(drop=True)"
   ]
  },
  {
   "cell_type": "markdown",
   "id": "e4498682",
   "metadata": {},
   "source": [
    "**Обработка аномальных значений**"
   ]
  },
  {
   "cell_type": "code",
   "execution_count": 11,
   "id": "a47ad079",
   "metadata": {},
   "outputs": [
    {
     "data": {
      "image/png": "[encoded data removed]",
      "text/plain": [
       "<Figure size 640x480 with 1 Axes>"
      ]
     },
     "metadata": {},
     "output_type": "display_data"
    },
    {
     "data": {
      "image/png": "[encoded data removed]",
      "text/plain": [
       "<Figure size 640x480 with 3 Axes>"
      ]
     },
     "metadata": {},
     "output_type": "display_data"
    }
   ],
   "source": [
    "for df in dfs:\n",
    "    df.drop('user_id', axis=1).plot(kind='box', subplots=True)"
   ]
  },
  {
   "cell_type": "markdown",
   "id": "1b119164",
   "metadata": {},
   "source": [
    "Значения за границами ящика с усами не противоречат логике и могут быть оставлены. Близкие к нулю значения переменных 'distance' и 'duration' могут помочь в анализе проблем с арендой самоката."
   ]
  },
  {
   "cell_type": "markdown",
   "id": "a3252f59",
   "metadata": {},
   "source": [
    "**Выводы**\n",
    "- изменил тип данных переменных *users['subscription_type'], subscriptions['subscription_type'], rides['date']*;\n",
    "- создал новый столбец users['month'] с номером месяца на основе столбца rides['date'];\n",
    "- удалил явные дубликаты в users['user_id];\n",
    "- проверил наличие неявных дубликатов и устранил их;\n",
    "- после преобразований обновил индекс;\n",
    "- проверил наличие аномальных значений и не обнаружил их."
   ]
  },
  {
   "cell_type": "markdown",
   "id": "cb822c73",
   "metadata": {},
   "source": [
    "### Исследовательский анализ данных"
   ]
  },
  {
   "cell_type": "markdown",
   "id": "50a2d596",
   "metadata": {},
   "source": [
    "Опиcание и визуализация общей информации о пользователях и поездках:\n",
    "- 3.1 частота встречаемости городов;\n",
    "- 3.2 соотношение пользователей с подпиской и без подписки;\n",
    "- 3.3 возраст пользователей;\n",
    "- 3.4 расстояние, которое пользователь преодолел за одну поездку;\n",
    "- 3.5 продолжительность поездок."
   ]
  },
  {
   "cell_type": "markdown",
   "id": "e5c307e5",
   "metadata": {},
   "source": [
    "**Частота встречаемости городов**"
   ]
  },
  {
   "cell_type": "code",
   "execution_count": 12,
   "id": "18587b4f",
   "metadata": {},
   "outputs": [
    {
     "data": {
      "text/plain": [
       "city\n",
       "Пятигорск         219\n",
       "Екатеринбург      204\n",
       "Ростов-на-Дону    198\n",
       "Краснодар         193\n",
       "Сочи              189\n",
       "Омск              183\n",
       "Тюмень            180\n",
       "Москва            168\n",
       "Name: count, dtype: int64"
      ]
     },
     "execution_count": 12,
     "metadata": {},
     "output_type": "execute_result"
    }
   ],
   "source": [
    "# посчитал частоту встречаемости городов пользователей\n",
    "\n",
    "users['city'].value_counts()"
   ]
  },
  {
   "cell_type": "code",
   "execution_count": 13,
   "id": "075384c5",
   "metadata": {},
   "outputs": [
    {
     "data": {
      "image/png": "[encoded data removed]",
      "text/plain": [
       "<Figure size 640x480 with 1 Axes>"
      ]
     },
     "metadata": {},
     "output_type": "display_data"
    }
   ],
   "source": [
    "# построил линейчатую диаграмму для визуализации распределения данных о пользователях по городам\n",
    "\n",
    "plt.barh(users['city'].value_counts().index, users['city'].value_counts())\n",
    "plt.title('Распределение данных о пользователях по городам')\n",
    "plt.xlabel('Количесто пользователей')\n",
    "plt.show()"
   ]
  },
  {
   "cell_type": "markdown",
   "id": "56114a4d",
   "metadata": {},
   "source": [
    "Данные были отобраны таким образом, чтобы распределение пользователей по городам было примерно равным — 11-14 %. В выборке больше всего пользователей из Екатеринбурга, а меньше всего — из Москвы."
   ]
  },
  {
   "cell_type": "markdown",
   "id": "7b65bc40",
   "metadata": {},
   "source": [
    "**Соотношение пользователей с подпиской и без подписки**"
   ]
  },
  {
   "cell_type": "code",
   "execution_count": 14,
   "id": "ef6ac25a",
   "metadata": {},
   "outputs": [
    {
     "data": {
      "text/plain": [
       "subscription_type\n",
       "free     835\n",
       "ultra    699\n",
       "Name: count, dtype: int64"
      ]
     },
     "execution_count": 14,
     "metadata": {},
     "output_type": "execute_result"
    }
   ],
   "source": [
    "# посчитал соотношение пользователей с подпиской и без подписки\n",
    "\n",
    "users['subscription_type'].value_counts()"
   ]
  },
  {
   "cell_type": "code",
   "execution_count": 15,
   "id": "0e00febe",
   "metadata": {},
   "outputs": [
    {
     "data": {
      "image/png": "[encoded data removed]",
      "text/plain": [
       "<Figure size 640x480 with 1 Axes>"
      ]
     },
     "metadata": {},
     "output_type": "display_data"
    }
   ],
   "source": [
    "# построил круговую диаграмму для визуализации соотношения данных о пользователях с подпиской и без подписки\n",
    "\n",
    "plt.pie(users['subscription_type'].value_counts(),\n",
    "        labels=users['subscription_type'].value_counts().index,\n",
    "        autopct='%1.f%%')\n",
    "plt.axis('equal')\n",
    "plt.title('Соотношение данных о пользователях с подпиской (ultra) и без подписки (free)')\n",
    "plt.show()"
   ]
  },
  {
   "cell_type": "markdown",
   "id": "fdd012be",
   "metadata": {},
   "source": [
    "Соотношение пользователей с подпиской и без подписки также оказалось примерно равным — 46 на 54 % соответственно."
   ]
  },
  {
   "cell_type": "markdown",
   "id": "bdce8987",
   "metadata": {},
   "source": [
    "**Возраст пользователей**"
   ]
  },
  {
   "cell_type": "code",
   "execution_count": 16,
   "id": "0398e8b8",
   "metadata": {},
   "outputs": [
    {
     "data": {
      "text/plain": [
       "count    1534.000000\n",
       "mean       24.903520\n",
       "std         4.572367\n",
       "min        12.000000\n",
       "25%        22.000000\n",
       "50%        25.000000\n",
       "75%        28.000000\n",
       "max        43.000000\n",
       "Name: age, dtype: float64"
      ]
     },
     "execution_count": 16,
     "metadata": {},
     "output_type": "execute_result"
    }
   ],
   "source": [
    "# вывел описательные статистики возраста пользователей\n",
    "\n",
    "users['age'].describe()"
   ]
  },
  {
   "cell_type": "code",
   "execution_count": 17,
   "id": "d26f4a92",
   "metadata": {},
   "outputs": [
    {
     "data": {
      "image/png": "[encoded data removed]",
      "text/plain": [
       "<Figure size 1000x500 with 1 Axes>"
      ]
     },
     "metadata": {},
     "output_type": "display_data"
    }
   ],
   "source": [
    "# построил столбчатую диаграмму для визуализации распределения пользователей по возрасту\n",
    "\n",
    "plt.figure(figsize=(10, 5))\n",
    "plt.bar(users['age'].value_counts().sort_index().index, users['age'].value_counts().sort_index().values)\n",
    "plt.xlabel('Возраст пользователя')\n",
    "plt.ylabel('Количество пользователей')\n",
    "plt.title('Распределение пользователей по возрасту')\n",
    "plt.xticks(users['age'].value_counts().sort_index().index)\n",
    "plt.show()"
   ]
  },
  {
   "cell_type": "markdown",
   "id": "a1751049",
   "metadata": {},
   "source": [
    "Распределение пользователей по возрасту показало, что услугами GoFast каким-то образом могут пользоваться несовершеннолетние пользователи. Размах выборки равен 31 году, самому возрастному пользователю было 43 года. Распределение похоже на нормальное с ярко выраженными средним значением и медианой (25 лет). Стандартное отклонение 4.57 лет говорит об относительно маленьком разбросе данных вокруг среднего значения, то есть об относительное плотности распределения."
   ]
  },
  {
   "cell_type": "markdown",
   "id": "45f7c834",
   "metadata": {},
   "source": [
    "**Расстояние, которое пользователь преодолел за одну поездку**"
   ]
  },
  {
   "cell_type": "code",
   "execution_count": 18,
   "id": "76287960",
   "metadata": {},
   "outputs": [
    {
     "data": {
      "text/plain": [
       "count    18068.000000\n",
       "mean      3070.659976\n",
       "std       1116.831209\n",
       "min          0.855683\n",
       "25%       2543.226360\n",
       "50%       3133.609994\n",
       "75%       3776.222735\n",
       "max       7211.007745\n",
       "Name: distance, dtype: float64"
      ]
     },
     "execution_count": 18,
     "metadata": {},
     "output_type": "execute_result"
    }
   ],
   "source": [
    "# вывел описательные статистики расстояния поездок\n",
    "\n",
    "rides['distance'].describe()"
   ]
  },
  {
   "cell_type": "code",
   "execution_count": 19,
   "id": "67506991",
   "metadata": {},
   "outputs": [
    {
     "data": {
      "image/png": "[encoded data removed]",
      "text/plain": [
       "<Figure size 640x480 with 1 Axes>"
      ]
     },
     "metadata": {},
     "output_type": "display_data"
    }
   ],
   "source": [
    "# построил гистограмму для распределния данных о расстоянии одной поездки\n",
    "\n",
    "plt.hist(rides['distance'], bins=30)\n",
    "plt.xlabel('Расстояние одной поездки, м')\n",
    "plt.ylabel('Количество поездок')\n",
    "plt.title('Распределение данных о расстоянии одной поездки')\n",
    "plt.show()"
   ]
  },
  {
   "cell_type": "markdown",
   "id": "8ddeb0c0",
   "metadata": {},
   "source": [
    "Распределение поездок по расстоянию показало распределение, близкое к нормальному, но смещённое к малым значениям. Можно выделить два интервала: поездки на короткое расстояние (0, 1500) и поездки на длинное расстояние (1500, 7000).\n",
    "\n",
    "Среднее значение (3071) и медиана (3134) достаточно близки, и меньшее среднее подтверждает гипотезу о смешённости данных влево. Самая длинная по расстоянию поездка равняется 7,21 км, а самая малая — 0 м (то есть решение о поездке было сразу же изменено, или возникли трудности с арендой самоката)."
   ]
  },
  {
   "cell_type": "markdown",
   "id": "f5198b10",
   "metadata": {},
   "source": [
    "**Продолжительность поездок**"
   ]
  },
  {
   "cell_type": "code",
   "execution_count": 20,
   "id": "a121b120",
   "metadata": {},
   "outputs": [
    {
     "data": {
      "text/plain": [
       "count    18068.000000\n",
       "mean        17.805011\n",
       "std          6.091051\n",
       "min          0.500000\n",
       "25%         13.597563\n",
       "50%         17.678395\n",
       "75%         21.724800\n",
       "max         40.823963\n",
       "Name: duration, dtype: float64"
      ]
     },
     "execution_count": 20,
     "metadata": {},
     "output_type": "execute_result"
    }
   ],
   "source": [
    "# вывел описательные статистики продолжительности поездок\n",
    "\n",
    "rides['duration'].describe()"
   ]
  },
  {
   "cell_type": "code",
   "execution_count": 21,
   "id": "a38c6bff",
   "metadata": {},
   "outputs": [
    {
     "data": {
      "image/png": "[encoded data removed]",
      "text/plain": [
       "<Figure size 640x480 with 1 Axes>"
      ]
     },
     "metadata": {},
     "output_type": "display_data"
    }
   ],
   "source": [
    "# построил гистограмму для распределния данных о продолжительности поездки\n",
    "\n",
    "plt.hist(rides['duration'], bins=40)\n",
    "plt.xlabel('Продолжительность поездки')\n",
    "plt.ylabel('Количество поездок')\n",
    "plt.title('Распределение данных о продолжительности поездки')\n",
    "plt.show()"
   ]
  },
  {
   "cell_type": "markdown",
   "id": "92bcdab4",
   "metadata": {},
   "source": [
    "Распределение данных о продолжительности поездки близко к нормальному. Как и в данных о расстоянии поездок, при малых значениях, в интервале от 0 до 2 минут наблюдается локальный максимум, связанный предположительно с техническими трудностями при аренде самоката.\n",
    "\n",
    "Средняя (17,8 минут) и медианная (17,7) продолжительность поездки примерно равны. Самая долгая по времени поездка равна 41 минуте."
   ]
  },
  {
   "cell_type": "markdown",
   "id": "5a6eaa91",
   "metadata": {},
   "source": [
    "**Выводы**\n",
    "\n",
    "- Зафиксирован принцип формирования выборки по географическому принципу и по наличию подписки;\n",
    "- Зафиксировано близкое к нормальное распредление непрерывных переменных, что позволяет продолжить анализ с выполнением теоретических предпосылок;\n",
    "- Зафиксирована проблема, в которой нужно разбираться подробнее: короткие поездки до 2 минут или до 1500 м."
   ]
  },
  {
   "cell_type": "markdown",
   "id": "da2a895e",
   "metadata": {},
   "source": [
    "### Объединение данных"
   ]
  },
  {
   "cell_type": "markdown",
   "id": "bb9f2731",
   "metadata": {},
   "source": [
    "**Манипуляции с датафреймами**"
   ]
  },
  {
   "cell_type": "code",
   "execution_count": 22,
   "id": "cf047d54",
   "metadata": {},
   "outputs": [
    {
     "data": {
      "text/html": [
       "<div>\n",
       "<style scoped>\n",
       "    .dataframe tbody tr th:only-of-type {\n",
       "        vertical-align: middle;\n",
       "    }\n",
       "\n",
       "    .dataframe tbody tr th {\n",
       "        vertical-align: top;\n",
       "    }\n",
       "\n",
       "    .dataframe thead th {\n",
       "        text-align: right;\n",
       "    }\n",
       "</style>\n",
       "<table border=\"1\" class=\"dataframe\">\n",
       "  <thead>\n",
       "    <tr style=\"text-align: right;\">\n",
       "      <th></th>\n",
       "      <th>user_id</th>\n",
       "      <th>name</th>\n",
       "      <th>age</th>\n",
       "      <th>city</th>\n",
       "      <th>subscription_type</th>\n",
       "      <th>distance</th>\n",
       "      <th>duration</th>\n",
       "      <th>date</th>\n",
       "      <th>month</th>\n",
       "      <th>minute_price</th>\n",
       "      <th>start_ride_price</th>\n",
       "      <th>subscription_fee</th>\n",
       "    </tr>\n",
       "  </thead>\n",
       "  <tbody>\n",
       "    <tr>\n",
       "      <th>0</th>\n",
       "      <td>1</td>\n",
       "      <td>Кира</td>\n",
       "      <td>22</td>\n",
       "      <td>Тюмень</td>\n",
       "      <td>ultra</td>\n",
       "      <td>4409.919140</td>\n",
       "      <td>25.599769</td>\n",
       "      <td>2021-01-01</td>\n",
       "      <td>1</td>\n",
       "      <td>6</td>\n",
       "      <td>0</td>\n",
       "      <td>199</td>\n",
       "    </tr>\n",
       "    <tr>\n",
       "      <th>1</th>\n",
       "      <td>1</td>\n",
       "      <td>Кира</td>\n",
       "      <td>22</td>\n",
       "      <td>Тюмень</td>\n",
       "      <td>ultra</td>\n",
       "      <td>2617.592153</td>\n",
       "      <td>15.816871</td>\n",
       "      <td>2021-01-18</td>\n",
       "      <td>1</td>\n",
       "      <td>6</td>\n",
       "      <td>0</td>\n",
       "      <td>199</td>\n",
       "    </tr>\n",
       "    <tr>\n",
       "      <th>2</th>\n",
       "      <td>1</td>\n",
       "      <td>Кира</td>\n",
       "      <td>22</td>\n",
       "      <td>Тюмень</td>\n",
       "      <td>ultra</td>\n",
       "      <td>754.159807</td>\n",
       "      <td>6.232113</td>\n",
       "      <td>2021-04-20</td>\n",
       "      <td>4</td>\n",
       "      <td>6</td>\n",
       "      <td>0</td>\n",
       "      <td>199</td>\n",
       "    </tr>\n",
       "    <tr>\n",
       "      <th>3</th>\n",
       "      <td>1</td>\n",
       "      <td>Кира</td>\n",
       "      <td>22</td>\n",
       "      <td>Тюмень</td>\n",
       "      <td>ultra</td>\n",
       "      <td>2694.783254</td>\n",
       "      <td>18.511000</td>\n",
       "      <td>2021-08-11</td>\n",
       "      <td>8</td>\n",
       "      <td>6</td>\n",
       "      <td>0</td>\n",
       "      <td>199</td>\n",
       "    </tr>\n",
       "    <tr>\n",
       "      <th>4</th>\n",
       "      <td>1</td>\n",
       "      <td>Кира</td>\n",
       "      <td>22</td>\n",
       "      <td>Тюмень</td>\n",
       "      <td>ultra</td>\n",
       "      <td>4028.687306</td>\n",
       "      <td>26.265803</td>\n",
       "      <td>2021-08-28</td>\n",
       "      <td>8</td>\n",
       "      <td>6</td>\n",
       "      <td>0</td>\n",
       "      <td>199</td>\n",
       "    </tr>\n",
       "    <tr>\n",
       "      <th>...</th>\n",
       "      <td>...</td>\n",
       "      <td>...</td>\n",
       "      <td>...</td>\n",
       "      <td>...</td>\n",
       "      <td>...</td>\n",
       "      <td>...</td>\n",
       "      <td>...</td>\n",
       "      <td>...</td>\n",
       "      <td>...</td>\n",
       "      <td>...</td>\n",
       "      <td>...</td>\n",
       "      <td>...</td>\n",
       "    </tr>\n",
       "    <tr>\n",
       "      <th>18063</th>\n",
       "      <td>1534</td>\n",
       "      <td>Альберт</td>\n",
       "      <td>25</td>\n",
       "      <td>Краснодар</td>\n",
       "      <td>free</td>\n",
       "      <td>3781.098080</td>\n",
       "      <td>19.822962</td>\n",
       "      <td>2021-11-04</td>\n",
       "      <td>11</td>\n",
       "      <td>8</td>\n",
       "      <td>50</td>\n",
       "      <td>0</td>\n",
       "    </tr>\n",
       "    <tr>\n",
       "      <th>18064</th>\n",
       "      <td>1534</td>\n",
       "      <td>Альберт</td>\n",
       "      <td>25</td>\n",
       "      <td>Краснодар</td>\n",
       "      <td>free</td>\n",
       "      <td>2840.423057</td>\n",
       "      <td>21.409799</td>\n",
       "      <td>2021-11-16</td>\n",
       "      <td>11</td>\n",
       "      <td>8</td>\n",
       "      <td>50</td>\n",
       "      <td>0</td>\n",
       "    </tr>\n",
       "    <tr>\n",
       "      <th>18065</th>\n",
       "      <td>1534</td>\n",
       "      <td>Альберт</td>\n",
       "      <td>25</td>\n",
       "      <td>Краснодар</td>\n",
       "      <td>free</td>\n",
       "      <td>3826.185507</td>\n",
       "      <td>18.435051</td>\n",
       "      <td>2021-11-18</td>\n",
       "      <td>11</td>\n",
       "      <td>8</td>\n",
       "      <td>50</td>\n",
       "      <td>0</td>\n",
       "    </tr>\n",
       "    <tr>\n",
       "      <th>18066</th>\n",
       "      <td>1534</td>\n",
       "      <td>Альберт</td>\n",
       "      <td>25</td>\n",
       "      <td>Краснодар</td>\n",
       "      <td>free</td>\n",
       "      <td>2902.308661</td>\n",
       "      <td>16.674362</td>\n",
       "      <td>2021-11-27</td>\n",
       "      <td>11</td>\n",
       "      <td>8</td>\n",
       "      <td>50</td>\n",
       "      <td>0</td>\n",
       "    </tr>\n",
       "    <tr>\n",
       "      <th>18067</th>\n",
       "      <td>1534</td>\n",
       "      <td>Альберт</td>\n",
       "      <td>25</td>\n",
       "      <td>Краснодар</td>\n",
       "      <td>free</td>\n",
       "      <td>2371.711192</td>\n",
       "      <td>15.893917</td>\n",
       "      <td>2021-12-29</td>\n",
       "      <td>12</td>\n",
       "      <td>8</td>\n",
       "      <td>50</td>\n",
       "      <td>0</td>\n",
       "    </tr>\n",
       "  </tbody>\n",
       "</table>\n",
       "<p>18068 rows × 12 columns</p>\n",
       "</div>"
      ],
      "text/plain": [
       "       user_id     name  age       city subscription_type     distance  \\\n",
       "0            1     Кира   22     Тюмень             ultra  4409.919140   \n",
       "1            1     Кира   22     Тюмень             ultra  2617.592153   \n",
       "2            1     Кира   22     Тюмень             ultra   754.159807   \n",
       "3            1     Кира   22     Тюмень             ultra  2694.783254   \n",
       "4            1     Кира   22     Тюмень             ultra  4028.687306   \n",
       "...        ...      ...  ...        ...               ...          ...   \n",
       "18063     1534  Альберт   25  Краснодар              free  3781.098080   \n",
       "18064     1534  Альберт   25  Краснодар              free  2840.423057   \n",
       "18065     1534  Альберт   25  Краснодар              free  3826.185507   \n",
       "18066     1534  Альберт   25  Краснодар              free  2902.308661   \n",
       "18067     1534  Альберт   25  Краснодар              free  2371.711192   \n",
       "\n",
       "        duration       date  month  minute_price  start_ride_price  \\\n",
       "0      25.599769 2021-01-01      1             6                 0   \n",
       "1      15.816871 2021-01-18      1             6                 0   \n",
       "2       6.232113 2021-04-20      4             6                 0   \n",
       "3      18.511000 2021-08-11      8             6                 0   \n",
       "4      26.265803 2021-08-28      8             6                 0   \n",
       "...          ...        ...    ...           ...               ...   \n",
       "18063  19.822962 2021-11-04     11             8                50   \n",
       "18064  21.409799 2021-11-16     11             8                50   \n",
       "18065  18.435051 2021-11-18     11             8                50   \n",
       "18066  16.674362 2021-11-27     11             8                50   \n",
       "18067  15.893917 2021-12-29     12             8                50   \n",
       "\n",
       "       subscription_fee  \n",
       "0                   199  \n",
       "1                   199  \n",
       "2                   199  \n",
       "3                   199  \n",
       "4                   199  \n",
       "...                 ...  \n",
       "18063                 0  \n",
       "18064                 0  \n",
       "18065                 0  \n",
       "18066                 0  \n",
       "18067                 0  \n",
       "\n",
       "[18068 rows x 12 columns]"
      ]
     },
     "execution_count": 22,
     "metadata": {},
     "output_type": "execute_result"
    }
   ],
   "source": [
    "# создал общий датафрейм\n",
    "\n",
    "df = pd.merge(pd.merge(users, rides, on='user_id'), subscriptions, on='subscription_type')\n",
    "df"
   ]
  },
  {
   "cell_type": "code",
   "execution_count": 23,
   "id": "31a50225",
   "metadata": {
    "scrolled": true
   },
   "outputs": [],
   "source": [
    "# разделил датафрейм по наличию/отсутствию подписки\n",
    "\n",
    "df_free = df[df['subscription_type'] == 'free']\n",
    "df_ultra = df[df['subscription_type'] == 'ultra']"
   ]
  },
  {
   "cell_type": "markdown",
   "id": "856fab7f",
   "metadata": {},
   "source": [
    "**Сравнение даннных по длительности и расстоянию поездок в зависимости от наличия/отсутствия подписки**"
   ]
  },
  {
   "cell_type": "code",
   "execution_count": 24,
   "id": "d4f03a2b",
   "metadata": {},
   "outputs": [
    {
     "data": {
      "image/png": "[encoded data removed]",
      "text/plain": [
       "<Figure size 640x480 with 1 Axes>"
      ]
     },
     "metadata": {},
     "output_type": "display_data"
    },
    {
     "data": {
      "image/png": "[encoded data removed]",
      "text/plain": [
       "<Figure size 640x480 with 1 Axes>"
      ]
     },
     "metadata": {},
     "output_type": "display_data"
    },
    {
     "data": {
      "text/html": [
       "<div>\n",
       "<style scoped>\n",
       "    .dataframe tbody tr th:only-of-type {\n",
       "        vertical-align: middle;\n",
       "    }\n",
       "\n",
       "    .dataframe tbody tr th {\n",
       "        vertical-align: top;\n",
       "    }\n",
       "\n",
       "    .dataframe thead th {\n",
       "        text-align: right;\n",
       "    }\n",
       "</style>\n",
       "<table border=\"1\" class=\"dataframe\">\n",
       "  <thead>\n",
       "    <tr style=\"text-align: right;\">\n",
       "      <th></th>\n",
       "      <th>free — distance</th>\n",
       "      <th>ultra — distance</th>\n",
       "      <th>free — duration</th>\n",
       "      <th>ultra — duration</th>\n",
       "    </tr>\n",
       "  </thead>\n",
       "  <tbody>\n",
       "    <tr>\n",
       "      <th>count</th>\n",
       "      <td>11568.000000</td>\n",
       "      <td>6500.000000</td>\n",
       "      <td>11568.000000</td>\n",
       "      <td>6500.000000</td>\n",
       "    </tr>\n",
       "    <tr>\n",
       "      <th>mean</th>\n",
       "      <td>3045.495282</td>\n",
       "      <td>3115.445388</td>\n",
       "      <td>17.390909</td>\n",
       "      <td>18.541985</td>\n",
       "    </tr>\n",
       "    <tr>\n",
       "      <th>std</th>\n",
       "      <td>1246.173806</td>\n",
       "      <td>836.895330</td>\n",
       "      <td>6.326803</td>\n",
       "      <td>5.572048</td>\n",
       "    </tr>\n",
       "    <tr>\n",
       "      <th>min</th>\n",
       "      <td>0.855683</td>\n",
       "      <td>244.210438</td>\n",
       "      <td>0.500000</td>\n",
       "      <td>3.760353</td>\n",
       "    </tr>\n",
       "    <tr>\n",
       "      <th>25%</th>\n",
       "      <td>2366.562689</td>\n",
       "      <td>2785.444017</td>\n",
       "      <td>12.958437</td>\n",
       "      <td>14.524654</td>\n",
       "    </tr>\n",
       "    <tr>\n",
       "      <th>50%</th>\n",
       "      <td>3114.648465</td>\n",
       "      <td>3148.637229</td>\n",
       "      <td>17.326890</td>\n",
       "      <td>18.178153</td>\n",
       "    </tr>\n",
       "    <tr>\n",
       "      <th>75%</th>\n",
       "      <td>3905.697894</td>\n",
       "      <td>3560.574425</td>\n",
       "      <td>21.594071</td>\n",
       "      <td>21.884129</td>\n",
       "    </tr>\n",
       "    <tr>\n",
       "      <th>max</th>\n",
       "      <td>7211.007745</td>\n",
       "      <td>5699.769662</td>\n",
       "      <td>34.948498</td>\n",
       "      <td>40.823963</td>\n",
       "    </tr>\n",
       "  </tbody>\n",
       "</table>\n",
       "</div>"
      ],
      "text/plain": [
       "       free — distance  ultra — distance  free — duration  ultra — duration\n",
       "count     11568.000000       6500.000000     11568.000000       6500.000000\n",
       "mean       3045.495282       3115.445388        17.390909         18.541985\n",
       "std        1246.173806        836.895330         6.326803          5.572048\n",
       "min           0.855683        244.210438         0.500000          3.760353\n",
       "25%        2366.562689       2785.444017        12.958437         14.524654\n",
       "50%        3114.648465       3148.637229        17.326890         18.178153\n",
       "75%        3905.697894       3560.574425        21.594071         21.884129\n",
       "max        7211.007745       5699.769662        34.948498         40.823963"
      ]
     },
     "execution_count": 24,
     "metadata": {},
     "output_type": "execute_result"
    }
   ],
   "source": [
    "# создал списки для оптимизации кода\n",
    "columns = ['distance', 'duration']\n",
    "titles = ['Сравнение распределения расстояния поездок в зависимости от наличия подписки у пользователя',\n",
    "          'Сравнение распределения длительности поездок в зависимости от наличия подписки у пользователя']\n",
    "subscription_types = ['free', 'ultra']\n",
    "\n",
    "# создал пустой датафрейм для удобного вывода описательных статистик\n",
    "describe_df = pd.DataFrame()\n",
    "\n",
    "# создал цикл для построения гистограммы и вывода описательных статистик\n",
    "for column in columns:\n",
    "    for subscription in subscription_types:\n",
    "        \n",
    "        # создал развилку в зависимости от наличия/отсутствия подписки у пользователя\n",
    "        df_to_choose = df_free if subscription == 'free' else df_ultra\n",
    "\n",
    "        # получил описательные статистики для текущего статуса подписки у пользователя\n",
    "        describe_output = df_to_choose[column].describe().rename(f'{subscription} — {column}')\n",
    "\n",
    "        # добавил описательные статистики в пустой датафрейм\n",
    "        describe_df = pd.concat([describe_df, describe_output], axis=1)\n",
    "\n",
    "    # создал список переменных для гистограммы\n",
    "    data = [df_free[column], df_ultra[column]]\n",
    "\n",
    "    # построил гистограмму\n",
    "    plt.hist(data, bins=50, label=subscription_types)\n",
    "    plt.xlabel(column)\n",
    "    plt.ylabel('Количество поездок')\n",
    "    plt.title(titles[columns.index(column)])\n",
    "    plt.legend()\n",
    "    plt.show()\n",
    "\n",
    "describe_df"
   ]
  },
  {
   "cell_type": "markdown",
   "id": "9b3679b0",
   "metadata": {},
   "source": [
    "**Выводы**\n",
    "- В данных о расстоянии поездок пользователей с подпиской заметно более плотное распределение, меньшее стандартное отклонение и однозначно определённая мода, что может говорить о соответствии целей, для которых подписка была куплена, реальному использованию подписки. То есть пользователь мог предполагать, что будет ездить на расстояние от 2000 до 5000 м, и поэтому затраты на подписку окупятся. С другой стороны, при налчии подписки пользователь может чаще предпочитать GoFast другим компаниям или видам транспорта, чтобы \"оправдать\" затраты на подписку;\n",
    "- На поездках с расстоянием менее 2000 м заметны паттерны поведения пользователей:\n",
    " - пользователи с подпиской не катаются на расстояния меньше 500 м, а пользователи без подписки, в том числе новые пользователи, пробуют самокат GoFast на коротких расстояних;\n",
    " - независимо от наличия подписки, пользователи используют самокат для коротких и для длинных поездок. Для пользователей без подписки, длинные поездки начинаются с отметки 1500 м; для пользователей с подпиской — с 2000 м;\n",
    " - несмотря на наличие подписки, её обладатели почти не катаются на расстояние более 5000 м. Пользователи без подписки чаще катаются на такие расстояния;\n",
    "- В данных о длительности поездок наличие подписки не влияет на распределения — они очень похожи;\n",
    "- У пользователей без подписки заметно большое количество поездок менее 2 минут, что говорит об их трудностях с арендой самоката или с управлением им."
   ]
  },
  {
   "cell_type": "markdown",
   "id": "eb65464e",
   "metadata": {},
   "source": [
    "### Подсчёт выручки"
   ]
  },
  {
   "cell_type": "markdown",
   "id": "2ad83c2b",
   "metadata": {},
   "source": [
    "**Создание датафрейма с агрегированными данными о поездках на основе общего датафрейма**"
   ]
  },
  {
   "cell_type": "code",
   "execution_count": 25,
   "id": "f86c92c0",
   "metadata": {},
   "outputs": [],
   "source": [
    "# округлим в большую сторону длительность поездок в объединённом датафрейме\n",
    "\n",
    "df['duration'] = np.ceil(df['duration']) "
   ]
  },
  {
   "cell_type": "code",
   "execution_count": 26,
   "id": "ecde3053",
   "metadata": {},
   "outputs": [
    {
     "data": {
      "text/html": [
       "<div>\n",
       "<style scoped>\n",
       "    .dataframe tbody tr th:only-of-type {\n",
       "        vertical-align: middle;\n",
       "    }\n",
       "\n",
       "    .dataframe tbody tr th {\n",
       "        vertical-align: top;\n",
       "    }\n",
       "\n",
       "    .dataframe thead th {\n",
       "        text-align: right;\n",
       "    }\n",
       "</style>\n",
       "<table border=\"1\" class=\"dataframe\">\n",
       "  <thead>\n",
       "    <tr style=\"text-align: right;\">\n",
       "      <th></th>\n",
       "      <th>user_id</th>\n",
       "      <th>month</th>\n",
       "      <th>rides_count</th>\n",
       "      <th>distance_sum</th>\n",
       "      <th>duration_sum</th>\n",
       "      <th>name</th>\n",
       "      <th>age</th>\n",
       "      <th>city</th>\n",
       "      <th>subscription_type</th>\n",
       "      <th>minute_price</th>\n",
       "      <th>start_ride_price</th>\n",
       "      <th>subscription_fee</th>\n",
       "    </tr>\n",
       "  </thead>\n",
       "  <tbody>\n",
       "    <tr>\n",
       "      <th>0</th>\n",
       "      <td>1</td>\n",
       "      <td>1</td>\n",
       "      <td>2</td>\n",
       "      <td>7027.511294</td>\n",
       "      <td>42.0</td>\n",
       "      <td>Кира</td>\n",
       "      <td>22</td>\n",
       "      <td>Тюмень</td>\n",
       "      <td>ultra</td>\n",
       "      <td>6</td>\n",
       "      <td>0</td>\n",
       "      <td>199</td>\n",
       "    </tr>\n",
       "    <tr>\n",
       "      <th>1</th>\n",
       "      <td>1</td>\n",
       "      <td>4</td>\n",
       "      <td>1</td>\n",
       "      <td>754.159807</td>\n",
       "      <td>7.0</td>\n",
       "      <td>Кира</td>\n",
       "      <td>22</td>\n",
       "      <td>Тюмень</td>\n",
       "      <td>ultra</td>\n",
       "      <td>6</td>\n",
       "      <td>0</td>\n",
       "      <td>199</td>\n",
       "    </tr>\n",
       "    <tr>\n",
       "      <th>2</th>\n",
       "      <td>1</td>\n",
       "      <td>8</td>\n",
       "      <td>2</td>\n",
       "      <td>6723.470560</td>\n",
       "      <td>46.0</td>\n",
       "      <td>Кира</td>\n",
       "      <td>22</td>\n",
       "      <td>Тюмень</td>\n",
       "      <td>ultra</td>\n",
       "      <td>6</td>\n",
       "      <td>0</td>\n",
       "      <td>199</td>\n",
       "    </tr>\n",
       "    <tr>\n",
       "      <th>3</th>\n",
       "      <td>1</td>\n",
       "      <td>10</td>\n",
       "      <td>2</td>\n",
       "      <td>5809.911100</td>\n",
       "      <td>32.0</td>\n",
       "      <td>Кира</td>\n",
       "      <td>22</td>\n",
       "      <td>Тюмень</td>\n",
       "      <td>ultra</td>\n",
       "      <td>6</td>\n",
       "      <td>0</td>\n",
       "      <td>199</td>\n",
       "    </tr>\n",
       "    <tr>\n",
       "      <th>4</th>\n",
       "      <td>1</td>\n",
       "      <td>11</td>\n",
       "      <td>3</td>\n",
       "      <td>7003.499363</td>\n",
       "      <td>56.0</td>\n",
       "      <td>Кира</td>\n",
       "      <td>22</td>\n",
       "      <td>Тюмень</td>\n",
       "      <td>ultra</td>\n",
       "      <td>6</td>\n",
       "      <td>0</td>\n",
       "      <td>199</td>\n",
       "    </tr>\n",
       "    <tr>\n",
       "      <th>...</th>\n",
       "      <td>...</td>\n",
       "      <td>...</td>\n",
       "      <td>...</td>\n",
       "      <td>...</td>\n",
       "      <td>...</td>\n",
       "      <td>...</td>\n",
       "      <td>...</td>\n",
       "      <td>...</td>\n",
       "      <td>...</td>\n",
       "      <td>...</td>\n",
       "      <td>...</td>\n",
       "      <td>...</td>\n",
       "    </tr>\n",
       "    <tr>\n",
       "      <th>11326</th>\n",
       "      <td>1534</td>\n",
       "      <td>6</td>\n",
       "      <td>2</td>\n",
       "      <td>3409.468534</td>\n",
       "      <td>26.0</td>\n",
       "      <td>Альберт</td>\n",
       "      <td>25</td>\n",
       "      <td>Краснодар</td>\n",
       "      <td>free</td>\n",
       "      <td>8</td>\n",
       "      <td>50</td>\n",
       "      <td>0</td>\n",
       "    </tr>\n",
       "    <tr>\n",
       "      <th>11327</th>\n",
       "      <td>1534</td>\n",
       "      <td>8</td>\n",
       "      <td>2</td>\n",
       "      <td>7622.453034</td>\n",
       "      <td>48.0</td>\n",
       "      <td>Альберт</td>\n",
       "      <td>25</td>\n",
       "      <td>Краснодар</td>\n",
       "      <td>free</td>\n",
       "      <td>8</td>\n",
       "      <td>50</td>\n",
       "      <td>0</td>\n",
       "    </tr>\n",
       "    <tr>\n",
       "      <th>11328</th>\n",
       "      <td>1534</td>\n",
       "      <td>9</td>\n",
       "      <td>1</td>\n",
       "      <td>4928.173852</td>\n",
       "      <td>23.0</td>\n",
       "      <td>Альберт</td>\n",
       "      <td>25</td>\n",
       "      <td>Краснодар</td>\n",
       "      <td>free</td>\n",
       "      <td>8</td>\n",
       "      <td>50</td>\n",
       "      <td>0</td>\n",
       "    </tr>\n",
       "    <tr>\n",
       "      <th>11329</th>\n",
       "      <td>1534</td>\n",
       "      <td>11</td>\n",
       "      <td>4</td>\n",
       "      <td>13350.015305</td>\n",
       "      <td>78.0</td>\n",
       "      <td>Альберт</td>\n",
       "      <td>25</td>\n",
       "      <td>Краснодар</td>\n",
       "      <td>free</td>\n",
       "      <td>8</td>\n",
       "      <td>50</td>\n",
       "      <td>0</td>\n",
       "    </tr>\n",
       "    <tr>\n",
       "      <th>11330</th>\n",
       "      <td>1534</td>\n",
       "      <td>12</td>\n",
       "      <td>1</td>\n",
       "      <td>2371.711192</td>\n",
       "      <td>16.0</td>\n",
       "      <td>Альберт</td>\n",
       "      <td>25</td>\n",
       "      <td>Краснодар</td>\n",
       "      <td>free</td>\n",
       "      <td>8</td>\n",
       "      <td>50</td>\n",
       "      <td>0</td>\n",
       "    </tr>\n",
       "  </tbody>\n",
       "</table>\n",
       "<p>11331 rows × 12 columns</p>\n",
       "</div>"
      ],
      "text/plain": [
       "       user_id  month  rides_count  distance_sum  duration_sum     name  age  \\\n",
       "0            1      1            2   7027.511294          42.0     Кира   22   \n",
       "1            1      4            1    754.159807           7.0     Кира   22   \n",
       "2            1      8            2   6723.470560          46.0     Кира   22   \n",
       "3            1     10            2   5809.911100          32.0     Кира   22   \n",
       "4            1     11            3   7003.499363          56.0     Кира   22   \n",
       "...        ...    ...          ...           ...           ...      ...  ...   \n",
       "11326     1534      6            2   3409.468534          26.0  Альберт   25   \n",
       "11327     1534      8            2   7622.453034          48.0  Альберт   25   \n",
       "11328     1534      9            1   4928.173852          23.0  Альберт   25   \n",
       "11329     1534     11            4  13350.015305          78.0  Альберт   25   \n",
       "11330     1534     12            1   2371.711192          16.0  Альберт   25   \n",
       "\n",
       "            city subscription_type  minute_price  start_ride_price  \\\n",
       "0         Тюмень             ultra             6                 0   \n",
       "1         Тюмень             ultra             6                 0   \n",
       "2         Тюмень             ultra             6                 0   \n",
       "3         Тюмень             ultra             6                 0   \n",
       "4         Тюмень             ultra             6                 0   \n",
       "...          ...               ...           ...               ...   \n",
       "11326  Краснодар              free             8                50   \n",
       "11327  Краснодар              free             8                50   \n",
       "11328  Краснодар              free             8                50   \n",
       "11329  Краснодар              free             8                50   \n",
       "11330  Краснодар              free             8                50   \n",
       "\n",
       "       subscription_fee  \n",
       "0                   199  \n",
       "1                   199  \n",
       "2                   199  \n",
       "3                   199  \n",
       "4                   199  \n",
       "...                 ...  \n",
       "11326                 0  \n",
       "11327                 0  \n",
       "11328                 0  \n",
       "11329                 0  \n",
       "11330                 0  \n",
       "\n",
       "[11331 rows x 12 columns]"
      ]
     },
     "execution_count": 26,
     "metadata": {},
     "output_type": "execute_result"
    }
   ],
   "source": [
    "new_df = (df.groupby(['user_id', 'month'])\n",
    "          .agg({'user_id': 'count',\n",
    "                'distance': 'sum',\n",
    "                'duration': 'sum',\n",
    "                'name': 'first',\n",
    "                'age': 'first',\n",
    "                'city': 'first',\n",
    "                'subscription_type': 'first',\n",
    "                'minute_price': 'first',\n",
    "                'start_ride_price': 'first',\n",
    "                'subscription_fee': 'first'})\n",
    "          .rename(columns={'user_id': 'rides_count',\n",
    "                           'distance': 'distance_sum',\n",
    "                           'duration': 'duration_sum'})\n",
    "          .reset_index())\n",
    "new_df"
   ]
  },
  {
   "cell_type": "markdown",
   "id": "dc8be760",
   "metadata": {},
   "source": [
    "**Добавление расчётного столбца с помесячной выручкой**\n",
    "\n",
    "Помесячная выручка =\n",
    "<br> стоимость старта поездки ×  количество поездок\n",
    "<br>+\n",
    "<br>стоимость одной минуты поездки × общая продолжительность всех поездок в минутах)\n",
    "<br>+\n",
    "<br>стоимость подписки"
   ]
  },
  {
   "cell_type": "code",
   "execution_count": 27,
   "id": "cd538f98",
   "metadata": {},
   "outputs": [
    {
     "data": {
      "text/html": [
       "<div>\n",
       "<style scoped>\n",
       "    .dataframe tbody tr th:only-of-type {\n",
       "        vertical-align: middle;\n",
       "    }\n",
       "\n",
       "    .dataframe tbody tr th {\n",
       "        vertical-align: top;\n",
       "    }\n",
       "\n",
       "    .dataframe thead th {\n",
       "        text-align: right;\n",
       "    }\n",
       "</style>\n",
       "<table border=\"1\" class=\"dataframe\">\n",
       "  <thead>\n",
       "    <tr style=\"text-align: right;\">\n",
       "      <th></th>\n",
       "      <th>user_id</th>\n",
       "      <th>month</th>\n",
       "      <th>rides_count</th>\n",
       "      <th>distance_sum</th>\n",
       "      <th>duration_sum</th>\n",
       "      <th>name</th>\n",
       "      <th>age</th>\n",
       "      <th>city</th>\n",
       "      <th>subscription_type</th>\n",
       "      <th>minute_price</th>\n",
       "      <th>start_ride_price</th>\n",
       "      <th>subscription_fee</th>\n",
       "      <th>monthly_revenue</th>\n",
       "    </tr>\n",
       "  </thead>\n",
       "  <tbody>\n",
       "    <tr>\n",
       "      <th>0</th>\n",
       "      <td>1</td>\n",
       "      <td>1</td>\n",
       "      <td>2</td>\n",
       "      <td>7027.511294</td>\n",
       "      <td>42.0</td>\n",
       "      <td>Кира</td>\n",
       "      <td>22</td>\n",
       "      <td>Тюмень</td>\n",
       "      <td>ultra</td>\n",
       "      <td>6</td>\n",
       "      <td>0</td>\n",
       "      <td>199</td>\n",
       "      <td>451.0</td>\n",
       "    </tr>\n",
       "    <tr>\n",
       "      <th>1</th>\n",
       "      <td>1</td>\n",
       "      <td>4</td>\n",
       "      <td>1</td>\n",
       "      <td>754.159807</td>\n",
       "      <td>7.0</td>\n",
       "      <td>Кира</td>\n",
       "      <td>22</td>\n",
       "      <td>Тюмень</td>\n",
       "      <td>ultra</td>\n",
       "      <td>6</td>\n",
       "      <td>0</td>\n",
       "      <td>199</td>\n",
       "      <td>241.0</td>\n",
       "    </tr>\n",
       "    <tr>\n",
       "      <th>2</th>\n",
       "      <td>1</td>\n",
       "      <td>8</td>\n",
       "      <td>2</td>\n",
       "      <td>6723.470560</td>\n",
       "      <td>46.0</td>\n",
       "      <td>Кира</td>\n",
       "      <td>22</td>\n",
       "      <td>Тюмень</td>\n",
       "      <td>ultra</td>\n",
       "      <td>6</td>\n",
       "      <td>0</td>\n",
       "      <td>199</td>\n",
       "      <td>475.0</td>\n",
       "    </tr>\n",
       "    <tr>\n",
       "      <th>3</th>\n",
       "      <td>1</td>\n",
       "      <td>10</td>\n",
       "      <td>2</td>\n",
       "      <td>5809.911100</td>\n",
       "      <td>32.0</td>\n",
       "      <td>Кира</td>\n",
       "      <td>22</td>\n",
       "      <td>Тюмень</td>\n",
       "      <td>ultra</td>\n",
       "      <td>6</td>\n",
       "      <td>0</td>\n",
       "      <td>199</td>\n",
       "      <td>391.0</td>\n",
       "    </tr>\n",
       "    <tr>\n",
       "      <th>4</th>\n",
       "      <td>1</td>\n",
       "      <td>11</td>\n",
       "      <td>3</td>\n",
       "      <td>7003.499363</td>\n",
       "      <td>56.0</td>\n",
       "      <td>Кира</td>\n",
       "      <td>22</td>\n",
       "      <td>Тюмень</td>\n",
       "      <td>ultra</td>\n",
       "      <td>6</td>\n",
       "      <td>0</td>\n",
       "      <td>199</td>\n",
       "      <td>535.0</td>\n",
       "    </tr>\n",
       "    <tr>\n",
       "      <th>...</th>\n",
       "      <td>...</td>\n",
       "      <td>...</td>\n",
       "      <td>...</td>\n",
       "      <td>...</td>\n",
       "      <td>...</td>\n",
       "      <td>...</td>\n",
       "      <td>...</td>\n",
       "      <td>...</td>\n",
       "      <td>...</td>\n",
       "      <td>...</td>\n",
       "      <td>...</td>\n",
       "      <td>...</td>\n",
       "      <td>...</td>\n",
       "    </tr>\n",
       "    <tr>\n",
       "      <th>11326</th>\n",
       "      <td>1534</td>\n",
       "      <td>6</td>\n",
       "      <td>2</td>\n",
       "      <td>3409.468534</td>\n",
       "      <td>26.0</td>\n",
       "      <td>Альберт</td>\n",
       "      <td>25</td>\n",
       "      <td>Краснодар</td>\n",
       "      <td>free</td>\n",
       "      <td>8</td>\n",
       "      <td>50</td>\n",
       "      <td>0</td>\n",
       "      <td>308.0</td>\n",
       "    </tr>\n",
       "    <tr>\n",
       "      <th>11327</th>\n",
       "      <td>1534</td>\n",
       "      <td>8</td>\n",
       "      <td>2</td>\n",
       "      <td>7622.453034</td>\n",
       "      <td>48.0</td>\n",
       "      <td>Альберт</td>\n",
       "      <td>25</td>\n",
       "      <td>Краснодар</td>\n",
       "      <td>free</td>\n",
       "      <td>8</td>\n",
       "      <td>50</td>\n",
       "      <td>0</td>\n",
       "      <td>484.0</td>\n",
       "    </tr>\n",
       "    <tr>\n",
       "      <th>11328</th>\n",
       "      <td>1534</td>\n",
       "      <td>9</td>\n",
       "      <td>1</td>\n",
       "      <td>4928.173852</td>\n",
       "      <td>23.0</td>\n",
       "      <td>Альберт</td>\n",
       "      <td>25</td>\n",
       "      <td>Краснодар</td>\n",
       "      <td>free</td>\n",
       "      <td>8</td>\n",
       "      <td>50</td>\n",
       "      <td>0</td>\n",
       "      <td>234.0</td>\n",
       "    </tr>\n",
       "    <tr>\n",
       "      <th>11329</th>\n",
       "      <td>1534</td>\n",
       "      <td>11</td>\n",
       "      <td>4</td>\n",
       "      <td>13350.015305</td>\n",
       "      <td>78.0</td>\n",
       "      <td>Альберт</td>\n",
       "      <td>25</td>\n",
       "      <td>Краснодар</td>\n",
       "      <td>free</td>\n",
       "      <td>8</td>\n",
       "      <td>50</td>\n",
       "      <td>0</td>\n",
       "      <td>824.0</td>\n",
       "    </tr>\n",
       "    <tr>\n",
       "      <th>11330</th>\n",
       "      <td>1534</td>\n",
       "      <td>12</td>\n",
       "      <td>1</td>\n",
       "      <td>2371.711192</td>\n",
       "      <td>16.0</td>\n",
       "      <td>Альберт</td>\n",
       "      <td>25</td>\n",
       "      <td>Краснодар</td>\n",
       "      <td>free</td>\n",
       "      <td>8</td>\n",
       "      <td>50</td>\n",
       "      <td>0</td>\n",
       "      <td>178.0</td>\n",
       "    </tr>\n",
       "  </tbody>\n",
       "</table>\n",
       "<p>11331 rows × 13 columns</p>\n",
       "</div>"
      ],
      "text/plain": [
       "       user_id  month  rides_count  distance_sum  duration_sum     name  age  \\\n",
       "0            1      1            2   7027.511294          42.0     Кира   22   \n",
       "1            1      4            1    754.159807           7.0     Кира   22   \n",
       "2            1      8            2   6723.470560          46.0     Кира   22   \n",
       "3            1     10            2   5809.911100          32.0     Кира   22   \n",
       "4            1     11            3   7003.499363          56.0     Кира   22   \n",
       "...        ...    ...          ...           ...           ...      ...  ...   \n",
       "11326     1534      6            2   3409.468534          26.0  Альберт   25   \n",
       "11327     1534      8            2   7622.453034          48.0  Альберт   25   \n",
       "11328     1534      9            1   4928.173852          23.0  Альберт   25   \n",
       "11329     1534     11            4  13350.015305          78.0  Альберт   25   \n",
       "11330     1534     12            1   2371.711192          16.0  Альберт   25   \n",
       "\n",
       "            city subscription_type  minute_price  start_ride_price  \\\n",
       "0         Тюмень             ultra             6                 0   \n",
       "1         Тюмень             ultra             6                 0   \n",
       "2         Тюмень             ultra             6                 0   \n",
       "3         Тюмень             ultra             6                 0   \n",
       "4         Тюмень             ultra             6                 0   \n",
       "...          ...               ...           ...               ...   \n",
       "11326  Краснодар              free             8                50   \n",
       "11327  Краснодар              free             8                50   \n",
       "11328  Краснодар              free             8                50   \n",
       "11329  Краснодар              free             8                50   \n",
       "11330  Краснодар              free             8                50   \n",
       "\n",
       "       subscription_fee  monthly_revenue  \n",
       "0                   199            451.0  \n",
       "1                   199            241.0  \n",
       "2                   199            475.0  \n",
       "3                   199            391.0  \n",
       "4                   199            535.0  \n",
       "...                 ...              ...  \n",
       "11326                 0            308.0  \n",
       "11327                 0            484.0  \n",
       "11328                 0            234.0  \n",
       "11329                 0            824.0  \n",
       "11330                 0            178.0  \n",
       "\n",
       "[11331 rows x 13 columns]"
      ]
     },
     "execution_count": 27,
     "metadata": {},
     "output_type": "execute_result"
    }
   ],
   "source": [
    "# создал новый столбец в соответствии с требованиями\n",
    "\n",
    "new_df['monthly_revenue'] = ((new_df['start_ride_price'] * new_df['rides_count'])\n",
    "                             + (new_df['minute_price'] * new_df['duration_sum'])\n",
    "                             + new_df['subscription_fee'])\n",
    "new_df"
   ]
  },
  {
   "cell_type": "markdown",
   "id": "d27df6c4",
   "metadata": {},
   "source": [
    "**Выводы**\n",
    "\n",
    "Агрегированная таблица создана и расчётный столбец с выручкой по месяцам добавлен."
   ]
  },
  {
   "cell_type": "markdown",
   "id": "ace04f6f",
   "metadata": {},
   "source": [
    "### Проверка гипотез"
   ]
  },
  {
   "cell_type": "markdown",
   "id": "d23b3d20",
   "metadata": {},
   "source": [
    "Аргумент 'greater' может использоваться для проверки альтернативной гипотезы «Среднее значение первой генеральной совокупности больше среднего значения второй генеральной совокупности». Аргумент 'less' может использоваться для проверки альтернативной гипотезы «Среднее значение первой генеральной совокупности меньше среднего значения второй генеральной совокупности»."
   ]
  },
  {
   "cell_type": "code",
   "execution_count": 28,
   "id": "a958d740",
   "metadata": {},
   "outputs": [],
   "source": [
    "# уровень статистической значимости для тестов\n",
    "\n",
    "alpha = 0.05"
   ]
  },
  {
   "cell_type": "markdown",
   "id": "051a0006",
   "metadata": {},
   "source": [
    "**Гипотеза №1**\n",
    "\n",
    "Важно понять, тратят ли пользователи с подпиской больше времени на поездки? Если да, то пользователи с подпиской могут быть «выгоднее» для компании. Проверьте гипотезу. Используйте исходные данные о продолжительности каждой сессии — отдельно для подписчиков и тех, у кого нет подписки.\n",
    "\n",
    "Н0: cреднее время поездки у пользователей с подпиской = cреднее время поездки у пользователей без подписки\n",
    "<br>H1: cреднее время поездки у пользователей с подпиской > cреднее время поездки у пользователей без подписки"
   ]
  },
  {
   "cell_type": "code",
   "execution_count": 29,
   "id": "df7efa7d",
   "metadata": {},
   "outputs": [
    {
     "name": "stdout",
     "output_type": "stream",
     "text": [
      "Н0: cреднее время поездки у пользователей с подпиской = cреднее время поездки у пользователей без подписки\n",
      "H1: cреднее время поездки у пользователей с подпиской > cреднее время поездки у пользователей без подписки \n",
      "\n",
      "mean df_ultra['duration']: 18.54198516280583\n",
      "mean df_free['duration']: 17.39090929866399\n",
      "p-value: 5.6757813771289775e-37 \n",
      "\n",
      "Отвергаем нулевую гипотезу\n"
     ]
    }
   ],
   "source": [
    "print('Н0: cреднее время поездки у пользователей с подпиской = cреднее время поездки у пользователей без подписки')\n",
    "print('H1: cреднее время поездки у пользователей с подпиской > cреднее время поездки у пользователей без подписки', '\\n')\n",
    "\n",
    "h1 = st.ttest_ind(df_ultra['duration'],\n",
    "                  df_free['duration'],\n",
    "                  equal_var=False,\n",
    "                  alternative='greater')\n",
    "\n",
    "print(\"mean df_ultra['duration']:\", df_ultra['duration'].mean())\n",
    "print(\"mean df_free['duration']:\", df_free['duration'].mean())\n",
    "print('p-value:', h1.pvalue, '\\n')\n",
    "\n",
    "if h1.pvalue < alpha:\n",
    "    print('Отвергаем нулевую гипотезу')\n",
    "else:\n",
    "    print('Не отвергаем нулевую гипотезу')"
   ]
  },
  {
   "cell_type": "markdown",
   "id": "27d1bfb7",
   "metadata": {},
   "source": [
    "Вероятность ошибиться, отвергнув нулевую гипотезу при том, что она верна, мала (p-value < 5%). Следовательно, можем уверенно сказать, что среднее время поездки у пользователей с подпиской больше."
   ]
  },
  {
   "cell_type": "markdown",
   "id": "30666a5e",
   "metadata": {},
   "source": [
    "**Гипотеза №2**\n",
    "\n",
    "Расстояние одной поездки в 3130 метров — оптимальное с точки зрения износа самоката. Можно ли сказать, что расстояние, которое проезжают пользователи с подпиской за одну поездку, не превышает 3130 метров? Проверьте гипотезу и сделайте выводы.\n",
    "\n",
    "Н0: cреднее расстояние поездки у пользователей с подпиской = 3130 м\n",
    "<br>H1: cреднее расстояние поездки у пользователей с подпиской > 3130 м"
   ]
  },
  {
   "cell_type": "code",
   "execution_count": 30,
   "id": "58f1051d",
   "metadata": {},
   "outputs": [
    {
     "name": "stdout",
     "output_type": "stream",
     "text": [
      "Н0: cреднее расстояние поездки у пользователей с подпиской = 3130 м\n",
      "H1: cреднее расстояние поездки у пользователей с подпиской > 3130 м \n",
      "\n",
      "mean df_ultra['distance']: 3115.4453880370247\n",
      "mean df_free['distance']: 3045.495281671816\n",
      "p-value: 0.9195368847849785 \n",
      "\n",
      "Не отвергаем нулевую гипотезу\n"
     ]
    }
   ],
   "source": [
    "print('Н0: cреднее расстояние поездки у пользователей с подпиской = 3130 м')\n",
    "print('H1: cреднее расстояние поездки у пользователей с подпиской > 3130 м', '\\n')\n",
    "\n",
    "h2_goal = 3130\n",
    "\n",
    "h2 = st.ttest_1samp(df_ultra['distance'], h2_goal, alternative='greater')\n",
    "\n",
    "print(\"mean df_ultra['distance']:\", df_ultra['distance'].mean())\n",
    "print(\"mean df_free['distance']:\", df_free['distance'].mean())\n",
    "print('p-value:', h2.pvalue, '\\n')\n",
    "\n",
    "if h2.pvalue < alpha:\n",
    "    print('Отвергаем нулевую гипотезу')\n",
    "else:\n",
    "    print('Не отвергаем нулевую гипотезу')"
   ]
  },
  {
   "cell_type": "markdown",
   "id": "658648bd",
   "metadata": {},
   "source": [
    "Вероятность ошибиться, отвергнув нулевую гипотезу при том, что она верна, высока (p-value > 5%). Следовательно, расстояние, которое проезжают пользователи с подпиской за одну поездку, не превышает 3130 метров."
   ]
  },
  {
   "cell_type": "markdown",
   "id": "ef509bac",
   "metadata": {},
   "source": [
    "**Гипотеза №3**\n",
    "\n",
    "Проверьте гипотезу о том, будет ли помесячная выручка от пользователей с подпиской по месяцам выше, чем выручка от пользователей без подписки. Сделайте вывод.\n",
    "\n",
    "Н0: cредняя выручка от пользователей с подпиской = cредняя выручка от пользователей без подписки\n",
    "<br>H1: cредняя выручка от пользователей с подпиской > cредняя выручка от пользователей без подписки"
   ]
  },
  {
   "cell_type": "code",
   "execution_count": 31,
   "id": "91d79e78",
   "metadata": {},
   "outputs": [
    {
     "name": "stdout",
     "output_type": "stream",
     "text": [
      "Н0: cредняя выручка от пользователей с подпиской = cредняя выручка от пользователей без подписки\n",
      "H1: cредняя выручка от пользователей с подпиской > cредняя выручка от пользователей без подписки \n",
      "\n",
      "new_df[new_df['subscription_type'] == 'ultra']['monthly_revenue'].mean(): 362.7921906022502\n",
      "new_df[new_df['subscription_type'] == 'ultra']['monthly_revenue'].mean(): 328.6413651073845\n",
      "p-value: 8.874140893976874e-40 \n",
      "\n",
      "Отвергаем нулевую гипотезу\n"
     ]
    }
   ],
   "source": [
    "print('Н0: cредняя выручка от пользователей с подпиской = cредняя выручка от пользователей без подписки')\n",
    "print('H1: cредняя выручка от пользователей с подпиской > cредняя выручка от пользователей без подписки', '\\n')\n",
    "\n",
    "h3 = st.ttest_ind(new_df[new_df['subscription_type'] == 'ultra']['monthly_revenue'],\n",
    "                  new_df[new_df['subscription_type'] == 'free']['monthly_revenue'],\n",
    "                  equal_var=False,\n",
    "                  alternative='greater')\n",
    "\n",
    "print(\"new_df[new_df['subscription_type'] == 'ultra']['monthly_revenue'].mean():\", new_df[new_df['subscription_type'] == 'ultra']['monthly_revenue'].mean())\n",
    "print(\"new_df[new_df['subscription_type'] == 'ultra']['monthly_revenue'].mean():\", new_df[new_df['subscription_type'] == 'free']['monthly_revenue'].mean())\n",
    "print('p-value:', h3.pvalue, '\\n')\n",
    "\n",
    "if h3.pvalue < alpha:\n",
    "    print('Отвергаем нулевую гипотезу')\n",
    "else:\n",
    "    print('Не отвергаем нулевую гипотезу')"
   ]
  },
  {
   "cell_type": "markdown",
   "id": "01ea5bf9",
   "metadata": {},
   "source": [
    "Вероятность ошибиться, отвергнув нулевую гипотезу при том, что она верна, мала (p-value < 5%). Следовательно, можем уверенно утверждать, что средняя выручка от пользователей с подпиской больше средней выручки от пользователей без подписки."
   ]
  },
  {
   "cell_type": "markdown",
   "id": "5a15b285",
   "metadata": {},
   "source": [
    "**Гипотеза №4**\n",
    "\n",
    "Представьте такую ситуацию: техническая команда сервиса обновила сервера, с которыми взаимодействует мобильное приложение. Она надеется, что из-за этого количество обращений в техподдержку значимо снизилось. Некоторый файл содержит для каждого пользователя данные о количестве обращений до обновления и после него. Какой тест вам понадобился бы для проверки этой гипотезы?"
   ]
  },
  {
   "cell_type": "markdown",
   "id": "4880bed4",
   "metadata": {},
   "source": [
    "Ответ:\n",
    "\n",
    "Чтобы проверить гипотезу о равенстве среднего генеральной совокупности для зависимых (парных) выборок, нам понадобиться тест *ttest_rel()*."
   ]
  },
  {
   "cell_type": "markdown",
   "id": "88e1720c",
   "metadata": {},
   "source": [
    "(необязательное задание)"
   ]
  },
  {
   "cell_type": "markdown",
   "id": "2d9bf54b",
   "metadata": {},
   "source": [
    "### Выводы"
   ]
  },
  {
   "attachments": {
    "image-2.png": {
     "image/png": "[encoded data removed]"
    },
    "image-3.png": {
     "image/png": "[encoded data removed]"
    },
    "image-4.png": {
     "image/png": "[encoded data removed]"
    },
    "image-5.png": {
     "image/png": "[encoded data removed]"
    },
    "image-6.png": {
     "image/png": "[encoded data removed]"
    },
    "image-7.png": {
     "image/png": "[encoded data removed]"
    },
    "image.png": {
     "image/png": "[encoded data removed]"
    }
   },
   "cell_type": "markdown",
   "id": "afd36a54",
   "metadata": {},
   "source": [
    "В результате исследования были выполнены следующие задачи:\n",
    "\n",
    "1. **Подготовлены данные к анализу**\n",
    "    - дубликаты обработаны\n",
    "    - статистические выбросы обнаружены и учтены в исследовании\n",
    "2. **Исследованы закономоерности данных**\n",
    "    - распределение пользователей по городам:\n",
    "    ![image.png](attachment:image.png) Данные были отобраны таким образом, чтобы распределение пользователей по городам было примерно равным — 11-14 %. В выборке больше всего пользователей из Екатеринбурга, а меньше всего — из Москвы.\n",
    "    - распределение пользователей с подпиской и без подписки:\n",
    "    ![image-2.png](attachment:image-2.png) Соотношение пользователей с подпиской и без подписки также оказалось примерно равным — 46 на 54 % соответственно.\n",
    "    - распределение пользователей по возрасту:\n",
    "    ![image-3.png](attachment:image-3.png) Распределение пользователей по возрасту показало, что услугами GoFast каким-то образом могут пользоваться несовершеннолетние пользователи. Размах выборки равен 31 году, самому возрастному пользователю было 43 года. Распределение похоже на нормальное с ярко выраженными средним значением и медианой (25 лет). Стандартное отклонение 4.57 лет говорит об относительно маленьком разбросе данных вокруг среднего значения, то есть об относительное плотности распределения.\n",
    "    - распределение данных о расстоянии одной поездки:\n",
    "    ![image-4.png](attachment:image-4.png) Распределение поездок по расстоянию показало распределение, близкое к нормальному, но смещённое к малым значениям. Можно выделить два интервала: поездки на короткое расстояние (0, 1500) и поездки на длинное расстояние (1500, 7000).\n",
    "    <br>Среднее значение (3071) и медиана (3134) достаточно близки, и меньшее среднее подтверждает гипотезу о смешённости данных влево. Самая длинная по расстоянию поездка равняется 7,21 км, а самая малая — 0 м (то есть решение о поездке было сразу же изменено, или возникли трудности с арендой самоката).\n",
    "    <br>Пик в поездках до 1500 м может включать поездки от остановки общественного транспорта до дома или от дома до метро (для Москвы и Екатеринбурга). А если расстояние большое, то можно выбрать общественный транспорт — и дешевле будет.\n",
    "    Можно предположить, что в части выборки (1500, 7000) пользователи самокатов больше \"отдыхают\", а в части выборки (0, 1500) пользователи куда-то спешат.\n",
    "    - распределение данных о продолжительности одной поездки:\n",
    "    ![image-5.png](attachment:image-5.png) Распределение данных о продолжительности поездки близко к нормальному. Как и в данных о расстоянии поездок, при малых значениях, в интервале от 0 до 2 минут наблюдается локальный максимум, связанный предположительно с техническими трудностями при аренде самоката.\n",
    "    Средняя (17,8 минут) и медианная (17,7) продолжительность поездки примерно равны. Самая долгая по времени поездка равна 41 минуте.\n",
    "    \n",
    "3. **Объединены данные в один датафрейм для ответа на вопросы бизнеса**\n",
    "![image-6.png](attachment:image-6.png) ![image-7.png](attachment:image-7.png)\n",
    "- В данных о расстоянии поездок пользователей с подпиской заметно более плотное распределение, меньшее стандартное отклонение и однозначно определённая мода, что может говорить о соответствии целей, для которых подписка была куплена, реальному использованию подписки. То есть пользователь мог предполагать, что будет ездить на расстояние от 2000 до 5000 м, и поэтому затраты на подписку окупятся. С другой стороны, при налчии подписки пользователь может чаще предпочитать GoFast другим компаниям или видам транспорта, чтобы \"оправдать\" затраты на подписку;\n",
    "- На поездках с расстоянием менее 2000 м заметны паттерны поведения пользователей:\n",
    " - пользователи с подпиской не катаются на расстояния меньше 500 м, а пользователи без подписки, в том числе новые пользователи, пробуют самокат GoFast на коротких расстояних;\n",
    " - независимо от наличия подписки, пользователи используют самокат для коротких и для длинных поездок. Для пользователей без подписки, длинные поездки начинаются с отметки 1500 м; для пользователей с подпиской — с 2000 м;\n",
    " - несмотря на наличие подписки, её обладатели почти не катаются на расстояние более 5000 м. Пользователи без подписки чаще катаются на такие расстояния;\n",
    "- В данных о длительности поездок наличие подписки не влияет на распределения — они очень похожи;\n",
    "- У пользователей без подписки заметно большое количество поездок менее 2 минут, что говорит об их трудностях с арендой самоката или с управлением им.\n",
    "    \n",
    "4. **Проверены статистические гипотезы о данных**\n",
    "<br>Были сделаны следующие выводы на основе AB-тестов:\n",
    "- среднее время поездки у пользователей с подпиской больше;\n",
    "- расстояние, которое проезжают пользователи с подпиской за одну поездку, не превышает 3130 метров;\n",
    "- средняя выручка от пользователей с подпиской больше средней выручки от пользователей без подписки."
   ]
  }
 ],
 "metadata": {
  "ExecuteTimeLog": [
   {
    "duration": 430,
    "start_time": "2023-06-14T19:51:54.180Z"
   },
   {
    "duration": 344,
    "start_time": "2023-06-14T19:51:55.854Z"
   },
   {
    "duration": 14,
    "start_time": "2023-06-14T19:51:58.990Z"
   },
   {
    "duration": 19,
    "start_time": "2023-06-14T19:52:00.218Z"
   },
   {
    "duration": 17,
    "start_time": "2023-06-14T19:52:00.963Z"
   },
   {
    "duration": 18,
    "start_time": "2023-06-14T19:52:24.055Z"
   },
   {
    "duration": 26,
    "start_time": "2023-06-14T19:52:48.919Z"
   },
   {
    "duration": 4,
    "start_time": "2023-06-14T20:05:43.791Z"
   },
   {
    "duration": 12,
    "start_time": "2023-06-14T20:06:12.849Z"
   },
   {
    "duration": 5,
    "start_time": "2023-06-14T20:06:22.235Z"
   },
   {
    "duration": 17,
    "start_time": "2023-06-14T20:06:50.348Z"
   },
   {
    "duration": 115,
    "start_time": "2023-06-14T20:07:14.635Z"
   },
   {
    "duration": 31,
    "start_time": "2023-06-14T20:07:50.748Z"
   },
   {
    "duration": 7,
    "start_time": "2023-06-14T20:08:40.104Z"
   },
   {
    "duration": 25,
    "start_time": "2023-06-14T20:08:41.618Z"
   },
   {
    "duration": 373,
    "start_time": "2023-06-15T12:13:18.291Z"
   },
   {
    "duration": 216,
    "start_time": "2023-06-15T12:13:18.665Z"
   },
   {
    "duration": 24,
    "start_time": "2023-06-15T12:13:18.882Z"
   },
   {
    "duration": 6,
    "start_time": "2023-06-15T12:13:18.907Z"
   },
   {
    "duration": 349,
    "start_time": "2023-06-15T12:13:18.915Z"
   },
   {
    "duration": 401,
    "start_time": "2023-06-15T12:13:41.338Z"
   },
   {
    "duration": 297,
    "start_time": "2023-06-15T12:19:06.536Z"
   },
   {
    "duration": 6,
    "start_time": "2023-06-15T12:19:47.046Z"
   },
   {
    "duration": 279,
    "start_time": "2023-06-15T12:19:48.734Z"
   },
   {
    "duration": 7,
    "start_time": "2023-06-15T12:20:01.031Z"
   },
   {
    "duration": 851,
    "start_time": "2023-06-15T12:20:03.335Z"
   },
   {
    "duration": 415,
    "start_time": "2023-06-15T12:22:30.437Z"
   },
   {
    "duration": 6,
    "start_time": "2023-06-15T12:30:34.704Z"
   },
   {
    "duration": 30,
    "start_time": "2023-06-15T12:30:36.658Z"
   },
   {
    "duration": 7,
    "start_time": "2023-06-15T12:30:41.928Z"
   },
   {
    "duration": 25,
    "start_time": "2023-06-15T12:30:44.198Z"
   },
   {
    "duration": 6,
    "start_time": "2023-06-15T12:31:16.156Z"
   },
   {
    "duration": 20,
    "start_time": "2023-06-15T12:31:17.504Z"
   },
   {
    "duration": 7,
    "start_time": "2023-06-15T12:33:04.126Z"
   },
   {
    "duration": 21,
    "start_time": "2023-06-15T12:33:15.276Z"
   },
   {
    "duration": 20,
    "start_time": "2023-06-15T12:33:22.440Z"
   },
   {
    "duration": 65,
    "start_time": "2023-06-15T12:40:17.934Z"
   },
   {
    "duration": 23,
    "start_time": "2023-06-15T12:40:19.507Z"
   },
   {
    "duration": 26,
    "start_time": "2023-06-15T12:41:30.211Z"
   },
   {
    "duration": 39,
    "start_time": "2023-06-15T12:41:34.770Z"
   },
   {
    "duration": 43,
    "start_time": "2023-06-15T12:41:40.457Z"
   },
   {
    "duration": 45,
    "start_time": "2023-06-15T12:44:29.775Z"
   },
   {
    "duration": 54,
    "start_time": "2023-06-15T12:44:59.408Z"
   },
   {
    "duration": 47,
    "start_time": "2023-06-15T12:45:13.777Z"
   },
   {
    "duration": 62,
    "start_time": "2023-06-15T12:45:28.883Z"
   },
   {
    "duration": 7,
    "start_time": "2023-06-15T12:45:44.911Z"
   },
   {
    "duration": 8,
    "start_time": "2023-06-15T12:46:00.024Z"
   },
   {
    "duration": 54,
    "start_time": "2023-06-15T12:46:03.663Z"
   },
   {
    "duration": 91,
    "start_time": "2023-06-15T12:48:49.824Z"
   },
   {
    "duration": 69,
    "start_time": "2023-06-15T12:48:55.975Z"
   },
   {
    "duration": 63,
    "start_time": "2023-06-15T12:49:43.702Z"
   },
   {
    "duration": 63,
    "start_time": "2023-06-15T12:49:53.314Z"
   },
   {
    "duration": 67,
    "start_time": "2023-06-15T12:49:55.441Z"
   },
   {
    "duration": 44,
    "start_time": "2023-06-15T12:50:12.936Z"
   },
   {
    "duration": 42,
    "start_time": "2023-06-15T12:52:50.956Z"
   },
   {
    "duration": 49,
    "start_time": "2023-06-15T12:52:58.530Z"
   },
   {
    "duration": 49,
    "start_time": "2023-06-15T12:53:04.975Z"
   },
   {
    "duration": 55,
    "start_time": "2023-06-15T12:54:20.908Z"
   },
   {
    "duration": 48,
    "start_time": "2023-06-15T12:54:26.830Z"
   },
   {
    "duration": 40,
    "start_time": "2023-06-15T12:54:56.910Z"
   },
   {
    "duration": 51,
    "start_time": "2023-06-15T12:55:06.159Z"
   },
   {
    "duration": 47,
    "start_time": "2023-06-15T12:56:03.520Z"
   },
   {
    "duration": 48,
    "start_time": "2023-06-15T12:59:04.022Z"
   },
   {
    "duration": 41,
    "start_time": "2023-06-15T13:03:13.950Z"
   },
   {
    "duration": 57,
    "start_time": "2023-06-15T13:03:39.306Z"
   },
   {
    "duration": 50,
    "start_time": "2023-06-15T13:04:05.186Z"
   },
   {
    "duration": 58,
    "start_time": "2023-06-15T13:04:15.191Z"
   },
   {
    "duration": 8,
    "start_time": "2023-06-15T13:07:01.904Z"
   },
   {
    "duration": 469,
    "start_time": "2023-06-15T13:07:43.231Z"
   },
   {
    "duration": 6964,
    "start_time": "2023-06-15T13:07:59.720Z"
   },
   {
    "duration": 156,
    "start_time": "2023-06-15T13:08:54.769Z"
   },
   {
    "duration": 59,
    "start_time": "2023-06-15T13:09:45.955Z"
   },
   {
    "duration": 30,
    "start_time": "2023-06-15T13:09:52.302Z"
   },
   {
    "duration": 28,
    "start_time": "2023-06-15T13:09:57.817Z"
   },
   {
    "duration": 66,
    "start_time": "2023-06-15T13:10:15.334Z"
   },
   {
    "duration": 71,
    "start_time": "2023-06-15T13:10:20.549Z"
   },
   {
    "duration": 47,
    "start_time": "2023-06-15T13:10:26.008Z"
   },
   {
    "duration": 53,
    "start_time": "2023-06-15T13:10:31.104Z"
   },
   {
    "duration": 49,
    "start_time": "2023-06-15T13:10:42.306Z"
   },
   {
    "duration": 49,
    "start_time": "2023-06-15T13:10:44.248Z"
   },
   {
    "duration": 1652,
    "start_time": "2023-06-15T13:11:38.775Z"
   },
   {
    "duration": 1167,
    "start_time": "2023-06-15T13:12:35.578Z"
   },
   {
    "duration": 1255,
    "start_time": "2023-06-15T13:12:40.746Z"
   },
   {
    "duration": 1262,
    "start_time": "2023-06-15T13:12:46.545Z"
   },
   {
    "duration": 1221,
    "start_time": "2023-06-15T13:12:55.612Z"
   },
   {
    "duration": 1196,
    "start_time": "2023-06-15T13:13:34.752Z"
   },
   {
    "duration": 1182,
    "start_time": "2023-06-15T13:13:47.370Z"
   },
   {
    "duration": 816,
    "start_time": "2023-06-15T13:14:00.001Z"
   },
   {
    "duration": 2341,
    "start_time": "2023-06-15T13:14:38.017Z"
   },
   {
    "duration": 73,
    "start_time": "2023-06-15T13:14:40.360Z"
   },
   {
    "duration": 1151,
    "start_time": "2023-06-15T13:14:40.435Z"
   },
   {
    "duration": 860,
    "start_time": "2023-06-15T13:15:05.151Z"
   },
   {
    "duration": 678,
    "start_time": "2023-06-15T13:15:32.975Z"
   },
   {
    "duration": 807,
    "start_time": "2023-06-15T13:15:38.905Z"
   },
   {
    "duration": 685,
    "start_time": "2023-06-15T13:15:48.225Z"
   },
   {
    "duration": 689,
    "start_time": "2023-06-15T13:15:57.769Z"
   },
   {
    "duration": 741,
    "start_time": "2023-06-15T13:16:03.147Z"
   },
   {
    "duration": 1008,
    "start_time": "2023-06-15T13:16:14.859Z"
   },
   {
    "duration": 1839,
    "start_time": "2023-06-15T13:17:00.829Z"
   },
   {
    "duration": 1917,
    "start_time": "2023-06-15T13:17:20.017Z"
   },
   {
    "duration": 2572,
    "start_time": "2023-06-15T13:17:26.633Z"
   },
   {
    "duration": 70,
    "start_time": "2023-06-15T13:17:29.208Z"
   },
   {
    "duration": 100,
    "start_time": "2023-06-15T13:17:29.279Z"
   },
   {
    "duration": 1632,
    "start_time": "2023-06-15T13:17:29.381Z"
   },
   {
    "duration": 1560,
    "start_time": "2023-06-15T13:17:58.021Z"
   },
   {
    "duration": 1365,
    "start_time": "2023-06-15T13:18:05.719Z"
   },
   {
    "duration": 1308,
    "start_time": "2023-06-15T13:18:42.877Z"
   },
   {
    "duration": 1276,
    "start_time": "2023-06-15T13:19:42.231Z"
   },
   {
    "duration": 1419,
    "start_time": "2023-06-15T13:20:01.629Z"
   },
   {
    "duration": 974,
    "start_time": "2023-06-15T13:20:09.205Z"
   },
   {
    "duration": 1334,
    "start_time": "2023-06-15T13:20:13.717Z"
   },
   {
    "duration": 131,
    "start_time": "2023-06-15T13:21:31.117Z"
   },
   {
    "duration": 14,
    "start_time": "2023-06-15T13:22:12.260Z"
   },
   {
    "duration": 857,
    "start_time": "2023-06-15T13:22:25.552Z"
   },
   {
    "duration": 1439,
    "start_time": "2023-06-15T13:22:38.821Z"
   },
   {
    "duration": 11,
    "start_time": "2023-06-15T13:24:56.905Z"
   },
   {
    "duration": 735,
    "start_time": "2023-06-15T13:25:09.558Z"
   },
   {
    "duration": 53,
    "start_time": "2023-06-15T13:25:56.339Z"
   },
   {
    "duration": 55,
    "start_time": "2023-06-15T13:25:59.441Z"
   },
   {
    "duration": 670,
    "start_time": "2023-06-15T13:26:12.991Z"
   },
   {
    "duration": 613,
    "start_time": "2023-06-15T13:28:55.435Z"
   },
   {
    "duration": 540,
    "start_time": "2023-06-15T13:29:36.251Z"
   },
   {
    "duration": 533,
    "start_time": "2023-06-15T13:29:42.863Z"
   },
   {
    "duration": 1168,
    "start_time": "2023-06-15T13:30:54.340Z"
   },
   {
    "duration": 64,
    "start_time": "2023-06-15T14:04:06.738Z"
   },
   {
    "duration": 1661,
    "start_time": "2023-06-15T14:04:15.857Z"
   },
   {
    "duration": 10,
    "start_time": "2023-06-15T14:08:40.597Z"
   },
   {
    "duration": 65,
    "start_time": "2023-06-15T14:08:46.209Z"
   },
   {
    "duration": 4048,
    "start_time": "2023-06-15T14:08:49.136Z"
   },
   {
    "duration": 826,
    "start_time": "2023-06-15T14:10:53.017Z"
   },
   {
    "duration": 158,
    "start_time": "2023-06-15T14:10:56.403Z"
   },
   {
    "duration": 1017,
    "start_time": "2023-06-15T14:10:59.222Z"
   },
   {
    "duration": 120,
    "start_time": "2023-06-15T14:11:19.058Z"
   },
   {
    "duration": 163,
    "start_time": "2023-06-15T14:12:11.325Z"
   },
   {
    "duration": 76,
    "start_time": "2023-06-15T14:13:05.164Z"
   },
   {
    "duration": 164,
    "start_time": "2023-06-15T14:13:13.618Z"
   },
   {
    "duration": 159,
    "start_time": "2023-06-15T14:13:16.514Z"
   },
   {
    "duration": 145,
    "start_time": "2023-06-15T14:13:43.840Z"
   },
   {
    "duration": 173,
    "start_time": "2023-06-15T14:13:46.643Z"
   },
   {
    "duration": 147,
    "start_time": "2023-06-15T14:14:06.120Z"
   },
   {
    "duration": 133,
    "start_time": "2023-06-15T14:14:44.635Z"
   },
   {
    "duration": 234,
    "start_time": "2023-06-15T14:14:48.083Z"
   },
   {
    "duration": 245,
    "start_time": "2023-06-15T14:14:57.539Z"
   },
   {
    "duration": 118,
    "start_time": "2023-06-15T14:15:17.258Z"
   },
   {
    "duration": 140,
    "start_time": "2023-06-15T14:15:40.404Z"
   },
   {
    "duration": 149,
    "start_time": "2023-06-15T14:15:45.543Z"
   },
   {
    "duration": 68,
    "start_time": "2023-06-15T14:16:58.040Z"
   },
   {
    "duration": 51,
    "start_time": "2023-06-15T14:17:06.951Z"
   },
   {
    "duration": 57,
    "start_time": "2023-06-15T14:17:19.896Z"
   },
   {
    "duration": 59,
    "start_time": "2023-06-15T14:17:26.752Z"
   },
   {
    "duration": 67,
    "start_time": "2023-06-15T14:17:33.999Z"
   },
   {
    "duration": 69,
    "start_time": "2023-06-15T14:17:43.623Z"
   },
   {
    "duration": 62,
    "start_time": "2023-06-15T14:17:52.896Z"
   },
   {
    "duration": 65,
    "start_time": "2023-06-15T14:17:57.543Z"
   },
   {
    "duration": 105,
    "start_time": "2023-06-15T14:18:05.514Z"
   },
   {
    "duration": 53,
    "start_time": "2023-06-15T14:19:46.700Z"
   },
   {
    "duration": 53,
    "start_time": "2023-06-15T14:19:54.318Z"
   },
   {
    "duration": 51,
    "start_time": "2023-06-15T14:19:56.539Z"
   },
   {
    "duration": 31,
    "start_time": "2023-06-15T14:20:03.734Z"
   },
   {
    "duration": 63,
    "start_time": "2023-06-15T14:20:16.824Z"
   },
   {
    "duration": 47,
    "start_time": "2023-06-15T14:20:19.040Z"
   },
   {
    "duration": 58,
    "start_time": "2023-06-15T14:20:35.824Z"
   },
   {
    "duration": 63,
    "start_time": "2023-06-15T14:20:40.670Z"
   },
   {
    "duration": 58,
    "start_time": "2023-06-15T14:20:46.109Z"
   },
   {
    "duration": 71,
    "start_time": "2023-06-15T14:20:56.606Z"
   },
   {
    "duration": 69,
    "start_time": "2023-06-15T14:21:02.533Z"
   },
   {
    "duration": 153,
    "start_time": "2023-06-15T14:23:13.641Z"
   },
   {
    "duration": 104,
    "start_time": "2023-06-15T14:23:15.595Z"
   },
   {
    "duration": 112,
    "start_time": "2023-06-15T14:23:27.467Z"
   },
   {
    "duration": 119,
    "start_time": "2023-06-15T14:23:42.904Z"
   },
   {
    "duration": 112,
    "start_time": "2023-06-15T14:23:49.698Z"
   },
   {
    "duration": 113,
    "start_time": "2023-06-15T14:23:51.946Z"
   },
   {
    "duration": 163,
    "start_time": "2023-06-15T14:24:20.702Z"
   },
   {
    "duration": 112,
    "start_time": "2023-06-15T14:24:24.300Z"
   },
   {
    "duration": 121,
    "start_time": "2023-06-15T14:28:05.668Z"
   },
   {
    "duration": 111,
    "start_time": "2023-06-15T14:29:34.709Z"
   },
   {
    "duration": 59,
    "start_time": "2023-06-15T14:30:30.312Z"
   },
   {
    "duration": 125,
    "start_time": "2023-06-15T14:30:39.954Z"
   },
   {
    "duration": 211,
    "start_time": "2023-06-15T14:31:17.460Z"
   },
   {
    "duration": 208,
    "start_time": "2023-06-15T14:31:32.517Z"
   },
   {
    "duration": 204,
    "start_time": "2023-06-15T14:31:35.841Z"
   },
   {
    "duration": 231,
    "start_time": "2023-06-15T14:31:37.608Z"
   },
   {
    "duration": 225,
    "start_time": "2023-06-15T14:31:42.314Z"
   },
   {
    "duration": 200,
    "start_time": "2023-06-15T14:31:46.204Z"
   },
   {
    "duration": 95,
    "start_time": "2023-06-15T14:35:06.542Z"
   },
   {
    "duration": 93,
    "start_time": "2023-06-15T14:36:24.858Z"
   },
   {
    "duration": 2797,
    "start_time": "2023-06-15T14:42:43.620Z"
   },
   {
    "duration": 87,
    "start_time": "2023-06-15T14:42:46.419Z"
   },
   {
    "duration": 115,
    "start_time": "2023-06-15T14:42:46.508Z"
   },
   {
    "duration": 245,
    "start_time": "2023-06-15T14:42:46.625Z"
   },
   {
    "duration": 1057,
    "start_time": "2023-06-15T14:46:43.176Z"
   },
   {
    "duration": 1035,
    "start_time": "2023-06-15T14:47:55.053Z"
   },
   {
    "duration": 1028,
    "start_time": "2023-06-15T14:48:13.246Z"
   },
   {
    "duration": 1164,
    "start_time": "2023-06-15T14:48:26.009Z"
   },
   {
    "duration": 990,
    "start_time": "2023-06-15T14:48:51.330Z"
   },
   {
    "duration": 136,
    "start_time": "2023-06-15T14:53:33.920Z"
   },
   {
    "duration": 416,
    "start_time": "2023-06-15T14:53:41.620Z"
   },
   {
    "duration": 447,
    "start_time": "2023-06-15T14:55:28.415Z"
   },
   {
    "duration": 900,
    "start_time": "2023-06-15T14:55:54.729Z"
   },
   {
    "duration": 58,
    "start_time": "2023-06-15T14:58:05.720Z"
   },
   {
    "duration": 56,
    "start_time": "2023-06-15T14:58:41.016Z"
   },
   {
    "duration": 55,
    "start_time": "2023-06-15T14:58:43.973Z"
   },
   {
    "duration": 57,
    "start_time": "2023-06-15T14:58:50.962Z"
   },
   {
    "duration": 640,
    "start_time": "2023-06-15T14:59:03.668Z"
   },
   {
    "duration": 984,
    "start_time": "2023-06-15T15:00:05.700Z"
   },
   {
    "duration": 10,
    "start_time": "2023-06-15T15:00:18.604Z"
   },
   {
    "duration": 11,
    "start_time": "2023-06-15T15:00:31.129Z"
   },
   {
    "duration": 676,
    "start_time": "2023-06-15T15:00:53.516Z"
   },
   {
    "duration": 643,
    "start_time": "2023-06-15T15:01:56.658Z"
   },
   {
    "duration": 640,
    "start_time": "2023-06-15T15:02:23.501Z"
   },
   {
    "duration": 723,
    "start_time": "2023-06-16T16:32:18.100Z"
   },
   {
    "duration": 520,
    "start_time": "2023-06-16T16:32:18.825Z"
   },
   {
    "duration": 52,
    "start_time": "2023-06-16T16:32:19.347Z"
   },
   {
    "duration": 709,
    "start_time": "2023-06-16T16:32:19.400Z"
   },
   {
    "duration": 65,
    "start_time": "2023-06-16T16:32:44.479Z"
   },
   {
    "duration": 5281,
    "start_time": "2023-06-16T16:32:47.909Z"
   },
   {
    "duration": 103,
    "start_time": "2023-06-16T16:33:11.621Z"
   },
   {
    "duration": 54,
    "start_time": "2023-06-16T16:33:22.398Z"
   },
   {
    "duration": 50,
    "start_time": "2023-06-16T16:33:29.552Z"
   },
   {
    "duration": 5,
    "start_time": "2023-06-16T16:35:06.985Z"
   },
   {
    "duration": 94,
    "start_time": "2023-06-16T16:35:15.197Z"
   },
   {
    "duration": 88,
    "start_time": "2023-06-16T16:35:23.242Z"
   },
   {
    "duration": 6,
    "start_time": "2023-06-16T16:35:39.539Z"
   },
   {
    "duration": 16,
    "start_time": "2023-06-16T16:36:03.436Z"
   },
   {
    "duration": 15,
    "start_time": "2023-06-16T16:36:26.431Z"
   },
   {
    "duration": 21,
    "start_time": "2023-06-16T16:36:33.248Z"
   },
   {
    "duration": 124,
    "start_time": "2023-06-16T16:37:10.896Z"
   },
   {
    "duration": 5,
    "start_time": "2023-06-16T16:37:15.746Z"
   },
   {
    "duration": 27,
    "start_time": "2023-06-16T16:37:17.466Z"
   },
   {
    "duration": 6,
    "start_time": "2023-06-16T16:37:46.687Z"
   },
   {
    "duration": 19,
    "start_time": "2023-06-16T16:37:49.937Z"
   },
   {
    "duration": 27,
    "start_time": "2023-06-16T16:38:07.439Z"
   },
   {
    "duration": 9,
    "start_time": "2023-06-16T16:38:33.864Z"
   },
   {
    "duration": 20,
    "start_time": "2023-06-16T16:38:36.202Z"
   },
   {
    "duration": 6,
    "start_time": "2023-06-16T16:38:42.078Z"
   },
   {
    "duration": 21,
    "start_time": "2023-06-16T16:38:43.942Z"
   },
   {
    "duration": 14,
    "start_time": "2023-06-16T16:42:11.498Z"
   },
   {
    "duration": 7,
    "start_time": "2023-06-16T16:42:17.104Z"
   },
   {
    "duration": 545,
    "start_time": "2023-06-16T16:42:58.396Z"
   },
   {
    "duration": 378,
    "start_time": "2023-06-16T16:43:28.347Z"
   },
   {
    "duration": 6,
    "start_time": "2023-06-16T16:44:21.289Z"
   },
   {
    "duration": 388,
    "start_time": "2023-06-16T16:44:22.398Z"
   },
   {
    "duration": 421,
    "start_time": "2023-06-16T16:44:29.444Z"
   },
   {
    "duration": 7,
    "start_time": "2023-06-16T16:46:26.596Z"
   },
   {
    "duration": 19,
    "start_time": "2023-06-16T16:46:28.570Z"
   },
   {
    "duration": 685,
    "start_time": "2023-06-16T16:48:41.978Z"
   },
   {
    "duration": 1328,
    "start_time": "2023-06-16T16:56:41.563Z"
   },
   {
    "duration": 8,
    "start_time": "2023-06-16T16:56:52.519Z"
   },
   {
    "duration": 8,
    "start_time": "2023-06-16T17:00:18.958Z"
   },
   {
    "duration": 101,
    "start_time": "2023-06-16T17:00:26.254Z"
   },
   {
    "duration": 37,
    "start_time": "2023-06-16T17:00:41.165Z"
   },
   {
    "duration": 119,
    "start_time": "2023-06-16T17:01:14.073Z"
   },
   {
    "duration": 143,
    "start_time": "2023-06-16T17:01:40.614Z"
   },
   {
    "duration": 122,
    "start_time": "2023-06-16T17:01:51.448Z"
   },
   {
    "duration": 118,
    "start_time": "2023-06-16T17:02:32.285Z"
   },
   {
    "duration": 120,
    "start_time": "2023-06-16T17:02:35.841Z"
   },
   {
    "duration": 91,
    "start_time": "2023-06-16T17:02:48.699Z"
   },
   {
    "duration": 94,
    "start_time": "2023-06-16T17:02:53.700Z"
   },
   {
    "duration": 115,
    "start_time": "2023-06-16T17:03:06.967Z"
   },
   {
    "duration": 91,
    "start_time": "2023-06-16T17:03:11.411Z"
   },
   {
    "duration": 94,
    "start_time": "2023-06-16T17:03:28.513Z"
   },
   {
    "duration": 91,
    "start_time": "2023-06-16T17:03:36.208Z"
   },
   {
    "duration": 148,
    "start_time": "2023-06-16T17:03:52.242Z"
   },
   {
    "duration": 39,
    "start_time": "2023-06-16T17:04:26.519Z"
   },
   {
    "duration": 28,
    "start_time": "2023-06-16T17:04:40.011Z"
   },
   {
    "duration": 30,
    "start_time": "2023-06-16T17:04:51.361Z"
   },
   {
    "duration": 10,
    "start_time": "2023-06-16T17:07:29.533Z"
   },
   {
    "duration": 40,
    "start_time": "2023-06-16T17:14:45.041Z"
   },
   {
    "duration": 156,
    "start_time": "2023-06-16T17:14:49.729Z"
   },
   {
    "duration": 4,
    "start_time": "2023-06-16T17:17:51.323Z"
   },
   {
    "duration": 2143,
    "start_time": "2023-06-16T17:18:00.915Z"
   },
   {
    "duration": 5,
    "start_time": "2023-06-16T17:18:38.249Z"
   },
   {
    "duration": 208,
    "start_time": "2023-06-16T17:18:39.956Z"
   },
   {
    "duration": 5,
    "start_time": "2023-06-16T17:18:58.500Z"
   },
   {
    "duration": 186,
    "start_time": "2023-06-16T17:19:00.320Z"
   },
   {
    "duration": 4,
    "start_time": "2023-06-16T17:19:08.547Z"
   },
   {
    "duration": 232,
    "start_time": "2023-06-16T17:19:10.454Z"
   },
   {
    "duration": 5,
    "start_time": "2023-06-16T17:19:27.091Z"
   },
   {
    "duration": 1883,
    "start_time": "2023-06-16T17:19:32.207Z"
   },
   {
    "duration": 4,
    "start_time": "2023-06-16T17:49:03.626Z"
   },
   {
    "duration": 404,
    "start_time": "2023-06-16T17:50:04.962Z"
   },
   {
    "duration": 68,
    "start_time": "2023-06-16T17:50:06.440Z"
   },
   {
    "duration": 365,
    "start_time": "2023-06-16T17:55:02.113Z"
   },
   {
    "duration": 63,
    "start_time": "2023-06-16T17:55:03.620Z"
   },
   {
    "duration": 30,
    "start_time": "2023-06-16T17:55:07.862Z"
   },
   {
    "duration": 29,
    "start_time": "2023-06-16T18:32:04.945Z"
   },
   {
    "duration": 28,
    "start_time": "2023-06-16T18:32:16.976Z"
   },
   {
    "duration": 25,
    "start_time": "2023-06-16T18:32:21.330Z"
   },
   {
    "duration": 26,
    "start_time": "2023-06-16T18:32:25.967Z"
   },
   {
    "duration": 51,
    "start_time": "2023-06-16T18:32:33.379Z"
   },
   {
    "duration": 24,
    "start_time": "2023-06-16T18:32:45.423Z"
   },
   {
    "duration": 22,
    "start_time": "2023-06-16T18:32:52.463Z"
   },
   {
    "duration": 23,
    "start_time": "2023-06-16T18:33:32.068Z"
   },
   {
    "duration": 29,
    "start_time": "2023-06-16T18:33:34.620Z"
   },
   {
    "duration": 46,
    "start_time": "2023-06-16T18:33:47.645Z"
   },
   {
    "duration": 26,
    "start_time": "2023-06-16T18:33:55.461Z"
   },
   {
    "duration": 42,
    "start_time": "2023-06-16T18:34:07.253Z"
   },
   {
    "duration": 46,
    "start_time": "2023-06-16T18:38:27.518Z"
   },
   {
    "duration": 46,
    "start_time": "2023-06-16T18:38:35.423Z"
   },
   {
    "duration": 92,
    "start_time": "2023-06-16T18:39:07.068Z"
   },
   {
    "duration": 76,
    "start_time": "2023-06-16T18:39:20.440Z"
   },
   {
    "duration": 74,
    "start_time": "2023-06-16T18:39:21.969Z"
   },
   {
    "duration": 85,
    "start_time": "2023-06-16T18:39:25.426Z"
   },
   {
    "duration": 70,
    "start_time": "2023-06-16T18:39:27.181Z"
   },
   {
    "duration": 77,
    "start_time": "2023-06-16T18:39:32.692Z"
   },
   {
    "duration": 100,
    "start_time": "2023-06-16T18:40:19.667Z"
   },
   {
    "duration": 99,
    "start_time": "2023-06-16T18:41:09.797Z"
   },
   {
    "duration": 100,
    "start_time": "2023-06-16T18:41:18.273Z"
   },
   {
    "duration": 112,
    "start_time": "2023-06-16T18:41:25.230Z"
   },
   {
    "duration": 100,
    "start_time": "2023-06-16T18:41:40.770Z"
   },
   {
    "duration": 130,
    "start_time": "2023-06-16T18:42:04.541Z"
   },
   {
    "duration": 95,
    "start_time": "2023-06-16T18:42:16.795Z"
   },
   {
    "duration": 146,
    "start_time": "2023-06-16T18:42:50.214Z"
   },
   {
    "duration": 102,
    "start_time": "2023-06-16T18:43:13.802Z"
   },
   {
    "duration": 121,
    "start_time": "2023-06-16T18:44:23.402Z"
   },
   {
    "duration": 12,
    "start_time": "2023-06-16T18:44:40.256Z"
   },
   {
    "duration": 10,
    "start_time": "2023-06-16T18:44:45.364Z"
   },
   {
    "duration": 6,
    "start_time": "2023-06-16T18:44:54.855Z"
   },
   {
    "duration": 21,
    "start_time": "2023-06-16T18:45:02.310Z"
   },
   {
    "duration": 27,
    "start_time": "2023-06-16T18:45:08.939Z"
   },
   {
    "duration": 25,
    "start_time": "2023-06-16T18:45:23.475Z"
   },
   {
    "duration": 90,
    "start_time": "2023-06-16T18:45:42.935Z"
   },
   {
    "duration": 97,
    "start_time": "2023-06-16T18:46:27.405Z"
   },
   {
    "duration": 81,
    "start_time": "2023-06-16T18:47:16.304Z"
   },
   {
    "duration": 68,
    "start_time": "2023-06-16T18:47:24.979Z"
   },
   {
    "duration": 95,
    "start_time": "2023-06-16T18:47:32.491Z"
   },
   {
    "duration": 95,
    "start_time": "2023-06-16T18:47:55.318Z"
   },
   {
    "duration": 91,
    "start_time": "2023-06-16T18:48:02.237Z"
   },
   {
    "duration": 6,
    "start_time": "2023-06-16T18:48:23.977Z"
   },
   {
    "duration": 6,
    "start_time": "2023-06-16T18:48:30.537Z"
   },
   {
    "duration": 6,
    "start_time": "2023-06-16T18:48:31.186Z"
   },
   {
    "duration": 98,
    "start_time": "2023-06-16T18:48:45.800Z"
   },
   {
    "duration": 117,
    "start_time": "2023-06-16T18:48:57.477Z"
   },
   {
    "duration": 84,
    "start_time": "2023-06-16T18:49:04.585Z"
   },
   {
    "duration": 86,
    "start_time": "2023-06-16T18:49:12.523Z"
   },
   {
    "duration": 30,
    "start_time": "2023-06-16T18:49:20.195Z"
   },
   {
    "duration": 75,
    "start_time": "2023-06-16T18:49:48.993Z"
   },
   {
    "duration": 95,
    "start_time": "2023-06-16T18:50:10.131Z"
   },
   {
    "duration": 88,
    "start_time": "2023-06-16T18:50:23.944Z"
   },
   {
    "duration": 44,
    "start_time": "2023-06-16T18:52:00.029Z"
   },
   {
    "duration": 40,
    "start_time": "2023-06-16T18:52:03.971Z"
   },
   {
    "duration": 61,
    "start_time": "2023-06-16T18:52:11.780Z"
   },
   {
    "duration": 366,
    "start_time": "2023-06-16T18:52:17.921Z"
   },
   {
    "duration": 63,
    "start_time": "2023-06-16T18:52:18.289Z"
   },
   {
    "duration": 34,
    "start_time": "2023-06-16T18:52:18.354Z"
   },
   {
    "duration": 35,
    "start_time": "2023-06-16T18:52:18.390Z"
   },
   {
    "duration": 37,
    "start_time": "2023-06-16T18:52:18.427Z"
   },
   {
    "duration": 37,
    "start_time": "2023-06-16T18:52:49.254Z"
   },
   {
    "duration": 37,
    "start_time": "2023-06-16T18:52:55.193Z"
   },
   {
    "duration": 40,
    "start_time": "2023-06-16T18:53:00.350Z"
   },
   {
    "duration": 28,
    "start_time": "2023-06-16T18:53:04.705Z"
   },
   {
    "duration": 93,
    "start_time": "2023-06-16T18:54:00.158Z"
   },
   {
    "duration": 86,
    "start_time": "2023-06-16T18:54:52.085Z"
   },
   {
    "duration": 30,
    "start_time": "2023-06-16T18:56:32.881Z"
   },
   {
    "duration": 89,
    "start_time": "2023-06-16T18:56:47.894Z"
   },
   {
    "duration": 34,
    "start_time": "2023-06-16T18:56:50.308Z"
   },
   {
    "duration": 34,
    "start_time": "2023-06-16T18:57:10.004Z"
   },
   {
    "duration": 356,
    "start_time": "2023-06-16T18:58:42.585Z"
   },
   {
    "duration": 62,
    "start_time": "2023-06-16T18:58:42.943Z"
   },
   {
    "duration": 27,
    "start_time": "2023-06-16T18:58:43.007Z"
   },
   {
    "duration": 28,
    "start_time": "2023-06-16T18:58:43.035Z"
   },
   {
    "duration": 7,
    "start_time": "2023-06-16T18:58:43.065Z"
   },
   {
    "duration": 89,
    "start_time": "2023-06-16T19:08:27.974Z"
   },
   {
    "duration": 26,
    "start_time": "2023-06-16T19:12:49.269Z"
   },
   {
    "duration": 25,
    "start_time": "2023-06-16T19:13:09.653Z"
   },
   {
    "duration": 1420,
    "start_time": "2023-06-16T19:15:20.825Z"
   },
   {
    "duration": 4,
    "start_time": "2023-06-16T19:16:26.505Z"
   },
   {
    "duration": 7,
    "start_time": "2023-06-16T19:16:36.673Z"
   },
   {
    "duration": 4,
    "start_time": "2023-06-16T19:16:41.684Z"
   },
   {
    "duration": 5,
    "start_time": "2023-06-16T19:17:43.637Z"
   },
   {
    "duration": 13,
    "start_time": "2023-06-16T19:19:15.172Z"
   },
   {
    "duration": 15,
    "start_time": "2023-06-16T19:20:26.114Z"
   },
   {
    "duration": 14,
    "start_time": "2023-06-16T19:23:44.525Z"
   },
   {
    "duration": 18,
    "start_time": "2023-06-16T19:24:06.089Z"
   },
   {
    "duration": 16,
    "start_time": "2023-06-16T19:24:28.183Z"
   },
   {
    "duration": 17,
    "start_time": "2023-06-16T19:27:07.152Z"
   },
   {
    "duration": 16,
    "start_time": "2023-06-16T19:29:36.167Z"
   },
   {
    "duration": 86,
    "start_time": "2023-06-16T19:31:52.896Z"
   },
   {
    "duration": 90,
    "start_time": "2023-06-16T19:32:01.269Z"
   },
   {
    "duration": 77,
    "start_time": "2023-06-16T19:32:06.439Z"
   },
   {
    "duration": 13,
    "start_time": "2023-06-16T19:32:14.358Z"
   },
   {
    "duration": 35,
    "start_time": "2023-06-16T19:32:43.013Z"
   },
   {
    "duration": 40,
    "start_time": "2023-06-16T19:32:58.039Z"
   },
   {
    "duration": 339,
    "start_time": "2023-06-16T19:33:00.999Z"
   },
   {
    "duration": 56,
    "start_time": "2023-06-16T19:33:14.653Z"
   },
   {
    "duration": 14,
    "start_time": "2023-06-16T19:33:29.694Z"
   },
   {
    "duration": 13,
    "start_time": "2023-06-16T19:36:13.556Z"
   },
   {
    "duration": 335,
    "start_time": "2023-06-16T19:36:23.182Z"
   },
   {
    "duration": 14,
    "start_time": "2023-06-16T19:36:26.146Z"
   },
   {
    "duration": 12,
    "start_time": "2023-06-16T19:36:28.773Z"
   },
   {
    "duration": 14,
    "start_time": "2023-06-16T19:37:37.665Z"
   },
   {
    "duration": 12,
    "start_time": "2023-06-16T19:37:46.836Z"
   },
   {
    "duration": 20,
    "start_time": "2023-06-16T19:37:57.410Z"
   },
   {
    "duration": 14,
    "start_time": "2023-06-16T19:38:36.807Z"
   },
   {
    "duration": 12,
    "start_time": "2023-06-16T19:41:58.923Z"
   },
   {
    "duration": 14,
    "start_time": "2023-06-16T19:42:41.318Z"
   },
   {
    "duration": 43,
    "start_time": "2023-06-16T21:30:16.682Z"
   },
   {
    "duration": 404,
    "start_time": "2023-06-16T21:30:24.313Z"
   },
   {
    "duration": 312,
    "start_time": "2023-06-16T21:30:24.719Z"
   },
   {
    "duration": 36,
    "start_time": "2023-06-16T21:30:25.034Z"
   },
   {
    "duration": 31,
    "start_time": "2023-06-16T21:30:25.072Z"
   },
   {
    "duration": 12,
    "start_time": "2023-06-16T21:30:25.105Z"
   },
   {
    "duration": 36,
    "start_time": "2023-06-16T21:30:25.118Z"
   },
   {
    "duration": 8,
    "start_time": "2023-06-16T21:30:25.160Z"
   },
   {
    "duration": 351,
    "start_time": "2023-06-16T21:30:45.006Z"
   },
   {
    "duration": 66,
    "start_time": "2023-06-16T21:30:45.362Z"
   },
   {
    "duration": 42,
    "start_time": "2023-06-16T21:30:45.430Z"
   },
   {
    "duration": 43,
    "start_time": "2023-06-16T21:30:45.474Z"
   },
   {
    "duration": 12,
    "start_time": "2023-06-16T21:30:45.519Z"
   },
   {
    "duration": 31,
    "start_time": "2023-06-16T21:30:45.532Z"
   },
   {
    "duration": 15,
    "start_time": "2023-06-16T21:30:45.565Z"
   },
   {
    "duration": 193,
    "start_time": "2023-06-16T21:34:53.291Z"
   },
   {
    "duration": 17,
    "start_time": "2023-06-16T21:38:54.063Z"
   },
   {
    "duration": 7,
    "start_time": "2023-06-16T21:39:09.505Z"
   },
   {
    "duration": 10,
    "start_time": "2023-06-16T21:39:11.408Z"
   },
   {
    "duration": 12,
    "start_time": "2023-06-16T21:39:19.170Z"
   },
   {
    "duration": 83,
    "start_time": "2023-06-16T21:39:57.814Z"
   },
   {
    "duration": 7,
    "start_time": "2023-06-16T21:40:05.384Z"
   },
   {
    "duration": 31,
    "start_time": "2023-06-16T21:40:10.011Z"
   },
   {
    "duration": 356,
    "start_time": "2023-06-16T21:40:16.999Z"
   },
   {
    "duration": 66,
    "start_time": "2023-06-16T21:40:17.357Z"
   },
   {
    "duration": 28,
    "start_time": "2023-06-16T21:40:17.425Z"
   },
   {
    "duration": 29,
    "start_time": "2023-06-16T21:40:17.455Z"
   },
   {
    "duration": 9,
    "start_time": "2023-06-16T21:40:17.486Z"
   },
   {
    "duration": 7,
    "start_time": "2023-06-16T21:40:17.496Z"
   },
   {
    "duration": 5,
    "start_time": "2023-06-16T21:40:17.504Z"
   },
   {
    "duration": 12,
    "start_time": "2023-06-16T21:40:17.511Z"
   },
   {
    "duration": 12,
    "start_time": "2023-06-16T21:43:41.199Z"
   },
   {
    "duration": 3,
    "start_time": "2023-06-16T21:43:51.900Z"
   },
   {
    "duration": 89,
    "start_time": "2023-06-16T21:43:51.905Z"
   },
   {
    "duration": 1702,
    "start_time": "2023-06-16T21:43:51.995Z"
   },
   {
    "duration": 68,
    "start_time": "2023-06-16T21:43:53.699Z"
   },
   {
    "duration": 8,
    "start_time": "2023-06-16T21:43:53.769Z"
   },
   {
    "duration": 11,
    "start_time": "2023-06-16T21:43:53.778Z"
   },
   {
    "duration": 70,
    "start_time": "2023-06-16T21:43:53.790Z"
   },
   {
    "duration": 14,
    "start_time": "2023-06-16T21:43:53.863Z"
   },
   {
    "duration": 72,
    "start_time": "2023-06-16T21:44:43.692Z"
   },
   {
    "duration": 25,
    "start_time": "2023-06-16T21:44:57.305Z"
   },
   {
    "duration": 17,
    "start_time": "2023-06-16T21:45:04.189Z"
   },
   {
    "duration": 2,
    "start_time": "2023-06-16T21:45:12.612Z"
   },
   {
    "duration": 65,
    "start_time": "2023-06-16T21:45:12.618Z"
   },
   {
    "duration": 1710,
    "start_time": "2023-06-16T21:45:12.864Z"
   },
   {
    "duration": 28,
    "start_time": "2023-06-16T21:45:14.576Z"
   },
   {
    "duration": 53,
    "start_time": "2023-06-16T21:45:14.605Z"
   },
   {
    "duration": 6,
    "start_time": "2023-06-16T21:45:14.661Z"
   },
   {
    "duration": 23,
    "start_time": "2023-06-16T21:45:14.669Z"
   },
   {
    "duration": 64,
    "start_time": "2023-06-16T21:45:14.694Z"
   },
   {
    "duration": 18,
    "start_time": "2023-06-16T21:45:59.144Z"
   },
   {
    "duration": 3,
    "start_time": "2023-06-16T21:46:04.771Z"
   },
   {
    "duration": 68,
    "start_time": "2023-06-16T21:46:04.778Z"
   },
   {
    "duration": 1663,
    "start_time": "2023-06-16T21:46:05.102Z"
   },
   {
    "duration": 30,
    "start_time": "2023-06-16T21:46:06.766Z"
   },
   {
    "duration": 53,
    "start_time": "2023-06-16T21:46:06.797Z"
   },
   {
    "duration": 8,
    "start_time": "2023-06-16T21:46:06.852Z"
   },
   {
    "duration": 21,
    "start_time": "2023-06-16T21:46:06.863Z"
   },
   {
    "duration": 11,
    "start_time": "2023-06-16T21:46:06.885Z"
   },
   {
    "duration": 3,
    "start_time": "2023-06-16T21:47:16.685Z"
   },
   {
    "duration": 67,
    "start_time": "2023-06-16T21:47:16.695Z"
   },
   {
    "duration": 1667,
    "start_time": "2023-06-16T21:47:16.920Z"
   },
   {
    "duration": 75,
    "start_time": "2023-06-16T21:47:18.589Z"
   },
   {
    "duration": 12,
    "start_time": "2023-06-16T21:47:18.665Z"
   },
   {
    "duration": 4,
    "start_time": "2023-06-16T21:47:18.679Z"
   },
   {
    "duration": 74,
    "start_time": "2023-06-16T21:47:18.685Z"
   },
   {
    "duration": 16,
    "start_time": "2023-06-16T21:47:18.760Z"
   },
   {
    "duration": 3,
    "start_time": "2023-06-16T21:48:48.535Z"
   },
   {
    "duration": 64,
    "start_time": "2023-06-16T21:48:48.545Z"
   },
   {
    "duration": 1614,
    "start_time": "2023-06-16T21:48:48.777Z"
   },
   {
    "duration": 71,
    "start_time": "2023-06-16T21:48:50.393Z"
   },
   {
    "duration": 11,
    "start_time": "2023-06-16T21:48:50.467Z"
   },
   {
    "duration": 22,
    "start_time": "2023-06-16T21:48:50.480Z"
   },
   {
    "duration": 55,
    "start_time": "2023-06-16T21:48:50.504Z"
   },
   {
    "duration": 23,
    "start_time": "2023-06-16T21:48:50.560Z"
   },
   {
    "duration": 4,
    "start_time": "2023-06-16T21:49:18.819Z"
   },
   {
    "duration": 64,
    "start_time": "2023-06-16T21:49:18.831Z"
   },
   {
    "duration": 1631,
    "start_time": "2023-06-16T21:49:19.082Z"
   },
   {
    "duration": 56,
    "start_time": "2023-06-16T21:49:20.715Z"
   },
   {
    "duration": 9,
    "start_time": "2023-06-16T21:49:20.773Z"
   },
   {
    "duration": 8,
    "start_time": "2023-06-16T21:49:20.784Z"
   },
   {
    "duration": 69,
    "start_time": "2023-06-16T21:49:20.794Z"
   },
   {
    "duration": 12,
    "start_time": "2023-06-16T21:49:20.864Z"
   },
   {
    "duration": 19,
    "start_time": "2023-06-16T21:52:03.611Z"
   },
   {
    "duration": 570,
    "start_time": "2023-06-16T21:52:12.307Z"
   },
   {
    "duration": 37,
    "start_time": "2023-06-16T21:52:25.924Z"
   },
   {
    "duration": 29,
    "start_time": "2023-06-16T21:52:52.677Z"
   },
   {
    "duration": 23,
    "start_time": "2023-06-16T21:53:02.008Z"
   },
   {
    "duration": 19,
    "start_time": "2023-06-16T21:53:07.610Z"
   },
   {
    "duration": 28,
    "start_time": "2023-06-16T21:53:13.070Z"
   },
   {
    "duration": 395,
    "start_time": "2023-06-16T21:54:06.091Z"
   },
   {
    "duration": 560,
    "start_time": "2023-06-16T21:54:41.801Z"
   },
   {
    "duration": 13,
    "start_time": "2023-06-16T21:54:55.502Z"
   },
   {
    "duration": 543,
    "start_time": "2023-06-16T21:54:59.366Z"
   },
   {
    "duration": 44,
    "start_time": "2023-06-16T21:55:12.226Z"
   },
   {
    "duration": 22,
    "start_time": "2023-06-16T21:55:25.303Z"
   },
   {
    "duration": 7,
    "start_time": "2023-06-16T21:55:30.528Z"
   },
   {
    "duration": 10,
    "start_time": "2023-06-16T21:55:34.097Z"
   },
   {
    "duration": 507,
    "start_time": "2023-06-16T21:55:44.453Z"
   },
   {
    "duration": 5,
    "start_time": "2023-06-16T21:57:50.465Z"
   },
   {
    "duration": 462,
    "start_time": "2023-06-16T21:57:51.795Z"
   },
   {
    "duration": 20,
    "start_time": "2023-06-16T21:58:00.577Z"
   },
   {
    "duration": 349,
    "start_time": "2023-06-16T21:58:08.117Z"
   },
   {
    "duration": 21,
    "start_time": "2023-06-16T22:00:23.221Z"
   },
   {
    "duration": 39,
    "start_time": "2023-06-16T22:01:12.476Z"
   },
   {
    "duration": 10,
    "start_time": "2023-06-16T22:01:28.366Z"
   },
   {
    "duration": 12,
    "start_time": "2023-06-16T22:01:39.956Z"
   },
   {
    "duration": 11,
    "start_time": "2023-06-16T22:01:42.972Z"
   },
   {
    "duration": 35,
    "start_time": "2023-06-16T22:01:47.039Z"
   },
   {
    "duration": 20,
    "start_time": "2023-06-16T22:01:54.234Z"
   },
   {
    "duration": 9,
    "start_time": "2023-06-16T22:02:05.029Z"
   },
   {
    "duration": 35,
    "start_time": "2023-06-16T22:02:08.212Z"
   },
   {
    "duration": 11,
    "start_time": "2023-06-16T22:03:11.368Z"
   },
   {
    "duration": 20,
    "start_time": "2023-06-16T22:04:33.050Z"
   },
   {
    "duration": 381,
    "start_time": "2023-06-16T22:05:21.821Z"
   },
   {
    "duration": 72,
    "start_time": "2023-06-16T22:05:22.204Z"
   },
   {
    "duration": 31,
    "start_time": "2023-06-16T22:05:22.277Z"
   },
   {
    "duration": 31,
    "start_time": "2023-06-16T22:05:22.310Z"
   },
   {
    "duration": 25,
    "start_time": "2023-06-16T22:05:22.342Z"
   },
   {
    "duration": 7,
    "start_time": "2023-06-16T22:05:22.368Z"
   },
   {
    "duration": 9,
    "start_time": "2023-06-16T22:05:22.377Z"
   },
   {
    "duration": 31,
    "start_time": "2023-06-16T22:05:22.387Z"
   },
   {
    "duration": 51,
    "start_time": "2023-06-16T22:05:22.420Z"
   },
   {
    "duration": 16,
    "start_time": "2023-06-16T22:05:22.473Z"
   },
   {
    "duration": 3,
    "start_time": "2023-06-16T22:05:22.491Z"
   },
   {
    "duration": 20,
    "start_time": "2023-06-16T22:07:17.972Z"
   },
   {
    "duration": 39,
    "start_time": "2023-06-16T22:07:33.832Z"
   },
   {
    "duration": 36,
    "start_time": "2023-06-16T22:07:39.826Z"
   },
   {
    "duration": 81,
    "start_time": "2023-06-16T22:08:06.911Z"
   },
   {
    "duration": 35,
    "start_time": "2023-06-16T22:08:28.269Z"
   },
   {
    "duration": 35,
    "start_time": "2023-06-16T22:08:55.581Z"
   },
   {
    "duration": 34,
    "start_time": "2023-06-16T22:09:15.465Z"
   },
   {
    "duration": 66,
    "start_time": "2023-06-16T22:09:32.568Z"
   },
   {
    "duration": 44,
    "start_time": "2023-06-16T22:09:44.223Z"
   },
   {
    "duration": 39,
    "start_time": "2023-06-16T22:10:46.803Z"
   },
   {
    "duration": 6,
    "start_time": "2023-06-16T22:13:30.549Z"
   },
   {
    "duration": 5,
    "start_time": "2023-06-16T22:13:35.517Z"
   },
   {
    "duration": 8,
    "start_time": "2023-06-16T22:13:39.025Z"
   },
   {
    "duration": 11,
    "start_time": "2023-06-16T22:14:20.453Z"
   },
   {
    "duration": 8,
    "start_time": "2023-06-16T22:14:30.412Z"
   },
   {
    "duration": 6,
    "start_time": "2023-06-16T22:14:35.002Z"
   },
   {
    "duration": 6,
    "start_time": "2023-06-16T22:14:44.667Z"
   },
   {
    "duration": 387,
    "start_time": "2023-06-16T22:15:07.855Z"
   },
   {
    "duration": 66,
    "start_time": "2023-06-16T22:15:08.244Z"
   },
   {
    "duration": 31,
    "start_time": "2023-06-16T22:15:08.311Z"
   },
   {
    "duration": 30,
    "start_time": "2023-06-16T22:15:08.343Z"
   },
   {
    "duration": 9,
    "start_time": "2023-06-16T22:15:08.375Z"
   },
   {
    "duration": 4,
    "start_time": "2023-06-16T22:15:08.385Z"
   },
   {
    "duration": 8,
    "start_time": "2023-06-16T22:15:08.391Z"
   },
   {
    "duration": 5,
    "start_time": "2023-06-16T22:15:08.401Z"
   },
   {
    "duration": 74,
    "start_time": "2023-06-16T22:15:08.408Z"
   },
   {
    "duration": 3,
    "start_time": "2023-06-16T22:15:08.484Z"
   },
   {
    "duration": 1427,
    "start_time": "2023-06-16T22:15:56.805Z"
   },
   {
    "duration": 6,
    "start_time": "2023-06-16T22:16:17.066Z"
   },
   {
    "duration": 15,
    "start_time": "2023-06-16T22:17:20.471Z"
   },
   {
    "duration": 30,
    "start_time": "2023-06-16T22:17:30.031Z"
   },
   {
    "duration": 9,
    "start_time": "2023-06-16T22:19:02.315Z"
   },
   {
    "duration": 360,
    "start_time": "2023-06-16T22:19:10.571Z"
   },
   {
    "duration": 63,
    "start_time": "2023-06-16T22:19:10.933Z"
   },
   {
    "duration": 28,
    "start_time": "2023-06-16T22:19:10.997Z"
   },
   {
    "duration": 29,
    "start_time": "2023-06-16T22:19:11.027Z"
   },
   {
    "duration": 9,
    "start_time": "2023-06-16T22:19:11.058Z"
   },
   {
    "duration": 9,
    "start_time": "2023-06-16T22:19:11.068Z"
   },
   {
    "duration": 8,
    "start_time": "2023-06-16T22:19:11.078Z"
   },
   {
    "duration": 6,
    "start_time": "2023-06-16T22:19:11.088Z"
   },
   {
    "duration": 61,
    "start_time": "2023-06-16T22:19:11.095Z"
   },
   {
    "duration": 33,
    "start_time": "2023-06-16T22:19:11.158Z"
   },
   {
    "duration": 2,
    "start_time": "2023-06-16T22:19:11.192Z"
   },
   {
    "duration": 11,
    "start_time": "2023-06-16T22:19:27.171Z"
   },
   {
    "duration": 9,
    "start_time": "2023-06-16T22:19:39.219Z"
   },
   {
    "duration": 342,
    "start_time": "2023-06-16T22:19:55.208Z"
   },
   {
    "duration": 64,
    "start_time": "2023-06-16T22:19:55.552Z"
   },
   {
    "duration": 29,
    "start_time": "2023-06-16T22:19:55.617Z"
   },
   {
    "duration": 32,
    "start_time": "2023-06-16T22:19:55.648Z"
   },
   {
    "duration": 10,
    "start_time": "2023-06-16T22:19:55.681Z"
   },
   {
    "duration": 5,
    "start_time": "2023-06-16T22:19:55.693Z"
   },
   {
    "duration": 10,
    "start_time": "2023-06-16T22:19:55.700Z"
   },
   {
    "duration": 9,
    "start_time": "2023-06-16T22:19:55.711Z"
   },
   {
    "duration": 32,
    "start_time": "2023-06-16T22:19:55.751Z"
   },
   {
    "duration": 78,
    "start_time": "2023-06-16T22:19:55.785Z"
   },
   {
    "duration": 2,
    "start_time": "2023-06-16T22:19:55.865Z"
   },
   {
    "duration": 79,
    "start_time": "2023-06-16T22:26:29.620Z"
   },
   {
    "duration": 40,
    "start_time": "2023-06-16T22:26:48.780Z"
   },
   {
    "duration": 38,
    "start_time": "2023-06-16T22:26:55.157Z"
   },
   {
    "duration": 165,
    "start_time": "2023-06-16T22:26:58.799Z"
   },
   {
    "duration": 38,
    "start_time": "2023-06-16T22:27:09.886Z"
   },
   {
    "duration": 29,
    "start_time": "2023-06-16T22:27:18.147Z"
   },
   {
    "duration": 22,
    "start_time": "2023-06-16T22:27:22.356Z"
   },
   {
    "duration": 22,
    "start_time": "2023-06-16T22:27:35.330Z"
   },
   {
    "duration": 58,
    "start_time": "2023-06-16T22:27:43.093Z"
   },
   {
    "duration": 60,
    "start_time": "2023-06-16T22:27:51.700Z"
   },
   {
    "duration": 63,
    "start_time": "2023-06-16T22:28:00.618Z"
   },
   {
    "duration": 24,
    "start_time": "2023-06-16T22:28:18.801Z"
   },
   {
    "duration": 9,
    "start_time": "2023-06-16T22:28:26.670Z"
   },
   {
    "duration": 23,
    "start_time": "2023-06-16T22:28:31.852Z"
   },
   {
    "duration": 24,
    "start_time": "2023-06-16T22:28:38.526Z"
   },
   {
    "duration": 23,
    "start_time": "2023-06-16T22:28:42.607Z"
   },
   {
    "duration": 24,
    "start_time": "2023-06-16T22:28:47.648Z"
   },
   {
    "duration": 23,
    "start_time": "2023-06-16T22:28:53.055Z"
   },
   {
    "duration": 46,
    "start_time": "2023-06-16T22:28:57.290Z"
   },
   {
    "duration": 24,
    "start_time": "2023-06-16T22:29:00.626Z"
   },
   {
    "duration": 23,
    "start_time": "2023-06-16T22:37:48.655Z"
   },
   {
    "duration": 25,
    "start_time": "2023-06-16T22:38:23.155Z"
   },
   {
    "duration": 26,
    "start_time": "2023-06-16T22:38:29.954Z"
   },
   {
    "duration": 26,
    "start_time": "2023-06-16T22:38:35.343Z"
   },
   {
    "duration": 25,
    "start_time": "2023-06-16T22:38:42.134Z"
   },
   {
    "duration": 24,
    "start_time": "2023-06-16T22:38:44.579Z"
   },
   {
    "duration": 26,
    "start_time": "2023-06-16T22:38:49.687Z"
   },
   {
    "duration": 31,
    "start_time": "2023-06-16T22:38:52.485Z"
   },
   {
    "duration": 32,
    "start_time": "2023-06-16T22:38:54.468Z"
   },
   {
    "duration": 63,
    "start_time": "2023-06-16T22:39:07.316Z"
   },
   {
    "duration": 24,
    "start_time": "2023-06-16T22:39:11.888Z"
   },
   {
    "duration": 332,
    "start_time": "2023-06-16T22:46:28.505Z"
   },
   {
    "duration": 65,
    "start_time": "2023-06-16T22:46:28.838Z"
   },
   {
    "duration": 33,
    "start_time": "2023-06-16T22:46:28.905Z"
   },
   {
    "duration": 30,
    "start_time": "2023-06-16T22:46:28.940Z"
   },
   {
    "duration": 9,
    "start_time": "2023-06-16T22:46:28.972Z"
   },
   {
    "duration": 4,
    "start_time": "2023-06-16T22:46:28.982Z"
   },
   {
    "duration": 7,
    "start_time": "2023-06-16T22:46:28.988Z"
   },
   {
    "duration": 58,
    "start_time": "2023-06-16T22:46:28.996Z"
   },
   {
    "duration": 2,
    "start_time": "2023-06-16T22:46:29.056Z"
   },
   {
    "duration": 68,
    "start_time": "2023-06-16T22:47:41.796Z"
   },
   {
    "duration": 405,
    "start_time": "2023-06-17T08:51:44.659Z"
   },
   {
    "duration": 236,
    "start_time": "2023-06-17T08:51:45.065Z"
   },
   {
    "duration": 47,
    "start_time": "2023-06-17T08:51:45.303Z"
   },
   {
    "duration": 34,
    "start_time": "2023-06-17T08:51:45.352Z"
   },
   {
    "duration": 9,
    "start_time": "2023-06-17T08:51:45.389Z"
   },
   {
    "duration": 61,
    "start_time": "2023-06-17T08:51:45.399Z"
   },
   {
    "duration": 24,
    "start_time": "2023-06-17T08:51:45.462Z"
   },
   {
    "duration": 29,
    "start_time": "2023-06-17T08:51:45.487Z"
   },
   {
    "duration": 8,
    "start_time": "2023-06-17T08:51:45.518Z"
   },
   {
    "duration": 630,
    "start_time": "2023-06-17T08:51:45.527Z"
   },
   {
    "duration": 129,
    "start_time": "2023-06-17T08:51:52.052Z"
   },
   {
    "duration": 99,
    "start_time": "2023-06-17T08:52:09.090Z"
   },
   {
    "duration": 13,
    "start_time": "2023-06-17T08:53:19.009Z"
   },
   {
    "duration": 12,
    "start_time": "2023-06-17T08:55:50.913Z"
   },
   {
    "duration": 583,
    "start_time": "2023-06-17T09:01:03.724Z"
   },
   {
    "duration": 67,
    "start_time": "2023-06-17T09:01:04.309Z"
   },
   {
    "duration": 24,
    "start_time": "2023-06-17T09:01:04.378Z"
   },
   {
    "duration": 27,
    "start_time": "2023-06-17T09:01:04.404Z"
   },
   {
    "duration": 10,
    "start_time": "2023-06-17T09:01:04.433Z"
   },
   {
    "duration": 14,
    "start_time": "2023-06-17T09:01:04.446Z"
   },
   {
    "duration": 12,
    "start_time": "2023-06-17T09:01:04.462Z"
   },
   {
    "duration": 25,
    "start_time": "2023-06-17T09:01:04.475Z"
   },
   {
    "duration": 19,
    "start_time": "2023-06-17T09:01:04.501Z"
   },
   {
    "duration": 128,
    "start_time": "2023-06-17T09:01:04.522Z"
   },
   {
    "duration": 626,
    "start_time": "2023-06-17T09:01:06.350Z"
   },
   {
    "duration": 73,
    "start_time": "2023-06-17T09:01:06.977Z"
   },
   {
    "duration": 25,
    "start_time": "2023-06-17T09:01:07.051Z"
   },
   {
    "duration": 27,
    "start_time": "2023-06-17T09:01:07.078Z"
   },
   {
    "duration": 21,
    "start_time": "2023-06-17T09:01:07.106Z"
   },
   {
    "duration": 23,
    "start_time": "2023-06-17T09:01:07.129Z"
   },
   {
    "duration": 15,
    "start_time": "2023-06-17T09:01:07.154Z"
   },
   {
    "duration": 30,
    "start_time": "2023-06-17T09:01:07.171Z"
   },
   {
    "duration": 3,
    "start_time": "2023-06-17T09:01:07.203Z"
   },
   {
    "duration": 143,
    "start_time": "2023-06-17T09:01:07.209Z"
   },
   {
    "duration": 114,
    "start_time": "2023-06-17T09:01:36.070Z"
   },
   {
    "duration": 125,
    "start_time": "2023-06-17T09:01:44.496Z"
   },
   {
    "duration": 113,
    "start_time": "2023-06-17T09:01:50.938Z"
   },
   {
    "duration": 59,
    "start_time": "2023-06-17T09:01:54.115Z"
   },
   {
    "duration": 147,
    "start_time": "2023-06-17T09:02:03.560Z"
   },
   {
    "duration": 135,
    "start_time": "2023-06-17T09:02:30.032Z"
   },
   {
    "duration": 132,
    "start_time": "2023-06-17T09:02:32.464Z"
   },
   {
    "duration": 118,
    "start_time": "2023-06-17T09:02:44.893Z"
   },
   {
    "duration": 118,
    "start_time": "2023-06-17T09:17:54.196Z"
   },
   {
    "duration": 5,
    "start_time": "2023-06-17T09:18:13.088Z"
   },
   {
    "duration": 126,
    "start_time": "2023-06-17T09:19:09.052Z"
   },
   {
    "duration": 197,
    "start_time": "2023-06-17T09:21:23.017Z"
   },
   {
    "duration": 137,
    "start_time": "2023-06-17T09:21:30.118Z"
   },
   {
    "duration": 147,
    "start_time": "2023-06-17T09:22:19.816Z"
   },
   {
    "duration": 6,
    "start_time": "2023-06-17T09:22:59.164Z"
   },
   {
    "duration": 119,
    "start_time": "2023-06-17T09:23:00.667Z"
   },
   {
    "duration": 170,
    "start_time": "2023-06-17T09:23:51.303Z"
   },
   {
    "duration": 120,
    "start_time": "2023-06-17T09:24:26.067Z"
   },
   {
    "duration": 83,
    "start_time": "2023-06-17T09:24:50.698Z"
   },
   {
    "duration": 75,
    "start_time": "2023-06-17T09:25:00.052Z"
   },
   {
    "duration": 122,
    "start_time": "2023-06-17T09:25:04.194Z"
   },
   {
    "duration": 138,
    "start_time": "2023-06-17T09:25:07.217Z"
   },
   {
    "duration": 137,
    "start_time": "2023-06-17T09:25:09.767Z"
   },
   {
    "duration": 135,
    "start_time": "2023-06-17T09:25:12.915Z"
   },
   {
    "duration": 74,
    "start_time": "2023-06-17T09:25:16.621Z"
   },
   {
    "duration": 144,
    "start_time": "2023-06-17T09:25:20.310Z"
   },
   {
    "duration": 76,
    "start_time": "2023-06-17T09:25:23.423Z"
   },
   {
    "duration": 156,
    "start_time": "2023-06-17T09:26:18.699Z"
   },
   {
    "duration": 6,
    "start_time": "2023-06-17T09:27:00.812Z"
   },
   {
    "duration": 102,
    "start_time": "2023-06-17T09:27:04.056Z"
   },
   {
    "duration": 128,
    "start_time": "2023-06-17T09:29:27.962Z"
   },
   {
    "duration": 8,
    "start_time": "2023-06-17T09:29:42.606Z"
   },
   {
    "duration": 190,
    "start_time": "2023-06-17T09:29:45.293Z"
   },
   {
    "duration": 6,
    "start_time": "2023-06-17T09:30:18.840Z"
   },
   {
    "duration": 1258,
    "start_time": "2023-06-17T09:30:21.777Z"
   },
   {
    "duration": 7,
    "start_time": "2023-06-17T09:30:24.692Z"
   },
   {
    "duration": 6,
    "start_time": "2023-06-17T09:30:38.488Z"
   },
   {
    "duration": 8,
    "start_time": "2023-06-17T09:31:24.847Z"
   },
   {
    "duration": 7,
    "start_time": "2023-06-17T09:31:31.108Z"
   },
   {
    "duration": 6,
    "start_time": "2023-06-17T09:31:35.398Z"
   },
   {
    "duration": 5,
    "start_time": "2023-06-17T09:31:37.040Z"
   },
   {
    "duration": 6,
    "start_time": "2023-06-17T09:31:41.799Z"
   },
   {
    "duration": 141,
    "start_time": "2023-06-17T09:32:01.836Z"
   },
   {
    "duration": 131,
    "start_time": "2023-06-17T09:32:24.759Z"
   },
   {
    "duration": 147,
    "start_time": "2023-06-17T09:32:35.445Z"
   },
   {
    "duration": 136,
    "start_time": "2023-06-17T09:32:37.884Z"
   },
   {
    "duration": 132,
    "start_time": "2023-06-17T09:33:14.488Z"
   },
   {
    "duration": 138,
    "start_time": "2023-06-17T09:33:20.873Z"
   },
   {
    "duration": 146,
    "start_time": "2023-06-17T09:33:30.663Z"
   },
   {
    "duration": 228,
    "start_time": "2023-06-17T09:33:35.358Z"
   },
   {
    "duration": 146,
    "start_time": "2023-06-17T09:33:37.204Z"
   },
   {
    "duration": 231,
    "start_time": "2023-06-17T09:35:23.648Z"
   },
   {
    "duration": 209,
    "start_time": "2023-06-17T09:35:29.712Z"
   },
   {
    "duration": 225,
    "start_time": "2023-06-17T09:36:02.691Z"
   },
   {
    "duration": 124,
    "start_time": "2023-06-17T09:39:07.464Z"
   },
   {
    "duration": 159,
    "start_time": "2023-06-17T09:39:15.550Z"
   },
   {
    "duration": 124,
    "start_time": "2023-06-17T09:40:34.614Z"
   },
   {
    "duration": 186,
    "start_time": "2023-06-17T09:40:40.216Z"
   },
   {
    "duration": 144,
    "start_time": "2023-06-17T09:40:45.224Z"
   },
   {
    "duration": 163,
    "start_time": "2023-06-17T09:40:49.633Z"
   },
   {
    "duration": 176,
    "start_time": "2023-06-17T09:40:52.998Z"
   },
   {
    "duration": 168,
    "start_time": "2023-06-17T09:40:56.617Z"
   },
   {
    "duration": 159,
    "start_time": "2023-06-17T09:40:59.028Z"
   },
   {
    "duration": 148,
    "start_time": "2023-06-17T09:41:00.752Z"
   },
   {
    "duration": 157,
    "start_time": "2023-06-17T09:41:03.038Z"
   },
   {
    "duration": 181,
    "start_time": "2023-06-17T09:41:05.144Z"
   },
   {
    "duration": 129,
    "start_time": "2023-06-17T09:41:06.843Z"
   },
   {
    "duration": 169,
    "start_time": "2023-06-17T09:41:10.852Z"
   },
   {
    "duration": 212,
    "start_time": "2023-06-17T09:41:47.706Z"
   },
   {
    "duration": 226,
    "start_time": "2023-06-17T09:41:52.834Z"
   },
   {
    "duration": 614,
    "start_time": "2023-06-17T09:41:57.310Z"
   },
   {
    "duration": 175,
    "start_time": "2023-06-17T09:42:01.096Z"
   },
   {
    "duration": 166,
    "start_time": "2023-06-17T09:42:03.375Z"
   },
   {
    "duration": 260,
    "start_time": "2023-06-17T09:42:05.154Z"
   },
   {
    "duration": 6,
    "start_time": "2023-06-17T09:43:17.033Z"
   },
   {
    "duration": 155,
    "start_time": "2023-06-17T09:44:48.708Z"
   },
   {
    "duration": 147,
    "start_time": "2023-06-17T09:44:55.713Z"
   },
   {
    "duration": 146,
    "start_time": "2023-06-17T09:45:08.202Z"
   },
   {
    "duration": 154,
    "start_time": "2023-06-17T09:45:15.718Z"
   },
   {
    "duration": 233,
    "start_time": "2023-06-17T09:45:27.428Z"
   },
   {
    "duration": 253,
    "start_time": "2023-06-17T09:45:32.343Z"
   },
   {
    "duration": 235,
    "start_time": "2023-06-17T09:45:35.026Z"
   },
   {
    "duration": 292,
    "start_time": "2023-06-17T09:45:37.798Z"
   },
   {
    "duration": 229,
    "start_time": "2023-06-17T09:45:42.563Z"
   },
   {
    "duration": 221,
    "start_time": "2023-06-17T09:45:50.071Z"
   },
   {
    "duration": 223,
    "start_time": "2023-06-17T09:46:03.841Z"
   },
   {
    "duration": 78,
    "start_time": "2023-06-17T09:46:41.401Z"
   },
   {
    "duration": 109,
    "start_time": "2023-06-17T09:46:56.768Z"
   },
   {
    "duration": 134,
    "start_time": "2023-06-17T09:47:34.098Z"
   },
   {
    "duration": 160,
    "start_time": "2023-06-17T09:47:35.933Z"
   },
   {
    "duration": 229,
    "start_time": "2023-06-17T09:47:38.632Z"
   },
   {
    "duration": 311,
    "start_time": "2023-06-17T09:47:45.125Z"
   },
   {
    "duration": 225,
    "start_time": "2023-06-17T09:47:47.551Z"
   },
   {
    "duration": 7,
    "start_time": "2023-06-17T09:55:22.798Z"
   },
   {
    "duration": 8,
    "start_time": "2023-06-17T09:56:10.104Z"
   },
   {
    "duration": 2971,
    "start_time": "2023-06-17T10:01:50.502Z"
   },
   {
    "duration": 402,
    "start_time": "2023-06-17T10:01:58.129Z"
   },
   {
    "duration": 101,
    "start_time": "2023-06-17T10:02:05.730Z"
   },
   {
    "duration": 1036,
    "start_time": "2023-06-17T10:03:27.910Z"
   },
   {
    "duration": 1114,
    "start_time": "2023-06-17T10:03:49.662Z"
   },
   {
    "duration": 96,
    "start_time": "2023-06-17T10:04:14.245Z"
   },
   {
    "duration": 2019,
    "start_time": "2023-06-17T10:04:17.860Z"
   },
   {
    "duration": 2403,
    "start_time": "2023-06-17T10:04:53.263Z"
   },
   {
    "duration": 477,
    "start_time": "2023-06-17T10:05:02.334Z"
   },
   {
    "duration": 7,
    "start_time": "2023-06-17T10:06:24.122Z"
   },
   {
    "duration": 53,
    "start_time": "2023-06-17T10:06:30.899Z"
   },
   {
    "duration": 7,
    "start_time": "2023-06-17T10:06:32.850Z"
   },
   {
    "duration": 440,
    "start_time": "2023-06-17T10:06:43.231Z"
   },
   {
    "duration": 428,
    "start_time": "2023-06-17T10:08:30.140Z"
   },
   {
    "duration": 57,
    "start_time": "2023-06-17T10:09:12.006Z"
   },
   {
    "duration": 13,
    "start_time": "2023-06-17T10:10:04.303Z"
   },
   {
    "duration": 11,
    "start_time": "2023-06-17T10:10:13.975Z"
   },
   {
    "duration": 459,
    "start_time": "2023-06-17T10:10:42.966Z"
   },
   {
    "duration": 312,
    "start_time": "2023-06-17T10:10:48.603Z"
   },
   {
    "duration": 4,
    "start_time": "2023-06-17T10:43:42.524Z"
   },
   {
    "duration": 1494,
    "start_time": "2023-06-17T10:46:03.115Z"
   },
   {
    "duration": 7,
    "start_time": "2023-06-17T10:46:12.229Z"
   },
   {
    "duration": 163,
    "start_time": "2023-06-17T10:55:28.038Z"
   },
   {
    "duration": 10,
    "start_time": "2023-06-17T10:58:11.518Z"
   },
   {
    "duration": 10,
    "start_time": "2023-06-17T10:58:22.410Z"
   },
   {
    "duration": 7,
    "start_time": "2023-06-17T11:00:42.799Z"
   },
   {
    "duration": 8,
    "start_time": "2023-06-17T11:10:13.112Z"
   },
   {
    "duration": 162,
    "start_time": "2023-06-17T11:10:26.274Z"
   },
   {
    "duration": 156,
    "start_time": "2023-06-17T11:16:12.654Z"
   },
   {
    "duration": 10,
    "start_time": "2023-06-17T11:21:01.409Z"
   },
   {
    "duration": 26,
    "start_time": "2023-06-17T11:21:08.905Z"
   },
   {
    "duration": 38,
    "start_time": "2023-06-17T11:21:48.931Z"
   },
   {
    "duration": 31,
    "start_time": "2023-06-17T11:22:36.815Z"
   },
   {
    "duration": 36,
    "start_time": "2023-06-17T11:23:29.804Z"
   },
   {
    "duration": 7,
    "start_time": "2023-06-17T11:27:33.628Z"
   },
   {
    "duration": 33,
    "start_time": "2023-06-17T11:27:45.924Z"
   },
   {
    "duration": 124,
    "start_time": "2023-06-17T11:32:02.100Z"
   },
   {
    "duration": 254,
    "start_time": "2023-06-17T11:33:34.099Z"
   },
   {
    "duration": 384,
    "start_time": "2023-06-17T11:34:03.155Z"
   },
   {
    "duration": 444,
    "start_time": "2023-06-17T11:34:18.921Z"
   },
   {
    "duration": 380,
    "start_time": "2023-06-17T11:35:33.566Z"
   },
   {
    "duration": 27,
    "start_time": "2023-06-17T11:37:12.821Z"
   },
   {
    "duration": 450,
    "start_time": "2023-06-17T11:44:57.397Z"
   },
   {
    "duration": 512,
    "start_time": "2023-06-17T11:45:15.289Z"
   },
   {
    "duration": 414,
    "start_time": "2023-06-17T11:45:19.349Z"
   },
   {
    "duration": 927,
    "start_time": "2023-06-17T11:48:10.912Z"
   },
   {
    "duration": 9,
    "start_time": "2023-06-17T11:49:51.771Z"
   },
   {
    "duration": 7,
    "start_time": "2023-06-17T11:49:57.760Z"
   },
   {
    "duration": 10,
    "start_time": "2023-06-17T11:50:49.873Z"
   },
   {
    "duration": 12,
    "start_time": "2023-06-17T11:50:56.048Z"
   },
   {
    "duration": 646,
    "start_time": "2023-06-17T11:51:41.269Z"
   },
   {
    "duration": 601,
    "start_time": "2023-06-17T11:51:57.544Z"
   },
   {
    "duration": 561,
    "start_time": "2023-06-17T11:53:41.421Z"
   },
   {
    "duration": 524,
    "start_time": "2023-06-17T11:54:18.261Z"
   },
   {
    "duration": 603,
    "start_time": "2023-06-17T11:54:59.286Z"
   },
   {
    "duration": 16,
    "start_time": "2023-06-17T11:57:24.603Z"
   },
   {
    "duration": 17,
    "start_time": "2023-06-17T11:58:24.336Z"
   },
   {
    "duration": 24,
    "start_time": "2023-06-17T11:58:39.133Z"
   },
   {
    "duration": 19,
    "start_time": "2023-06-17T11:58:56.833Z"
   },
   {
    "duration": 42,
    "start_time": "2023-06-17T11:59:09.999Z"
   },
   {
    "duration": 20,
    "start_time": "2023-06-17T11:59:14.651Z"
   },
   {
    "duration": 633,
    "start_time": "2023-06-17T12:01:29.583Z"
   },
   {
    "duration": 628,
    "start_time": "2023-06-17T12:03:11.005Z"
   },
   {
    "duration": 710,
    "start_time": "2023-06-17T12:05:19.244Z"
   },
   {
    "duration": 608,
    "start_time": "2023-06-17T12:05:59.148Z"
   },
   {
    "duration": 574,
    "start_time": "2023-06-17T12:09:46.199Z"
   },
   {
    "duration": 608,
    "start_time": "2023-06-17T12:14:54.258Z"
   },
   {
    "duration": 546,
    "start_time": "2023-06-17T12:15:32.106Z"
   },
   {
    "duration": 593,
    "start_time": "2023-06-17T12:15:56.090Z"
   },
   {
    "duration": 15,
    "start_time": "2023-06-17T13:10:21.225Z"
   },
   {
    "duration": 24,
    "start_time": "2023-06-17T13:10:34.500Z"
   },
   {
    "duration": 26,
    "start_time": "2023-06-17T13:12:11.117Z"
   },
   {
    "duration": 64,
    "start_time": "2023-06-17T13:13:12.648Z"
   },
   {
    "duration": 18,
    "start_time": "2023-06-17T13:13:21.300Z"
   },
   {
    "duration": 28,
    "start_time": "2023-06-17T13:13:47.339Z"
   },
   {
    "duration": 26,
    "start_time": "2023-06-17T13:16:04.097Z"
   },
   {
    "duration": 28,
    "start_time": "2023-06-17T13:16:06.842Z"
   },
   {
    "duration": 20,
    "start_time": "2023-06-17T13:16:18.804Z"
   },
   {
    "duration": 19,
    "start_time": "2023-06-17T13:16:57.732Z"
   },
   {
    "duration": 18,
    "start_time": "2023-06-17T13:18:05.211Z"
   },
   {
    "duration": 16,
    "start_time": "2023-06-17T13:18:24.271Z"
   },
   {
    "duration": 17,
    "start_time": "2023-06-17T13:18:47.270Z"
   },
   {
    "duration": 66,
    "start_time": "2023-06-17T13:19:37.734Z"
   },
   {
    "duration": 10,
    "start_time": "2023-06-17T13:22:40.012Z"
   },
   {
    "duration": 551,
    "start_time": "2023-06-17T13:23:10.353Z"
   },
   {
    "duration": 65,
    "start_time": "2023-06-17T13:23:10.905Z"
   },
   {
    "duration": 23,
    "start_time": "2023-06-17T13:23:10.971Z"
   },
   {
    "duration": 27,
    "start_time": "2023-06-17T13:23:10.996Z"
   },
   {
    "duration": 8,
    "start_time": "2023-06-17T13:23:11.024Z"
   },
   {
    "duration": 8,
    "start_time": "2023-06-17T13:23:11.033Z"
   },
   {
    "duration": 23,
    "start_time": "2023-06-17T13:23:11.042Z"
   },
   {
    "duration": 30,
    "start_time": "2023-06-17T13:23:11.066Z"
   },
   {
    "duration": 2,
    "start_time": "2023-06-17T13:23:11.097Z"
   },
   {
    "duration": 308,
    "start_time": "2023-06-17T13:23:11.101Z"
   },
   {
    "duration": 10,
    "start_time": "2023-06-17T13:23:11.410Z"
   },
   {
    "duration": 112,
    "start_time": "2023-06-17T13:23:11.421Z"
   },
   {
    "duration": 5,
    "start_time": "2023-06-17T13:23:11.534Z"
   },
   {
    "duration": 79,
    "start_time": "2023-06-17T13:23:11.541Z"
   },
   {
    "duration": 6,
    "start_time": "2023-06-17T13:23:11.622Z"
   },
   {
    "duration": 77,
    "start_time": "2023-06-17T13:23:11.630Z"
   },
   {
    "duration": 0,
    "start_time": "2023-06-17T13:23:11.709Z"
   },
   {
    "duration": 0,
    "start_time": "2023-06-17T13:23:11.710Z"
   },
   {
    "duration": 0,
    "start_time": "2023-06-17T13:23:11.711Z"
   },
   {
    "duration": 0,
    "start_time": "2023-06-17T13:23:11.712Z"
   },
   {
    "duration": 0,
    "start_time": "2023-06-17T13:23:11.713Z"
   },
   {
    "duration": 0,
    "start_time": "2023-06-17T13:23:11.720Z"
   },
   {
    "duration": 0,
    "start_time": "2023-06-17T13:23:11.721Z"
   },
   {
    "duration": 0,
    "start_time": "2023-06-17T13:23:11.721Z"
   },
   {
    "duration": 0,
    "start_time": "2023-06-17T13:23:11.722Z"
   },
   {
    "duration": 252,
    "start_time": "2023-06-17T13:24:48.616Z"
   },
   {
    "duration": 553,
    "start_time": "2023-06-17T13:24:56.748Z"
   },
   {
    "duration": 66,
    "start_time": "2023-06-17T13:24:57.303Z"
   },
   {
    "duration": 25,
    "start_time": "2023-06-17T13:24:57.370Z"
   },
   {
    "duration": 26,
    "start_time": "2023-06-17T13:24:57.397Z"
   },
   {
    "duration": 7,
    "start_time": "2023-06-17T13:24:57.424Z"
   },
   {
    "duration": 17,
    "start_time": "2023-06-17T13:24:57.433Z"
   },
   {
    "duration": 23,
    "start_time": "2023-06-17T13:24:57.451Z"
   },
   {
    "duration": 23,
    "start_time": "2023-06-17T13:24:57.476Z"
   },
   {
    "duration": 3,
    "start_time": "2023-06-17T13:24:57.500Z"
   },
   {
    "duration": 299,
    "start_time": "2023-06-17T13:24:57.505Z"
   },
   {
    "duration": 4,
    "start_time": "2023-06-17T13:24:57.806Z"
   },
   {
    "duration": 117,
    "start_time": "2023-06-17T13:24:57.812Z"
   },
   {
    "duration": 5,
    "start_time": "2023-06-17T13:24:57.931Z"
   },
   {
    "duration": 79,
    "start_time": "2023-06-17T13:24:57.937Z"
   },
   {
    "duration": 8,
    "start_time": "2023-06-17T13:24:58.020Z"
   },
   {
    "duration": 277,
    "start_time": "2023-06-17T13:24:58.029Z"
   },
   {
    "duration": 13,
    "start_time": "2023-06-17T13:24:58.307Z"
   },
   {
    "duration": 194,
    "start_time": "2023-06-17T13:24:58.321Z"
   },
   {
    "duration": 8,
    "start_time": "2023-06-17T13:24:58.518Z"
   },
   {
    "duration": 161,
    "start_time": "2023-06-17T13:24:58.527Z"
   },
   {
    "duration": 38,
    "start_time": "2023-06-17T13:24:58.689Z"
   },
   {
    "duration": 37,
    "start_time": "2023-06-17T13:24:58.728Z"
   },
   {
    "duration": 548,
    "start_time": "2023-06-17T13:24:58.767Z"
   },
   {
    "duration": 17,
    "start_time": "2023-06-17T13:24:59.316Z"
   },
   {
    "duration": 1035,
    "start_time": "2023-06-17T13:24:59.334Z"
   },
   {
    "duration": 537,
    "start_time": "2023-06-17T13:25:58.071Z"
   },
   {
    "duration": 60,
    "start_time": "2023-06-17T13:28:24.219Z"
   },
   {
    "duration": 880,
    "start_time": "2023-06-17T13:28:28.919Z"
   },
   {
    "duration": 872,
    "start_time": "2023-06-17T13:28:44.484Z"
   },
   {
    "duration": 51,
    "start_time": "2023-06-17T13:29:00.246Z"
   },
   {
    "duration": 69,
    "start_time": "2023-06-17T13:29:07.108Z"
   },
   {
    "duration": 53,
    "start_time": "2023-06-17T13:29:10.440Z"
   },
   {
    "duration": 56,
    "start_time": "2023-06-17T13:29:12.727Z"
   },
   {
    "duration": 55,
    "start_time": "2023-06-17T13:29:17.235Z"
   },
   {
    "duration": 49,
    "start_time": "2023-06-17T13:29:19.748Z"
   },
   {
    "duration": 55,
    "start_time": "2023-06-17T13:29:28.206Z"
   },
   {
    "duration": 62,
    "start_time": "2023-06-17T13:29:44.966Z"
   },
   {
    "duration": 1046,
    "start_time": "2023-06-17T13:29:49.503Z"
   },
   {
    "duration": 856,
    "start_time": "2023-06-17T13:30:39.367Z"
   },
   {
    "duration": 8,
    "start_time": "2023-06-17T13:31:27.007Z"
   },
   {
    "duration": 16,
    "start_time": "2023-06-17T13:31:39.546Z"
   },
   {
    "duration": 13,
    "start_time": "2023-06-17T13:31:58.331Z"
   },
   {
    "duration": 12,
    "start_time": "2023-06-17T13:32:02.953Z"
   },
   {
    "duration": 1201,
    "start_time": "2023-06-17T13:32:12.499Z"
   },
   {
    "duration": 76,
    "start_time": "2023-06-17T13:32:16.703Z"
   },
   {
    "duration": 13,
    "start_time": "2023-06-17T13:33:21.528Z"
   },
   {
    "duration": 16,
    "start_time": "2023-06-17T13:41:12.949Z"
   },
   {
    "duration": 15,
    "start_time": "2023-06-17T13:41:18.735Z"
   },
   {
    "duration": 15,
    "start_time": "2023-06-17T13:41:25.943Z"
   },
   {
    "duration": 437,
    "start_time": "2023-06-17T13:47:00.259Z"
   },
   {
    "duration": 9,
    "start_time": "2023-06-17T13:48:46.959Z"
   },
   {
    "duration": 41,
    "start_time": "2023-06-17T13:49:01.303Z"
   },
   {
    "duration": 8,
    "start_time": "2023-06-17T13:49:08.307Z"
   },
   {
    "duration": 3,
    "start_time": "2023-06-17T13:51:01.532Z"
   },
   {
    "duration": 6,
    "start_time": "2023-06-17T13:51:13.907Z"
   },
   {
    "duration": 91,
    "start_time": "2023-06-17T13:54:23.273Z"
   },
   {
    "duration": 10,
    "start_time": "2023-06-17T14:01:03.567Z"
   },
   {
    "duration": 3,
    "start_time": "2023-06-17T14:01:05.004Z"
   },
   {
    "duration": 11,
    "start_time": "2023-06-17T14:01:06.007Z"
   },
   {
    "duration": 9,
    "start_time": "2023-06-17T14:01:15.691Z"
   },
   {
    "duration": 7,
    "start_time": "2023-06-17T14:01:33.553Z"
   },
   {
    "duration": 22,
    "start_time": "2023-06-17T14:01:38.319Z"
   },
   {
    "duration": 7,
    "start_time": "2023-06-17T14:02:18.691Z"
   },
   {
    "duration": 7,
    "start_time": "2023-06-17T14:02:57.577Z"
   },
   {
    "duration": 7,
    "start_time": "2023-06-17T14:03:13.392Z"
   },
   {
    "duration": 4,
    "start_time": "2023-06-17T14:04:34.348Z"
   },
   {
    "duration": 7,
    "start_time": "2023-06-17T14:04:48.067Z"
   },
   {
    "duration": 10,
    "start_time": "2023-06-17T14:05:35.018Z"
   },
   {
    "duration": 13,
    "start_time": "2023-06-17T14:06:54.636Z"
   },
   {
    "duration": 12,
    "start_time": "2023-06-17T14:07:08.219Z"
   },
   {
    "duration": 8,
    "start_time": "2023-06-17T14:07:09.901Z"
   },
   {
    "duration": 12,
    "start_time": "2023-06-17T14:08:19.049Z"
   },
   {
    "duration": 21,
    "start_time": "2023-06-17T14:08:21.843Z"
   },
   {
    "duration": 22,
    "start_time": "2023-06-17T14:08:35.951Z"
   },
   {
    "duration": 29,
    "start_time": "2023-06-17T14:08:55.885Z"
   },
   {
    "duration": 9,
    "start_time": "2023-06-17T14:09:53.494Z"
   },
   {
    "duration": 9,
    "start_time": "2023-06-17T14:10:30.393Z"
   },
   {
    "duration": 8,
    "start_time": "2023-06-17T14:10:32.082Z"
   },
   {
    "duration": 998,
    "start_time": "2023-06-17T14:10:37.857Z"
   },
   {
    "duration": 91,
    "start_time": "2023-06-17T14:10:38.857Z"
   },
   {
    "duration": 31,
    "start_time": "2023-06-17T14:10:38.954Z"
   },
   {
    "duration": 27,
    "start_time": "2023-06-17T14:10:38.988Z"
   },
   {
    "duration": 30,
    "start_time": "2023-06-17T14:10:39.016Z"
   },
   {
    "duration": 11,
    "start_time": "2023-06-17T14:10:39.047Z"
   },
   {
    "duration": 8,
    "start_time": "2023-06-17T14:10:39.059Z"
   },
   {
    "duration": 30,
    "start_time": "2023-06-17T14:10:39.068Z"
   },
   {
    "duration": 3,
    "start_time": "2023-06-17T14:10:39.099Z"
   },
   {
    "duration": 345,
    "start_time": "2023-06-17T14:10:39.104Z"
   },
   {
    "duration": 9,
    "start_time": "2023-06-17T14:10:39.450Z"
   },
   {
    "duration": 135,
    "start_time": "2023-06-17T14:10:39.460Z"
   },
   {
    "duration": 6,
    "start_time": "2023-06-17T14:10:39.596Z"
   },
   {
    "duration": 102,
    "start_time": "2023-06-17T14:10:39.603Z"
   },
   {
    "duration": 7,
    "start_time": "2023-06-17T14:10:39.707Z"
   },
   {
    "duration": 241,
    "start_time": "2023-06-17T14:10:39.715Z"
   },
   {
    "duration": 7,
    "start_time": "2023-06-17T14:10:39.958Z"
   },
   {
    "duration": 189,
    "start_time": "2023-06-17T14:10:39.967Z"
   },
   {
    "duration": 9,
    "start_time": "2023-06-17T14:10:40.158Z"
   },
   {
    "duration": 180,
    "start_time": "2023-06-17T14:10:40.168Z"
   },
   {
    "duration": 37,
    "start_time": "2023-06-17T14:10:40.349Z"
   },
   {
    "duration": 32,
    "start_time": "2023-06-17T14:10:40.388Z"
   },
   {
    "duration": 632,
    "start_time": "2023-06-17T14:10:40.438Z"
   },
   {
    "duration": 16,
    "start_time": "2023-06-17T14:10:41.071Z"
   },
   {
    "duration": 14,
    "start_time": "2023-06-17T14:10:41.089Z"
   },
   {
    "duration": 4,
    "start_time": "2023-06-17T14:10:41.129Z"
   },
   {
    "duration": 24,
    "start_time": "2023-06-17T14:10:41.134Z"
   },
   {
    "duration": 7,
    "start_time": "2023-06-17T14:10:59.877Z"
   },
   {
    "duration": 7,
    "start_time": "2023-06-17T14:11:02.807Z"
   },
   {
    "duration": 7,
    "start_time": "2023-06-17T14:11:09.807Z"
   },
   {
    "duration": 7,
    "start_time": "2023-06-17T14:11:34.293Z"
   },
   {
    "duration": 7,
    "start_time": "2023-06-17T14:11:38.202Z"
   },
   {
    "duration": 7,
    "start_time": "2023-06-17T14:11:44.816Z"
   },
   {
    "duration": 989,
    "start_time": "2023-06-17T14:11:53.980Z"
   },
   {
    "duration": 80,
    "start_time": "2023-06-17T14:11:54.971Z"
   },
   {
    "duration": 24,
    "start_time": "2023-06-17T14:11:55.053Z"
   },
   {
    "duration": 28,
    "start_time": "2023-06-17T14:11:55.080Z"
   },
   {
    "duration": 48,
    "start_time": "2023-06-17T14:11:55.110Z"
   },
   {
    "duration": 42,
    "start_time": "2023-06-17T14:11:55.160Z"
   },
   {
    "duration": 14,
    "start_time": "2023-06-17T14:11:55.204Z"
   },
   {
    "duration": 86,
    "start_time": "2023-06-17T14:11:55.223Z"
   },
   {
    "duration": 5,
    "start_time": "2023-06-17T14:11:55.311Z"
   },
   {
    "duration": 431,
    "start_time": "2023-06-17T14:11:55.319Z"
   },
   {
    "duration": 6,
    "start_time": "2023-06-17T14:11:55.752Z"
   },
   {
    "duration": 143,
    "start_time": "2023-06-17T14:11:55.760Z"
   },
   {
    "duration": 6,
    "start_time": "2023-06-17T14:11:55.904Z"
   },
   {
    "duration": 90,
    "start_time": "2023-06-17T14:11:55.911Z"
   },
   {
    "duration": 8,
    "start_time": "2023-06-17T14:11:56.002Z"
   },
   {
    "duration": 264,
    "start_time": "2023-06-17T14:11:56.011Z"
   },
   {
    "duration": 7,
    "start_time": "2023-06-17T14:11:56.276Z"
   },
   {
    "duration": 171,
    "start_time": "2023-06-17T14:11:56.284Z"
   },
   {
    "duration": 8,
    "start_time": "2023-06-17T14:11:56.456Z"
   },
   {
    "duration": 184,
    "start_time": "2023-06-17T14:11:56.465Z"
   },
   {
    "duration": 40,
    "start_time": "2023-06-17T14:11:56.651Z"
   },
   {
    "duration": 53,
    "start_time": "2023-06-17T14:11:56.693Z"
   },
   {
    "duration": 655,
    "start_time": "2023-06-17T14:11:56.750Z"
   },
   {
    "duration": 30,
    "start_time": "2023-06-17T14:11:57.407Z"
   },
   {
    "duration": 30,
    "start_time": "2023-06-17T14:11:57.439Z"
   },
   {
    "duration": 3,
    "start_time": "2023-06-17T14:11:57.470Z"
   },
   {
    "duration": 7,
    "start_time": "2023-06-17T14:11:57.474Z"
   },
   {
    "duration": 7,
    "start_time": "2023-06-17T14:13:08.250Z"
   },
   {
    "duration": 8,
    "start_time": "2023-06-17T14:13:19.391Z"
   },
   {
    "duration": 8,
    "start_time": "2023-06-17T14:13:30.994Z"
   },
   {
    "duration": 9,
    "start_time": "2023-06-17T14:14:29.668Z"
   },
   {
    "duration": 9,
    "start_time": "2023-06-17T14:14:36.350Z"
   },
   {
    "duration": 109,
    "start_time": "2023-06-17T14:14:42.446Z"
   },
   {
    "duration": 4,
    "start_time": "2023-06-17T14:14:47.558Z"
   },
   {
    "duration": 1046,
    "start_time": "2023-06-17T14:14:51.548Z"
   },
   {
    "duration": 6,
    "start_time": "2023-06-17T14:14:55.142Z"
   },
   {
    "duration": 12,
    "start_time": "2023-06-17T14:15:35.134Z"
   },
   {
    "duration": 8,
    "start_time": "2023-06-17T14:18:10.291Z"
   },
   {
    "duration": 8,
    "start_time": "2023-06-17T14:18:12.278Z"
   },
   {
    "duration": 8,
    "start_time": "2023-06-17T14:18:20.849Z"
   },
   {
    "duration": 7,
    "start_time": "2023-06-17T14:18:28.726Z"
   },
   {
    "duration": 19,
    "start_time": "2023-06-17T14:19:33.861Z"
   },
   {
    "duration": 8,
    "start_time": "2023-06-17T14:21:39.950Z"
   },
   {
    "duration": 9,
    "start_time": "2023-06-17T14:21:48.157Z"
   },
   {
    "duration": 9,
    "start_time": "2023-06-17T14:21:50.293Z"
   },
   {
    "duration": 8,
    "start_time": "2023-06-17T14:21:54.825Z"
   },
   {
    "duration": 7,
    "start_time": "2023-06-17T14:22:06.894Z"
   },
   {
    "duration": 8,
    "start_time": "2023-06-17T14:22:29.755Z"
   },
   {
    "duration": 8,
    "start_time": "2023-06-17T14:22:46.684Z"
   },
   {
    "duration": 8,
    "start_time": "2023-06-17T14:24:53.255Z"
   },
   {
    "duration": 5,
    "start_time": "2023-06-17T14:25:39.956Z"
   },
   {
    "duration": 970,
    "start_time": "2023-06-17T14:27:05.681Z"
   },
   {
    "duration": 80,
    "start_time": "2023-06-17T14:27:06.653Z"
   },
   {
    "duration": 26,
    "start_time": "2023-06-17T14:27:06.736Z"
   },
   {
    "duration": 29,
    "start_time": "2023-06-17T14:27:06.763Z"
   },
   {
    "duration": 9,
    "start_time": "2023-06-17T14:27:06.794Z"
   },
   {
    "duration": 16,
    "start_time": "2023-06-17T14:27:06.804Z"
   },
   {
    "duration": 24,
    "start_time": "2023-06-17T14:27:06.821Z"
   },
   {
    "duration": 28,
    "start_time": "2023-06-17T14:27:06.846Z"
   },
   {
    "duration": 3,
    "start_time": "2023-06-17T14:27:06.876Z"
   },
   {
    "duration": 352,
    "start_time": "2023-06-17T14:27:06.882Z"
   },
   {
    "duration": 14,
    "start_time": "2023-06-17T14:27:07.236Z"
   },
   {
    "duration": 148,
    "start_time": "2023-06-17T14:27:07.255Z"
   },
   {
    "duration": 6,
    "start_time": "2023-06-17T14:27:07.405Z"
   },
   {
    "duration": 123,
    "start_time": "2023-06-17T14:27:07.413Z"
   },
   {
    "duration": 7,
    "start_time": "2023-06-17T14:27:07.538Z"
   },
   {
    "duration": 244,
    "start_time": "2023-06-17T14:27:07.546Z"
   },
   {
    "duration": 8,
    "start_time": "2023-06-17T14:27:07.791Z"
   },
   {
    "duration": 177,
    "start_time": "2023-06-17T14:27:07.800Z"
   },
   {
    "duration": 7,
    "start_time": "2023-06-17T14:27:07.979Z"
   },
   {
    "duration": 205,
    "start_time": "2023-06-17T14:27:07.988Z"
   },
   {
    "duration": 39,
    "start_time": "2023-06-17T14:27:08.195Z"
   },
   {
    "duration": 7,
    "start_time": "2023-06-17T14:27:08.236Z"
   },
   {
    "duration": 650,
    "start_time": "2023-06-17T14:27:08.244Z"
   },
   {
    "duration": 27,
    "start_time": "2023-06-17T14:27:08.895Z"
   },
   {
    "duration": 22,
    "start_time": "2023-06-17T14:27:08.925Z"
   },
   {
    "duration": 7,
    "start_time": "2023-06-17T14:27:08.949Z"
   },
   {
    "duration": 11,
    "start_time": "2023-06-17T14:27:08.958Z"
   },
   {
    "duration": 5,
    "start_time": "2023-06-17T14:58:48.132Z"
   },
   {
    "duration": 5,
    "start_time": "2023-06-17T14:58:50.564Z"
   },
   {
    "duration": 6,
    "start_time": "2023-06-17T14:59:07.281Z"
   },
   {
    "duration": 15,
    "start_time": "2023-06-17T14:59:45.027Z"
   },
   {
    "duration": 18,
    "start_time": "2023-06-17T14:59:55.140Z"
   },
   {
    "duration": 5,
    "start_time": "2023-06-17T15:07:22.250Z"
   },
   {
    "duration": 5,
    "start_time": "2023-06-17T15:07:30.941Z"
   },
   {
    "duration": 5,
    "start_time": "2023-06-17T15:07:31.759Z"
   },
   {
    "duration": 7,
    "start_time": "2023-06-17T15:07:32.206Z"
   },
   {
    "duration": 6,
    "start_time": "2023-06-17T15:07:32.540Z"
   },
   {
    "duration": 6,
    "start_time": "2023-06-17T15:07:32.850Z"
   },
   {
    "duration": 60,
    "start_time": "2023-06-17T15:09:54.829Z"
   },
   {
    "duration": 6,
    "start_time": "2023-06-17T15:09:59.462Z"
   },
   {
    "duration": 112,
    "start_time": "2023-06-17T15:10:30.982Z"
   },
   {
    "duration": 6,
    "start_time": "2023-06-17T15:10:43.732Z"
   },
   {
    "duration": 5,
    "start_time": "2023-06-17T15:10:55.336Z"
   },
   {
    "duration": 6,
    "start_time": "2023-06-17T15:11:10.944Z"
   },
   {
    "duration": 18,
    "start_time": "2023-06-17T15:11:36.606Z"
   },
   {
    "duration": 11,
    "start_time": "2023-06-17T15:11:48.200Z"
   },
   {
    "duration": 18,
    "start_time": "2023-06-17T15:11:52.999Z"
   },
   {
    "duration": 16,
    "start_time": "2023-06-17T15:12:20.896Z"
   },
   {
    "duration": 5,
    "start_time": "2023-06-17T15:12:50.398Z"
   },
   {
    "duration": 6,
    "start_time": "2023-06-17T15:13:16.929Z"
   },
   {
    "duration": 7,
    "start_time": "2023-06-17T15:13:33.146Z"
   },
   {
    "duration": 6,
    "start_time": "2023-06-17T15:13:39.379Z"
   },
   {
    "duration": 5,
    "start_time": "2023-06-17T15:15:17.244Z"
   },
   {
    "duration": 6,
    "start_time": "2023-06-17T15:15:19.582Z"
   },
   {
    "duration": 17,
    "start_time": "2023-06-17T15:15:22.435Z"
   },
   {
    "duration": 6,
    "start_time": "2023-06-17T15:15:24.874Z"
   },
   {
    "duration": 6,
    "start_time": "2023-06-17T15:15:57.468Z"
   },
   {
    "duration": 5,
    "start_time": "2023-06-17T15:16:08.229Z"
   },
   {
    "duration": 5,
    "start_time": "2023-06-17T15:16:15.550Z"
   },
   {
    "duration": 5,
    "start_time": "2023-06-17T15:16:18.080Z"
   },
   {
    "duration": 5,
    "start_time": "2023-06-17T15:23:40.731Z"
   },
   {
    "duration": 6,
    "start_time": "2023-06-17T15:23:45.071Z"
   },
   {
    "duration": 6,
    "start_time": "2023-06-17T15:23:46.695Z"
   },
   {
    "duration": 6,
    "start_time": "2023-06-17T15:23:51.398Z"
   },
   {
    "duration": 6,
    "start_time": "2023-06-17T15:23:56.323Z"
   },
   {
    "duration": 7,
    "start_time": "2023-06-17T15:42:37.250Z"
   },
   {
    "duration": 5,
    "start_time": "2023-06-17T15:42:48.657Z"
   },
   {
    "duration": 4,
    "start_time": "2023-06-17T15:45:56.580Z"
   },
   {
    "duration": 6,
    "start_time": "2023-06-17T15:46:38.147Z"
   },
   {
    "duration": 5,
    "start_time": "2023-06-17T15:48:21.078Z"
   },
   {
    "duration": 4,
    "start_time": "2023-06-17T15:48:32.684Z"
   },
   {
    "duration": 5,
    "start_time": "2023-06-17T15:48:54.177Z"
   },
   {
    "duration": 6,
    "start_time": "2023-06-17T15:49:50.674Z"
   },
   {
    "duration": 5,
    "start_time": "2023-06-17T15:50:08.302Z"
   },
   {
    "duration": 5,
    "start_time": "2023-06-17T15:50:22.108Z"
   },
   {
    "duration": 5,
    "start_time": "2023-06-17T15:50:55.799Z"
   },
   {
    "duration": 5,
    "start_time": "2023-06-17T15:51:14.357Z"
   },
   {
    "duration": 5,
    "start_time": "2023-06-17T15:52:07.994Z"
   },
   {
    "duration": 6,
    "start_time": "2023-06-17T15:52:27.544Z"
   },
   {
    "duration": 6,
    "start_time": "2023-06-17T15:53:02.297Z"
   },
   {
    "duration": 7,
    "start_time": "2023-06-17T15:53:05.842Z"
   },
   {
    "duration": 5,
    "start_time": "2023-06-17T15:53:33.657Z"
   },
   {
    "duration": 9,
    "start_time": "2023-06-17T15:55:32.242Z"
   },
   {
    "duration": 10,
    "start_time": "2023-06-17T15:58:24.267Z"
   },
   {
    "duration": 6,
    "start_time": "2023-06-17T15:59:12.367Z"
   },
   {
    "duration": 10,
    "start_time": "2023-06-17T15:59:56.997Z"
   },
   {
    "duration": 6,
    "start_time": "2023-06-17T16:00:29.152Z"
   },
   {
    "duration": 6,
    "start_time": "2023-06-17T16:00:55.335Z"
   },
   {
    "duration": 6,
    "start_time": "2023-06-17T16:01:48.100Z"
   },
   {
    "duration": 6,
    "start_time": "2023-06-17T16:01:55.275Z"
   },
   {
    "duration": 9,
    "start_time": "2023-06-17T16:02:21.620Z"
   },
   {
    "duration": 5,
    "start_time": "2023-06-17T16:02:23.082Z"
   },
   {
    "duration": 6,
    "start_time": "2023-06-17T16:02:25.498Z"
   },
   {
    "duration": 5,
    "start_time": "2023-06-17T16:02:29.597Z"
   },
   {
    "duration": 6,
    "start_time": "2023-06-17T16:02:42.692Z"
   },
   {
    "duration": 5,
    "start_time": "2023-06-17T16:04:42.401Z"
   },
   {
    "duration": 39,
    "start_time": "2023-06-17T16:06:24.721Z"
   },
   {
    "duration": 9,
    "start_time": "2023-06-17T16:06:39.112Z"
   },
   {
    "duration": 10,
    "start_time": "2023-06-17T16:06:43.700Z"
   },
   {
    "duration": 5,
    "start_time": "2023-06-17T16:06:50.070Z"
   },
   {
    "duration": 9,
    "start_time": "2023-06-17T16:06:59.798Z"
   },
   {
    "duration": 1130,
    "start_time": "2023-06-17T16:07:34.739Z"
   },
   {
    "duration": 80,
    "start_time": "2023-06-17T16:07:35.871Z"
   },
   {
    "duration": 27,
    "start_time": "2023-06-17T16:07:35.953Z"
   },
   {
    "duration": 29,
    "start_time": "2023-06-17T16:07:35.981Z"
   },
   {
    "duration": 12,
    "start_time": "2023-06-17T16:07:36.012Z"
   },
   {
    "duration": 36,
    "start_time": "2023-06-17T16:07:36.025Z"
   },
   {
    "duration": 19,
    "start_time": "2023-06-17T16:07:36.062Z"
   },
   {
    "duration": 33,
    "start_time": "2023-06-17T16:07:36.083Z"
   },
   {
    "duration": 3,
    "start_time": "2023-06-17T16:07:36.118Z"
   },
   {
    "duration": 380,
    "start_time": "2023-06-17T16:07:36.122Z"
   },
   {
    "duration": 6,
    "start_time": "2023-06-17T16:07:36.504Z"
   },
   {
    "duration": 139,
    "start_time": "2023-06-17T16:07:36.512Z"
   },
   {
    "duration": 6,
    "start_time": "2023-06-17T16:07:36.652Z"
   },
   {
    "duration": 110,
    "start_time": "2023-06-17T16:07:36.660Z"
   },
   {
    "duration": 22,
    "start_time": "2023-06-17T16:07:36.771Z"
   },
   {
    "duration": 279,
    "start_time": "2023-06-17T16:07:36.795Z"
   },
   {
    "duration": 8,
    "start_time": "2023-06-17T16:07:37.076Z"
   },
   {
    "duration": 193,
    "start_time": "2023-06-17T16:07:37.086Z"
   },
   {
    "duration": 7,
    "start_time": "2023-06-17T16:07:37.280Z"
   },
   {
    "duration": 211,
    "start_time": "2023-06-17T16:07:37.289Z"
   },
   {
    "duration": 39,
    "start_time": "2023-06-17T16:07:37.501Z"
   },
   {
    "duration": 21,
    "start_time": "2023-06-17T16:07:37.554Z"
   },
   {
    "duration": 720,
    "start_time": "2023-06-17T16:07:37.577Z"
   },
   {
    "duration": 31,
    "start_time": "2023-06-17T16:07:38.299Z"
   },
   {
    "duration": 24,
    "start_time": "2023-06-17T16:07:38.332Z"
   },
   {
    "duration": 3,
    "start_time": "2023-06-17T16:07:38.357Z"
   },
   {
    "duration": 12,
    "start_time": "2023-06-17T16:07:38.362Z"
   },
   {
    "duration": 8,
    "start_time": "2023-06-17T16:07:38.375Z"
   },
   {
    "duration": 11,
    "start_time": "2023-06-17T16:08:05.527Z"
   },
   {
    "duration": 132,
    "start_time": "2023-06-17T16:08:22.906Z"
   },
   {
    "duration": 39,
    "start_time": "2023-06-17T16:08:30.617Z"
   },
   {
    "duration": 7,
    "start_time": "2023-06-17T16:08:46.075Z"
   },
   {
    "duration": 17,
    "start_time": "2023-06-17T16:08:49.200Z"
   },
   {
    "duration": 20,
    "start_time": "2023-06-17T16:09:05.715Z"
   },
   {
    "duration": 19,
    "start_time": "2023-06-17T16:09:11.942Z"
   },
   {
    "duration": 1149,
    "start_time": "2023-06-17T16:10:11.843Z"
   },
   {
    "duration": 104,
    "start_time": "2023-06-17T16:10:12.994Z"
   },
   {
    "duration": 43,
    "start_time": "2023-06-17T16:10:13.100Z"
   },
   {
    "duration": 45,
    "start_time": "2023-06-17T16:10:13.145Z"
   },
   {
    "duration": 12,
    "start_time": "2023-06-17T16:10:13.193Z"
   },
   {
    "duration": 15,
    "start_time": "2023-06-17T16:10:13.207Z"
   },
   {
    "duration": 50,
    "start_time": "2023-06-17T16:10:13.224Z"
   },
   {
    "duration": 30,
    "start_time": "2023-06-17T16:10:13.276Z"
   },
   {
    "duration": 3,
    "start_time": "2023-06-17T16:10:13.308Z"
   },
   {
    "duration": 459,
    "start_time": "2023-06-17T16:10:13.313Z"
   },
   {
    "duration": 6,
    "start_time": "2023-06-17T16:10:13.778Z"
   },
   {
    "duration": 180,
    "start_time": "2023-06-17T16:10:13.786Z"
   },
   {
    "duration": 12,
    "start_time": "2023-06-17T16:10:13.967Z"
   },
   {
    "duration": 98,
    "start_time": "2023-06-17T16:10:13.982Z"
   },
   {
    "duration": 7,
    "start_time": "2023-06-17T16:10:14.082Z"
   },
   {
    "duration": 284,
    "start_time": "2023-06-17T16:10:14.091Z"
   },
   {
    "duration": 8,
    "start_time": "2023-06-17T16:10:14.377Z"
   },
   {
    "duration": 191,
    "start_time": "2023-06-17T16:10:14.386Z"
   },
   {
    "duration": 7,
    "start_time": "2023-06-17T16:10:14.579Z"
   },
   {
    "duration": 181,
    "start_time": "2023-06-17T16:10:14.587Z"
   },
   {
    "duration": 31,
    "start_time": "2023-06-17T16:10:14.782Z"
   },
   {
    "duration": 44,
    "start_time": "2023-06-17T16:10:14.814Z"
   },
   {
    "duration": 700,
    "start_time": "2023-06-17T16:10:14.860Z"
   },
   {
    "duration": 15,
    "start_time": "2023-06-17T16:10:15.562Z"
   },
   {
    "duration": 36,
    "start_time": "2023-06-17T16:10:15.579Z"
   },
   {
    "duration": 2,
    "start_time": "2023-06-17T16:10:15.616Z"
   },
   {
    "duration": 45,
    "start_time": "2023-06-17T16:10:15.620Z"
   },
   {
    "duration": 8,
    "start_time": "2023-06-17T16:10:15.667Z"
   },
   {
    "duration": 23,
    "start_time": "2023-06-17T16:10:26.359Z"
   },
   {
    "duration": 39,
    "start_time": "2023-06-17T16:10:53.838Z"
   },
   {
    "duration": 21,
    "start_time": "2023-06-17T16:10:56.098Z"
   },
   {
    "duration": 568,
    "start_time": "2023-06-17T16:11:46.771Z"
   },
   {
    "duration": 1018,
    "start_time": "2023-06-17T16:11:56.195Z"
   },
   {
    "duration": 86,
    "start_time": "2023-06-17T16:11:57.214Z"
   },
   {
    "duration": 35,
    "start_time": "2023-06-17T16:11:57.301Z"
   },
   {
    "duration": 56,
    "start_time": "2023-06-17T16:11:57.337Z"
   },
   {
    "duration": 9,
    "start_time": "2023-06-17T16:11:57.397Z"
   },
   {
    "duration": 17,
    "start_time": "2023-06-17T16:11:57.408Z"
   },
   {
    "duration": 45,
    "start_time": "2023-06-17T16:11:57.426Z"
   },
   {
    "duration": 28,
    "start_time": "2023-06-17T16:11:57.472Z"
   },
   {
    "duration": 3,
    "start_time": "2023-06-17T16:11:57.501Z"
   },
   {
    "duration": 395,
    "start_time": "2023-06-17T16:11:57.506Z"
   },
   {
    "duration": 5,
    "start_time": "2023-06-17T16:11:57.903Z"
   },
   {
    "duration": 148,
    "start_time": "2023-06-17T16:11:57.910Z"
   },
   {
    "duration": 7,
    "start_time": "2023-06-17T16:11:58.069Z"
   },
   {
    "duration": 97,
    "start_time": "2023-06-17T16:11:58.080Z"
   },
   {
    "duration": 7,
    "start_time": "2023-06-17T16:11:58.179Z"
   },
   {
    "duration": 270,
    "start_time": "2023-06-17T16:11:58.188Z"
   },
   {
    "duration": 12,
    "start_time": "2023-06-17T16:11:58.460Z"
   },
   {
    "duration": 178,
    "start_time": "2023-06-17T16:11:58.473Z"
   },
   {
    "duration": 10,
    "start_time": "2023-06-17T16:11:58.653Z"
   },
   {
    "duration": 187,
    "start_time": "2023-06-17T16:11:58.666Z"
   },
   {
    "duration": 26,
    "start_time": "2023-06-17T16:11:58.855Z"
   },
   {
    "duration": 25,
    "start_time": "2023-06-17T16:11:58.882Z"
   },
   {
    "duration": 656,
    "start_time": "2023-06-17T16:11:58.930Z"
   },
   {
    "duration": 18,
    "start_time": "2023-06-17T16:11:59.588Z"
   },
   {
    "duration": 31,
    "start_time": "2023-06-17T16:11:59.608Z"
   },
   {
    "duration": 34,
    "start_time": "2023-06-17T16:11:59.645Z"
   },
   {
    "duration": 25,
    "start_time": "2023-06-17T16:11:59.681Z"
   },
   {
    "duration": 55,
    "start_time": "2023-06-17T16:11:59.707Z"
   },
   {
    "duration": 25,
    "start_time": "2023-06-17T16:12:21.852Z"
   },
   {
    "duration": 25,
    "start_time": "2023-06-17T16:12:23.456Z"
   },
   {
    "duration": 12,
    "start_time": "2023-06-17T16:12:41.518Z"
   },
   {
    "duration": 14,
    "start_time": "2023-06-17T16:12:45.647Z"
   },
   {
    "duration": 5,
    "start_time": "2023-06-17T16:12:54.738Z"
   },
   {
    "duration": 9,
    "start_time": "2023-06-17T16:13:06.034Z"
   },
   {
    "duration": 611,
    "start_time": "2023-06-17T16:15:17.694Z"
   },
   {
    "duration": 10,
    "start_time": "2023-06-17T16:16:19.956Z"
   },
   {
    "duration": 88,
    "start_time": "2023-06-17T16:16:19.967Z"
   },
   {
    "duration": 22,
    "start_time": "2023-06-17T16:16:20.056Z"
   },
   {
    "duration": 34,
    "start_time": "2023-06-17T16:16:20.081Z"
   },
   {
    "duration": 11,
    "start_time": "2023-06-17T16:16:20.116Z"
   },
   {
    "duration": 37,
    "start_time": "2023-06-17T16:16:20.128Z"
   },
   {
    "duration": 14,
    "start_time": "2023-06-17T16:16:20.166Z"
   },
   {
    "duration": 25,
    "start_time": "2023-06-17T16:16:20.182Z"
   },
   {
    "duration": 3,
    "start_time": "2023-06-17T16:16:20.209Z"
   },
   {
    "duration": 333,
    "start_time": "2023-06-17T16:16:20.214Z"
   },
   {
    "duration": 7,
    "start_time": "2023-06-17T16:16:20.549Z"
   },
   {
    "duration": 122,
    "start_time": "2023-06-17T16:16:20.558Z"
   },
   {
    "duration": 6,
    "start_time": "2023-06-17T16:16:20.681Z"
   },
   {
    "duration": 94,
    "start_time": "2023-06-17T16:16:20.688Z"
   },
   {
    "duration": 7,
    "start_time": "2023-06-17T16:16:20.783Z"
   },
   {
    "duration": 256,
    "start_time": "2023-06-17T16:16:20.791Z"
   },
   {
    "duration": 8,
    "start_time": "2023-06-17T16:16:21.049Z"
   },
   {
    "duration": 195,
    "start_time": "2023-06-17T16:16:21.059Z"
   },
   {
    "duration": 10,
    "start_time": "2023-06-17T16:16:21.259Z"
   },
   {
    "duration": 219,
    "start_time": "2023-06-17T16:16:21.270Z"
   },
   {
    "duration": 34,
    "start_time": "2023-06-17T16:16:21.491Z"
   },
   {
    "duration": 29,
    "start_time": "2023-06-17T16:16:21.526Z"
   },
   {
    "duration": 648,
    "start_time": "2023-06-17T16:16:21.557Z"
   },
   {
    "duration": 23,
    "start_time": "2023-06-17T16:16:22.206Z"
   },
   {
    "duration": 33,
    "start_time": "2023-06-17T16:16:22.230Z"
   },
   {
    "duration": 2,
    "start_time": "2023-06-17T16:16:22.264Z"
   },
   {
    "duration": 7,
    "start_time": "2023-06-17T16:16:22.267Z"
   },
   {
    "duration": 7,
    "start_time": "2023-06-17T16:16:22.275Z"
   },
   {
    "duration": 26,
    "start_time": "2023-06-17T16:16:59.808Z"
   },
   {
    "duration": 123,
    "start_time": "2023-06-17T16:17:05.551Z"
   },
   {
    "duration": 6,
    "start_time": "2023-06-17T16:17:13.112Z"
   },
   {
    "duration": 44,
    "start_time": "2023-06-17T16:17:20.696Z"
   },
   {
    "duration": 5,
    "start_time": "2023-06-17T16:19:17.470Z"
   },
   {
    "duration": 5,
    "start_time": "2023-06-17T16:19:24.096Z"
   },
   {
    "duration": 5,
    "start_time": "2023-06-17T16:19:27.007Z"
   },
   {
    "duration": 7,
    "start_time": "2023-06-17T16:20:11.667Z"
   },
   {
    "duration": 6,
    "start_time": "2023-06-17T16:21:51.999Z"
   },
   {
    "duration": 2363,
    "start_time": "2023-06-17T16:26:57.502Z"
   },
   {
    "duration": 2313,
    "start_time": "2023-06-17T16:27:14.550Z"
   },
   {
    "duration": 942,
    "start_time": "2023-06-17T16:35:46.334Z"
   },
   {
    "duration": 1116,
    "start_time": "2023-06-17T16:36:49.746Z"
   },
   {
    "duration": 84,
    "start_time": "2023-06-17T16:36:50.864Z"
   },
   {
    "duration": 29,
    "start_time": "2023-06-17T16:36:50.950Z"
   },
   {
    "duration": 26,
    "start_time": "2023-06-17T16:36:50.981Z"
   },
   {
    "duration": 7,
    "start_time": "2023-06-17T16:36:51.009Z"
   },
   {
    "duration": 41,
    "start_time": "2023-06-17T16:36:51.018Z"
   },
   {
    "duration": 17,
    "start_time": "2023-06-17T16:36:51.061Z"
   },
   {
    "duration": 27,
    "start_time": "2023-06-17T16:36:51.079Z"
   },
   {
    "duration": 3,
    "start_time": "2023-06-17T16:36:51.107Z"
   },
   {
    "duration": 359,
    "start_time": "2023-06-17T16:36:51.112Z"
   },
   {
    "duration": 5,
    "start_time": "2023-06-17T16:36:51.473Z"
   },
   {
    "duration": 143,
    "start_time": "2023-06-17T16:36:51.479Z"
   },
   {
    "duration": 11,
    "start_time": "2023-06-17T16:36:51.624Z"
   },
   {
    "duration": 120,
    "start_time": "2023-06-17T16:36:51.637Z"
   },
   {
    "duration": 8,
    "start_time": "2023-06-17T16:36:51.760Z"
   },
   {
    "duration": 256,
    "start_time": "2023-06-17T16:36:51.770Z"
   },
   {
    "duration": 9,
    "start_time": "2023-06-17T16:36:52.029Z"
   },
   {
    "duration": 214,
    "start_time": "2023-06-17T16:36:52.039Z"
   },
   {
    "duration": 10,
    "start_time": "2023-06-17T16:36:52.258Z"
   },
   {
    "duration": 196,
    "start_time": "2023-06-17T16:36:52.269Z"
   },
   {
    "duration": 31,
    "start_time": "2023-06-17T16:36:52.466Z"
   },
   {
    "duration": 7,
    "start_time": "2023-06-17T16:36:52.499Z"
   },
   {
    "duration": 755,
    "start_time": "2023-06-17T16:36:52.507Z"
   },
   {
    "duration": 1009,
    "start_time": "2023-06-17T16:36:53.264Z"
   },
   {
    "duration": 22,
    "start_time": "2023-06-17T16:36:54.285Z"
   },
   {
    "duration": 2,
    "start_time": "2023-06-17T16:36:54.308Z"
   },
   {
    "duration": 17,
    "start_time": "2023-06-17T16:36:54.311Z"
   },
   {
    "duration": 42,
    "start_time": "2023-06-17T16:36:54.331Z"
   },
   {
    "duration": 13,
    "start_time": "2023-06-17T16:36:54.374Z"
   },
   {
    "duration": 12,
    "start_time": "2023-06-17T16:36:54.388Z"
   },
   {
    "duration": 8,
    "start_time": "2023-06-17T16:37:05.987Z"
   },
   {
    "duration": 14,
    "start_time": "2023-06-17T16:38:08.813Z"
   },
   {
    "duration": 8,
    "start_time": "2023-06-17T16:38:14.669Z"
   },
   {
    "duration": 6,
    "start_time": "2023-06-17T16:38:41.097Z"
   },
   {
    "duration": 7,
    "start_time": "2023-06-17T16:38:50.492Z"
   },
   {
    "duration": 9,
    "start_time": "2023-06-17T16:38:54.218Z"
   },
   {
    "duration": 9,
    "start_time": "2023-06-17T16:39:13.792Z"
   },
   {
    "duration": 10,
    "start_time": "2023-06-17T16:40:02.588Z"
   },
   {
    "duration": 10,
    "start_time": "2023-06-17T16:40:29.340Z"
   },
   {
    "duration": 10,
    "start_time": "2023-06-17T16:40:39.738Z"
   },
   {
    "duration": 8,
    "start_time": "2023-06-17T16:40:42.494Z"
   },
   {
    "duration": 10,
    "start_time": "2023-06-17T16:41:37.758Z"
   },
   {
    "duration": 1073,
    "start_time": "2023-06-17T16:41:42.698Z"
   },
   {
    "duration": 79,
    "start_time": "2023-06-17T16:41:43.773Z"
   },
   {
    "duration": 28,
    "start_time": "2023-06-17T16:41:43.854Z"
   },
   {
    "duration": 45,
    "start_time": "2023-06-17T16:41:43.884Z"
   },
   {
    "duration": 14,
    "start_time": "2023-06-17T16:41:43.932Z"
   },
   {
    "duration": 15,
    "start_time": "2023-06-17T16:41:43.948Z"
   },
   {
    "duration": 13,
    "start_time": "2023-06-17T16:41:43.965Z"
   },
   {
    "duration": 27,
    "start_time": "2023-06-17T16:41:43.980Z"
   },
   {
    "duration": 4,
    "start_time": "2023-06-17T16:41:44.008Z"
   },
   {
    "duration": 374,
    "start_time": "2023-06-17T16:41:44.028Z"
   },
   {
    "duration": 5,
    "start_time": "2023-06-17T16:41:44.404Z"
   },
   {
    "duration": 142,
    "start_time": "2023-06-17T16:41:44.433Z"
   },
   {
    "duration": 6,
    "start_time": "2023-06-17T16:41:44.576Z"
   },
   {
    "duration": 85,
    "start_time": "2023-06-17T16:41:44.584Z"
   },
   {
    "duration": 8,
    "start_time": "2023-06-17T16:41:44.671Z"
   },
   {
    "duration": 260,
    "start_time": "2023-06-17T16:41:44.680Z"
   },
   {
    "duration": 10,
    "start_time": "2023-06-17T16:41:44.942Z"
   },
   {
    "duration": 199,
    "start_time": "2023-06-17T16:41:44.954Z"
   },
   {
    "duration": 9,
    "start_time": "2023-06-17T16:41:45.158Z"
   },
   {
    "duration": 209,
    "start_time": "2023-06-17T16:41:45.168Z"
   },
   {
    "duration": 32,
    "start_time": "2023-06-17T16:41:45.379Z"
   },
   {
    "duration": 10,
    "start_time": "2023-06-17T16:41:45.426Z"
   },
   {
    "duration": 752,
    "start_time": "2023-06-17T16:41:45.438Z"
   },
   {
    "duration": 928,
    "start_time": "2023-06-17T16:41:46.192Z"
   },
   {
    "duration": 29,
    "start_time": "2023-06-17T16:41:47.121Z"
   },
   {
    "duration": 8,
    "start_time": "2023-06-17T16:41:47.152Z"
   },
   {
    "duration": 16,
    "start_time": "2023-06-17T16:41:47.162Z"
   },
   {
    "duration": 8,
    "start_time": "2023-06-17T16:41:47.179Z"
   },
   {
    "duration": 14,
    "start_time": "2023-06-17T16:41:47.189Z"
   },
   {
    "duration": 11,
    "start_time": "2023-06-17T16:45:16.494Z"
   },
   {
    "duration": 12,
    "start_time": "2023-06-17T16:45:19.856Z"
   },
   {
    "duration": 15,
    "start_time": "2023-06-17T16:45:23.032Z"
   },
   {
    "duration": 8,
    "start_time": "2023-06-17T16:45:30.802Z"
   },
   {
    "duration": 11,
    "start_time": "2023-06-17T16:45:41.220Z"
   },
   {
    "duration": 12,
    "start_time": "2023-06-17T16:46:48.093Z"
   },
   {
    "duration": 13,
    "start_time": "2023-06-17T16:47:16.542Z"
   },
   {
    "duration": 14,
    "start_time": "2023-06-17T16:47:23.892Z"
   },
   {
    "duration": 10,
    "start_time": "2023-06-17T16:47:27.683Z"
   },
   {
    "duration": 11,
    "start_time": "2023-06-17T16:47:30.465Z"
   },
   {
    "duration": 13,
    "start_time": "2023-06-17T16:47:35.472Z"
   },
   {
    "duration": 7,
    "start_time": "2023-06-17T16:48:00.907Z"
   },
   {
    "duration": 7,
    "start_time": "2023-06-17T16:48:04.496Z"
   },
   {
    "duration": 7,
    "start_time": "2023-06-17T16:48:14.660Z"
   },
   {
    "duration": 10,
    "start_time": "2023-06-17T16:48:20.493Z"
   },
   {
    "duration": 9,
    "start_time": "2023-06-17T16:48:25.650Z"
   },
   {
    "duration": 10,
    "start_time": "2023-06-17T16:48:29.876Z"
   },
   {
    "duration": 12,
    "start_time": "2023-06-17T16:48:33.151Z"
   },
   {
    "duration": 4,
    "start_time": "2023-06-17T16:48:50.554Z"
   },
   {
    "duration": 13,
    "start_time": "2023-06-17T16:49:03.549Z"
   },
   {
    "duration": 20,
    "start_time": "2023-06-17T16:49:56.014Z"
   },
   {
    "duration": 9,
    "start_time": "2023-06-17T16:49:58.113Z"
   },
   {
    "duration": 115,
    "start_time": "2023-06-17T16:51:15.497Z"
   },
   {
    "duration": 9,
    "start_time": "2023-06-17T16:51:17.608Z"
   },
   {
    "duration": 9,
    "start_time": "2023-06-17T16:51:30.542Z"
   },
   {
    "duration": 8,
    "start_time": "2023-06-17T16:52:26.246Z"
   },
   {
    "duration": 12,
    "start_time": "2023-06-17T16:52:30.263Z"
   },
   {
    "duration": 4,
    "start_time": "2023-06-17T16:52:32.075Z"
   },
   {
    "duration": 6,
    "start_time": "2023-06-17T16:52:35.554Z"
   },
   {
    "duration": 9,
    "start_time": "2023-06-17T16:52:51.874Z"
   },
   {
    "duration": 24,
    "start_time": "2023-06-17T16:52:55.617Z"
   },
   {
    "duration": 8,
    "start_time": "2023-06-17T16:53:05.296Z"
   },
   {
    "duration": 13,
    "start_time": "2023-06-17T16:53:13.100Z"
   },
   {
    "duration": 24,
    "start_time": "2023-06-17T16:53:23.647Z"
   },
   {
    "duration": 10,
    "start_time": "2023-06-17T16:54:22.405Z"
   },
   {
    "duration": 8,
    "start_time": "2023-06-17T16:54:24.397Z"
   },
   {
    "duration": 9,
    "start_time": "2023-06-17T16:54:24.893Z"
   },
   {
    "duration": 18,
    "start_time": "2023-06-17T16:54:25.119Z"
   },
   {
    "duration": 16,
    "start_time": "2023-06-17T16:54:25.313Z"
   },
   {
    "duration": 19,
    "start_time": "2023-06-17T16:54:25.534Z"
   },
   {
    "duration": 11,
    "start_time": "2023-06-17T16:54:29.545Z"
   },
   {
    "duration": 10,
    "start_time": "2023-06-17T16:54:31.249Z"
   },
   {
    "duration": 5,
    "start_time": "2023-06-17T16:54:51.460Z"
   },
   {
    "duration": 6,
    "start_time": "2023-06-17T16:54:52.600Z"
   },
   {
    "duration": 9,
    "start_time": "2023-06-17T16:54:55.291Z"
   },
   {
    "duration": 5,
    "start_time": "2023-06-17T16:54:56.502Z"
   },
   {
    "duration": 3,
    "start_time": "2023-06-17T16:56:49.894Z"
   },
   {
    "duration": 7,
    "start_time": "2023-06-17T16:56:52.111Z"
   },
   {
    "duration": 6,
    "start_time": "2023-06-17T16:56:53.946Z"
   },
   {
    "duration": 12,
    "start_time": "2023-06-17T16:56:55.570Z"
   },
   {
    "duration": 1843,
    "start_time": "2023-06-17T16:57:18.270Z"
   },
   {
    "duration": 1951,
    "start_time": "2023-06-17T16:57:33.958Z"
   },
   {
    "duration": 19,
    "start_time": "2023-06-17T16:57:53.721Z"
   },
   {
    "duration": 10,
    "start_time": "2023-06-17T16:58:16.766Z"
   },
   {
    "duration": 9,
    "start_time": "2023-06-17T16:58:47.461Z"
   },
   {
    "duration": 9,
    "start_time": "2023-06-17T16:58:52.304Z"
   },
   {
    "duration": 10,
    "start_time": "2023-06-17T16:59:22.897Z"
   },
   {
    "duration": 1994,
    "start_time": "2023-06-17T17:00:04.274Z"
   },
   {
    "duration": 9,
    "start_time": "2023-06-17T17:00:31.671Z"
   },
   {
    "duration": 22,
    "start_time": "2023-06-17T17:01:19.142Z"
   },
   {
    "duration": 24,
    "start_time": "2023-06-17T17:01:25.009Z"
   },
   {
    "duration": 10,
    "start_time": "2023-06-17T17:01:30.261Z"
   },
   {
    "duration": 9,
    "start_time": "2023-06-17T17:02:31.868Z"
   },
   {
    "duration": 8,
    "start_time": "2023-06-17T17:02:36.385Z"
   },
   {
    "duration": 6,
    "start_time": "2023-06-17T17:09:04.395Z"
   },
   {
    "duration": 8,
    "start_time": "2023-06-17T17:09:47.849Z"
   },
   {
    "duration": 5,
    "start_time": "2023-06-17T17:11:04.592Z"
   },
   {
    "duration": 15,
    "start_time": "2023-06-17T17:11:07.334Z"
   },
   {
    "duration": 9,
    "start_time": "2023-06-17T17:11:32.961Z"
   },
   {
    "duration": 10,
    "start_time": "2023-06-17T17:11:37.061Z"
   },
   {
    "duration": 15,
    "start_time": "2023-06-17T17:11:53.675Z"
   },
   {
    "duration": 4,
    "start_time": "2023-06-17T17:12:08.013Z"
   },
   {
    "duration": 4,
    "start_time": "2023-06-17T17:12:40.797Z"
   },
   {
    "duration": 3,
    "start_time": "2023-06-17T17:13:59.211Z"
   },
   {
    "duration": 10,
    "start_time": "2023-06-17T17:14:07.155Z"
   },
   {
    "duration": 6,
    "start_time": "2023-06-17T17:14:17.846Z"
   },
   {
    "duration": 8,
    "start_time": "2023-06-17T17:14:24.445Z"
   },
   {
    "duration": 5,
    "start_time": "2023-06-17T17:16:28.793Z"
   },
   {
    "duration": 5,
    "start_time": "2023-06-17T17:16:34.903Z"
   },
   {
    "duration": 5,
    "start_time": "2023-06-17T17:16:38.406Z"
   },
   {
    "duration": 1020,
    "start_time": "2023-06-17T17:22:51.577Z"
   },
   {
    "duration": 93,
    "start_time": "2023-06-17T17:22:52.599Z"
   },
   {
    "duration": 31,
    "start_time": "2023-06-17T17:22:52.694Z"
   },
   {
    "duration": 36,
    "start_time": "2023-06-17T17:22:52.728Z"
   },
   {
    "duration": 18,
    "start_time": "2023-06-17T17:22:52.766Z"
   },
   {
    "duration": 25,
    "start_time": "2023-06-17T17:22:52.786Z"
   },
   {
    "duration": 19,
    "start_time": "2023-06-17T17:22:52.812Z"
   },
   {
    "duration": 45,
    "start_time": "2023-06-17T17:22:52.840Z"
   },
   {
    "duration": 2,
    "start_time": "2023-06-17T17:22:52.887Z"
   },
   {
    "duration": 376,
    "start_time": "2023-06-17T17:22:52.892Z"
   },
   {
    "duration": 8,
    "start_time": "2023-06-17T17:22:53.270Z"
   },
   {
    "duration": 132,
    "start_time": "2023-06-17T17:22:53.279Z"
   },
   {
    "duration": 25,
    "start_time": "2023-06-17T17:22:53.412Z"
   },
   {
    "duration": 116,
    "start_time": "2023-06-17T17:22:53.439Z"
   },
   {
    "duration": 7,
    "start_time": "2023-06-17T17:22:53.556Z"
   },
   {
    "duration": 243,
    "start_time": "2023-06-17T17:22:53.565Z"
   },
   {
    "duration": 16,
    "start_time": "2023-06-17T17:22:53.809Z"
   },
   {
    "duration": 178,
    "start_time": "2023-06-17T17:22:53.832Z"
   },
   {
    "duration": 15,
    "start_time": "2023-06-17T17:22:54.011Z"
   },
   {
    "duration": 196,
    "start_time": "2023-06-17T17:22:54.028Z"
   },
   {
    "duration": 37,
    "start_time": "2023-06-17T17:22:54.226Z"
   },
   {
    "duration": 6,
    "start_time": "2023-06-17T17:22:54.265Z"
   },
   {
    "duration": 672,
    "start_time": "2023-06-17T17:22:54.273Z"
   },
   {
    "duration": 995,
    "start_time": "2023-06-17T17:22:54.946Z"
   },
   {
    "duration": 31,
    "start_time": "2023-06-17T17:22:55.943Z"
   },
   {
    "duration": 5,
    "start_time": "2023-06-17T17:22:55.976Z"
   },
   {
    "duration": 7,
    "start_time": "2023-06-17T17:22:55.984Z"
   },
   {
    "duration": 11,
    "start_time": "2023-06-17T17:22:55.995Z"
   },
   {
    "duration": 28,
    "start_time": "2023-06-17T17:22:56.008Z"
   },
   {
    "duration": 41,
    "start_time": "2023-06-17T17:22:56.040Z"
   },
   {
    "duration": 52,
    "start_time": "2023-06-17T17:25:13.772Z"
   },
   {
    "duration": 39,
    "start_time": "2023-06-17T17:25:18.091Z"
   },
   {
    "duration": 9,
    "start_time": "2023-06-17T17:27:58.245Z"
   },
   {
    "duration": 1050,
    "start_time": "2023-06-18T06:20:33.274Z"
   },
   {
    "duration": 67,
    "start_time": "2023-06-18T06:20:34.325Z"
   },
   {
    "duration": 30,
    "start_time": "2023-06-18T06:20:34.393Z"
   },
   {
    "duration": 28,
    "start_time": "2023-06-18T06:20:34.424Z"
   },
   {
    "duration": 7,
    "start_time": "2023-06-18T06:20:34.454Z"
   },
   {
    "duration": 5,
    "start_time": "2023-06-18T06:20:34.463Z"
   },
   {
    "duration": 37,
    "start_time": "2023-06-18T06:20:34.469Z"
   },
   {
    "duration": 32,
    "start_time": "2023-06-18T06:20:34.508Z"
   },
   {
    "duration": 2,
    "start_time": "2023-06-18T06:20:34.542Z"
   },
   {
    "duration": 326,
    "start_time": "2023-06-18T06:20:34.546Z"
   },
   {
    "duration": 5,
    "start_time": "2023-06-18T06:20:34.873Z"
   },
   {
    "duration": 120,
    "start_time": "2023-06-18T06:20:34.879Z"
   },
   {
    "duration": 5,
    "start_time": "2023-06-18T06:20:35.001Z"
   },
   {
    "duration": 75,
    "start_time": "2023-06-18T06:20:35.008Z"
   },
   {
    "duration": 18,
    "start_time": "2023-06-18T06:20:35.085Z"
   },
   {
    "duration": 228,
    "start_time": "2023-06-18T06:20:35.105Z"
   },
   {
    "duration": 11,
    "start_time": "2023-06-18T06:20:35.334Z"
   },
   {
    "duration": 181,
    "start_time": "2023-06-18T06:20:35.346Z"
   },
   {
    "duration": 8,
    "start_time": "2023-06-18T06:20:35.529Z"
   },
   {
    "duration": 185,
    "start_time": "2023-06-18T06:20:35.539Z"
   },
   {
    "duration": 28,
    "start_time": "2023-06-18T06:20:35.726Z"
   },
   {
    "duration": 33,
    "start_time": "2023-06-18T06:20:35.756Z"
   },
   {
    "duration": 668,
    "start_time": "2023-06-18T06:20:35.791Z"
   },
   {
    "duration": 779,
    "start_time": "2023-06-18T06:20:36.460Z"
   },
   {
    "duration": 21,
    "start_time": "2023-06-18T06:20:37.240Z"
   },
   {
    "duration": 2,
    "start_time": "2023-06-18T06:20:37.262Z"
   },
   {
    "duration": 7,
    "start_time": "2023-06-18T06:20:37.265Z"
   },
   {
    "duration": 28,
    "start_time": "2023-06-18T06:20:37.273Z"
   },
   {
    "duration": 9,
    "start_time": "2023-06-18T06:20:37.302Z"
   },
   {
    "duration": 6,
    "start_time": "2023-06-18T06:32:50.912Z"
   },
   {
    "duration": 23,
    "start_time": "2023-06-18T06:34:00.194Z"
   },
   {
    "duration": 953,
    "start_time": "2023-06-18T06:44:14.858Z"
   },
   {
    "duration": 67,
    "start_time": "2023-06-18T06:44:15.813Z"
   },
   {
    "duration": 24,
    "start_time": "2023-06-18T06:44:15.881Z"
   },
   {
    "duration": 27,
    "start_time": "2023-06-18T06:44:15.907Z"
   },
   {
    "duration": 15,
    "start_time": "2023-06-18T06:44:15.935Z"
   },
   {
    "duration": 40,
    "start_time": "2023-06-18T06:44:15.951Z"
   },
   {
    "duration": 42,
    "start_time": "2023-06-18T06:44:15.993Z"
   },
   {
    "duration": 32,
    "start_time": "2023-06-18T06:44:16.037Z"
   },
   {
    "duration": 3,
    "start_time": "2023-06-18T06:44:16.071Z"
   },
   {
    "duration": 401,
    "start_time": "2023-06-18T06:44:16.077Z"
   },
   {
    "duration": 7,
    "start_time": "2023-06-18T06:44:16.479Z"
   },
   {
    "duration": 156,
    "start_time": "2023-06-18T06:44:16.487Z"
   },
   {
    "duration": 6,
    "start_time": "2023-06-18T06:44:16.644Z"
   },
   {
    "duration": 161,
    "start_time": "2023-06-18T06:44:16.652Z"
   },
   {
    "duration": 8,
    "start_time": "2023-06-18T06:44:16.815Z"
   },
   {
    "duration": 300,
    "start_time": "2023-06-18T06:44:16.825Z"
   },
   {
    "duration": 10,
    "start_time": "2023-06-18T06:44:17.127Z"
   },
   {
    "duration": 173,
    "start_time": "2023-06-18T06:44:17.138Z"
   },
   {
    "duration": 8,
    "start_time": "2023-06-18T06:44:17.312Z"
   },
   {
    "duration": 186,
    "start_time": "2023-06-18T06:44:17.322Z"
   },
   {
    "duration": 42,
    "start_time": "2023-06-18T06:44:17.510Z"
   },
   {
    "duration": 7,
    "start_time": "2023-06-18T06:44:17.554Z"
   },
   {
    "duration": 646,
    "start_time": "2023-06-18T06:44:17.563Z"
   },
   {
    "duration": 814,
    "start_time": "2023-06-18T06:44:18.210Z"
   },
   {
    "duration": 20,
    "start_time": "2023-06-18T06:44:19.025Z"
   },
   {
    "duration": 3,
    "start_time": "2023-06-18T06:44:19.046Z"
   },
   {
    "duration": 12,
    "start_time": "2023-06-18T06:44:19.051Z"
   },
   {
    "duration": 10,
    "start_time": "2023-06-18T06:44:19.065Z"
   },
   {
    "duration": 24,
    "start_time": "2023-06-18T06:44:19.076Z"
   },
   {
    "duration": 52,
    "start_time": "2023-06-18T10:08:43.642Z"
   },
   {
    "duration": 1264,
    "start_time": "2023-06-18T10:08:53.435Z"
   },
   {
    "duration": 231,
    "start_time": "2023-06-18T10:08:54.701Z"
   },
   {
    "duration": 35,
    "start_time": "2023-06-18T10:08:54.935Z"
   },
   {
    "duration": 31,
    "start_time": "2023-06-18T10:08:54.971Z"
   },
   {
    "duration": 1169,
    "start_time": "2023-06-18T10:08:55.004Z"
   },
   {
    "duration": 0,
    "start_time": "2023-06-18T10:08:56.175Z"
   },
   {
    "duration": 0,
    "start_time": "2023-06-18T10:08:56.176Z"
   },
   {
    "duration": 0,
    "start_time": "2023-06-18T10:08:56.179Z"
   },
   {
    "duration": 0,
    "start_time": "2023-06-18T10:08:56.180Z"
   },
   {
    "duration": 0,
    "start_time": "2023-06-18T10:08:56.182Z"
   },
   {
    "duration": 0,
    "start_time": "2023-06-18T10:08:56.183Z"
   },
   {
    "duration": 0,
    "start_time": "2023-06-18T10:08:56.184Z"
   },
   {
    "duration": 0,
    "start_time": "2023-06-18T10:08:56.185Z"
   },
   {
    "duration": 0,
    "start_time": "2023-06-18T10:08:56.187Z"
   },
   {
    "duration": 0,
    "start_time": "2023-06-18T10:08:56.188Z"
   },
   {
    "duration": 0,
    "start_time": "2023-06-18T10:08:56.190Z"
   },
   {
    "duration": 0,
    "start_time": "2023-06-18T10:08:56.191Z"
   },
   {
    "duration": 0,
    "start_time": "2023-06-18T10:08:56.192Z"
   },
   {
    "duration": 0,
    "start_time": "2023-06-18T10:08:56.194Z"
   },
   {
    "duration": 0,
    "start_time": "2023-06-18T10:08:56.195Z"
   },
   {
    "duration": 0,
    "start_time": "2023-06-18T10:08:56.197Z"
   },
   {
    "duration": 0,
    "start_time": "2023-06-18T10:08:56.198Z"
   },
   {
    "duration": 0,
    "start_time": "2023-06-18T10:08:56.200Z"
   },
   {
    "duration": 0,
    "start_time": "2023-06-18T10:08:56.201Z"
   },
   {
    "duration": 0,
    "start_time": "2023-06-18T10:08:56.202Z"
   },
   {
    "duration": 0,
    "start_time": "2023-06-18T10:08:56.203Z"
   },
   {
    "duration": 0,
    "start_time": "2023-06-18T10:08:56.204Z"
   },
   {
    "duration": 0,
    "start_time": "2023-06-18T10:08:56.206Z"
   },
   {
    "duration": 0,
    "start_time": "2023-06-18T10:08:56.207Z"
   },
   {
    "duration": 0,
    "start_time": "2023-06-18T10:08:56.208Z"
   },
   {
    "duration": 6,
    "start_time": "2023-06-18T10:09:08.557Z"
   },
   {
    "duration": 5,
    "start_time": "2023-06-18T10:11:29.581Z"
   },
   {
    "duration": 6,
    "start_time": "2023-06-18T10:11:37.196Z"
   },
   {
    "duration": 12,
    "start_time": "2023-06-18T10:11:42.913Z"
   },
   {
    "duration": 7,
    "start_time": "2023-06-18T10:11:55.038Z"
   },
   {
    "duration": 1134,
    "start_time": "2023-06-18T10:12:46.830Z"
   },
   {
    "duration": 78,
    "start_time": "2023-06-18T10:12:47.965Z"
   },
   {
    "duration": 35,
    "start_time": "2023-06-18T10:12:48.045Z"
   },
   {
    "duration": 33,
    "start_time": "2023-06-18T10:12:48.082Z"
   },
   {
    "duration": 12,
    "start_time": "2023-06-18T10:12:48.126Z"
   },
   {
    "duration": 12,
    "start_time": "2023-06-18T10:12:48.140Z"
   },
   {
    "duration": 6,
    "start_time": "2023-06-18T10:12:48.153Z"
   },
   {
    "duration": 31,
    "start_time": "2023-06-18T10:12:48.161Z"
   },
   {
    "duration": 42,
    "start_time": "2023-06-18T10:12:48.194Z"
   },
   {
    "duration": 3,
    "start_time": "2023-06-18T10:12:48.238Z"
   },
   {
    "duration": 351,
    "start_time": "2023-06-18T10:12:48.242Z"
   },
   {
    "duration": 6,
    "start_time": "2023-06-18T10:12:48.595Z"
   },
   {
    "duration": 143,
    "start_time": "2023-06-18T10:12:48.602Z"
   },
   {
    "duration": 7,
    "start_time": "2023-06-18T10:12:48.748Z"
   },
   {
    "duration": 109,
    "start_time": "2023-06-18T10:12:48.757Z"
   },
   {
    "duration": 8,
    "start_time": "2023-06-18T10:12:48.868Z"
   },
   {
    "duration": 258,
    "start_time": "2023-06-18T10:12:48.878Z"
   },
   {
    "duration": 8,
    "start_time": "2023-06-18T10:12:49.138Z"
   },
   {
    "duration": 198,
    "start_time": "2023-06-18T10:12:49.147Z"
   },
   {
    "duration": 8,
    "start_time": "2023-06-18T10:12:49.347Z"
   },
   {
    "duration": 198,
    "start_time": "2023-06-18T10:12:49.356Z"
   },
   {
    "duration": 30,
    "start_time": "2023-06-18T10:12:49.555Z"
   },
   {
    "duration": 6,
    "start_time": "2023-06-18T10:12:49.587Z"
   },
   {
    "duration": 668,
    "start_time": "2023-06-18T10:12:49.595Z"
   },
   {
    "duration": 865,
    "start_time": "2023-06-18T10:12:50.264Z"
   },
   {
    "duration": 22,
    "start_time": "2023-06-18T10:12:51.131Z"
   },
   {
    "duration": 3,
    "start_time": "2023-06-18T10:12:51.154Z"
   },
   {
    "duration": 33,
    "start_time": "2023-06-18T10:12:51.159Z"
   },
   {
    "duration": 62,
    "start_time": "2023-06-18T10:12:51.194Z"
   },
   {
    "duration": 87,
    "start_time": "2023-06-18T10:12:51.258Z"
   },
   {
    "duration": 109,
    "start_time": "2023-06-18T10:16:37.358Z"
   },
   {
    "duration": 13,
    "start_time": "2023-06-18T10:16:55.835Z"
   },
   {
    "duration": 123,
    "start_time": "2023-06-18T10:17:02.573Z"
   },
   {
    "duration": 128,
    "start_time": "2023-06-18T10:17:12.363Z"
   },
   {
    "duration": 114,
    "start_time": "2023-06-18T10:17:16.190Z"
   },
   {
    "duration": 132,
    "start_time": "2023-06-18T10:19:44.818Z"
   },
   {
    "duration": 559,
    "start_time": "2023-06-18T10:32:35.755Z"
   },
   {
    "duration": 689,
    "start_time": "2023-06-18T10:32:53.403Z"
   },
   {
    "duration": 284,
    "start_time": "2023-06-18T10:34:15.915Z"
   },
   {
    "duration": 102,
    "start_time": "2023-06-18T10:38:06.199Z"
   },
   {
    "duration": 9,
    "start_time": "2023-06-18T10:42:50.667Z"
   },
   {
    "duration": 1179,
    "start_time": "2023-06-18T10:42:56.704Z"
   },
   {
    "duration": 1351,
    "start_time": "2023-06-18T10:43:21.644Z"
   },
   {
    "duration": 1120,
    "start_time": "2023-06-18T10:43:45.700Z"
   },
   {
    "duration": 1140,
    "start_time": "2023-06-18T10:44:04.507Z"
   },
   {
    "duration": 1187,
    "start_time": "2023-06-18T10:44:12.508Z"
   },
   {
    "duration": 77,
    "start_time": "2023-06-18T10:44:13.697Z"
   },
   {
    "duration": 59,
    "start_time": "2023-06-18T10:44:13.776Z"
   },
   {
    "duration": 50,
    "start_time": "2023-06-18T10:44:13.839Z"
   },
   {
    "duration": 7,
    "start_time": "2023-06-18T10:44:13.891Z"
   },
   {
    "duration": 28,
    "start_time": "2023-06-18T10:44:13.900Z"
   },
   {
    "duration": 34,
    "start_time": "2023-06-18T10:44:13.929Z"
   },
   {
    "duration": 33,
    "start_time": "2023-06-18T10:44:13.965Z"
   },
   {
    "duration": 42,
    "start_time": "2023-06-18T10:44:14.000Z"
   },
   {
    "duration": 10,
    "start_time": "2023-06-18T10:44:14.043Z"
   },
   {
    "duration": 371,
    "start_time": "2023-06-18T10:44:14.054Z"
   },
   {
    "duration": 9,
    "start_time": "2023-06-18T10:44:14.427Z"
   },
   {
    "duration": 144,
    "start_time": "2023-06-18T10:44:14.438Z"
   },
   {
    "duration": 7,
    "start_time": "2023-06-18T10:44:14.584Z"
   },
   {
    "duration": 116,
    "start_time": "2023-06-18T10:44:14.594Z"
   },
   {
    "duration": 22,
    "start_time": "2023-06-18T10:44:14.713Z"
   },
   {
    "duration": 301,
    "start_time": "2023-06-18T10:44:14.738Z"
   },
   {
    "duration": 8,
    "start_time": "2023-06-18T10:44:15.043Z"
   },
   {
    "duration": 238,
    "start_time": "2023-06-18T10:44:15.053Z"
   },
   {
    "duration": 11,
    "start_time": "2023-06-18T10:44:15.294Z"
   },
   {
    "duration": 260,
    "start_time": "2023-06-18T10:44:15.306Z"
   },
   {
    "duration": 58,
    "start_time": "2023-06-18T10:44:15.568Z"
   },
   {
    "duration": 17,
    "start_time": "2023-06-18T10:44:15.634Z"
   },
   {
    "duration": 749,
    "start_time": "2023-06-18T10:44:15.653Z"
   },
   {
    "duration": 4,
    "start_time": "2023-06-18T10:44:16.405Z"
   },
   {
    "duration": 972,
    "start_time": "2023-06-18T10:44:16.425Z"
   },
   {
    "duration": 39,
    "start_time": "2023-06-18T10:44:17.398Z"
   },
   {
    "duration": 6,
    "start_time": "2023-06-18T10:44:17.439Z"
   },
   {
    "duration": 26,
    "start_time": "2023-06-18T10:44:17.447Z"
   },
   {
    "duration": 12,
    "start_time": "2023-06-18T10:44:17.475Z"
   },
   {
    "duration": 25,
    "start_time": "2023-06-18T10:44:17.489Z"
   },
   {
    "duration": 29,
    "start_time": "2023-06-18T10:44:49.210Z"
   },
   {
    "duration": 4,
    "start_time": "2023-06-18T10:45:21.454Z"
   },
   {
    "duration": 984,
    "start_time": "2023-06-18T10:45:26.034Z"
   },
   {
    "duration": 1130,
    "start_time": "2023-06-18T10:45:40.151Z"
   },
   {
    "duration": 81,
    "start_time": "2023-06-18T10:45:41.283Z"
   },
   {
    "duration": 24,
    "start_time": "2023-06-18T10:45:41.366Z"
   },
   {
    "duration": 44,
    "start_time": "2023-06-18T10:45:41.392Z"
   },
   {
    "duration": 7,
    "start_time": "2023-06-18T10:45:41.438Z"
   },
   {
    "duration": 16,
    "start_time": "2023-06-18T10:45:41.447Z"
   },
   {
    "duration": 15,
    "start_time": "2023-06-18T10:45:41.465Z"
   },
   {
    "duration": 59,
    "start_time": "2023-06-18T10:45:41.482Z"
   },
   {
    "duration": 102,
    "start_time": "2023-06-18T10:45:41.544Z"
   },
   {
    "duration": 3,
    "start_time": "2023-06-18T10:45:41.650Z"
   },
   {
    "duration": 774,
    "start_time": "2023-06-18T10:45:41.655Z"
   },
   {
    "duration": 8,
    "start_time": "2023-06-18T10:45:42.431Z"
   },
   {
    "duration": 314,
    "start_time": "2023-06-18T10:45:42.441Z"
   },
   {
    "duration": 8,
    "start_time": "2023-06-18T10:45:42.757Z"
   },
   {
    "duration": 206,
    "start_time": "2023-06-18T10:45:42.820Z"
   },
   {
    "duration": 7,
    "start_time": "2023-06-18T10:45:43.035Z"
   },
   {
    "duration": 352,
    "start_time": "2023-06-18T10:45:43.044Z"
   },
   {
    "duration": 8,
    "start_time": "2023-06-18T10:45:43.398Z"
   },
   {
    "duration": 194,
    "start_time": "2023-06-18T10:45:43.407Z"
   },
   {
    "duration": 9,
    "start_time": "2023-06-18T10:45:43.604Z"
   },
   {
    "duration": 183,
    "start_time": "2023-06-18T10:45:43.620Z"
   },
   {
    "duration": 40,
    "start_time": "2023-06-18T10:45:43.804Z"
   },
   {
    "duration": 7,
    "start_time": "2023-06-18T10:45:43.846Z"
   },
   {
    "duration": 687,
    "start_time": "2023-06-18T10:45:43.854Z"
   },
   {
    "duration": 4,
    "start_time": "2023-06-18T10:45:44.543Z"
   },
   {
    "duration": 898,
    "start_time": "2023-06-18T10:45:44.548Z"
   },
   {
    "duration": 25,
    "start_time": "2023-06-18T10:45:45.448Z"
   },
   {
    "duration": 3,
    "start_time": "2023-06-18T10:45:45.476Z"
   },
   {
    "duration": 19,
    "start_time": "2023-06-18T10:45:45.481Z"
   },
   {
    "duration": 41,
    "start_time": "2023-06-18T10:45:45.502Z"
   },
   {
    "duration": 40,
    "start_time": "2023-06-18T10:45:45.545Z"
   },
   {
    "duration": 1093,
    "start_time": "2023-06-18T10:49:55.491Z"
   },
   {
    "duration": 1088,
    "start_time": "2023-06-18T10:50:08.847Z"
   },
   {
    "duration": 72,
    "start_time": "2023-06-18T10:50:09.940Z"
   },
   {
    "duration": 53,
    "start_time": "2023-06-18T10:50:10.014Z"
   },
   {
    "duration": 62,
    "start_time": "2023-06-18T10:50:10.071Z"
   },
   {
    "duration": 9,
    "start_time": "2023-06-18T10:50:10.136Z"
   },
   {
    "duration": 13,
    "start_time": "2023-06-18T10:50:10.147Z"
   },
   {
    "duration": 12,
    "start_time": "2023-06-18T10:50:10.162Z"
   },
   {
    "duration": 17,
    "start_time": "2023-06-18T10:50:10.176Z"
   },
   {
    "duration": 50,
    "start_time": "2023-06-18T10:50:10.195Z"
   },
   {
    "duration": 3,
    "start_time": "2023-06-18T10:50:10.249Z"
   },
   {
    "duration": 419,
    "start_time": "2023-06-18T10:50:10.255Z"
   },
   {
    "duration": 6,
    "start_time": "2023-06-18T10:50:10.675Z"
   },
   {
    "duration": 156,
    "start_time": "2023-06-18T10:50:10.682Z"
   },
   {
    "duration": 7,
    "start_time": "2023-06-18T10:50:10.839Z"
   },
   {
    "duration": 101,
    "start_time": "2023-06-18T10:50:10.847Z"
   },
   {
    "duration": 7,
    "start_time": "2023-06-18T10:50:10.950Z"
   },
   {
    "duration": 382,
    "start_time": "2023-06-18T10:50:10.959Z"
   },
   {
    "duration": 8,
    "start_time": "2023-06-18T10:50:11.343Z"
   },
   {
    "duration": 476,
    "start_time": "2023-06-18T10:50:11.353Z"
   },
   {
    "duration": 10,
    "start_time": "2023-06-18T10:50:11.831Z"
   },
   {
    "duration": 612,
    "start_time": "2023-06-18T10:50:11.844Z"
   },
   {
    "duration": 96,
    "start_time": "2023-06-18T10:50:12.458Z"
   },
   {
    "duration": 10,
    "start_time": "2023-06-18T10:50:12.556Z"
   },
   {
    "duration": 1894,
    "start_time": "2023-06-18T10:50:12.568Z"
   },
   {
    "duration": 4,
    "start_time": "2023-06-18T10:50:14.464Z"
   },
   {
    "duration": 1559,
    "start_time": "2023-06-18T10:50:14.526Z"
   },
   {
    "duration": 1051,
    "start_time": "2023-06-18T10:50:16.086Z"
   },
   {
    "duration": 0,
    "start_time": "2023-06-18T10:50:17.139Z"
   },
   {
    "duration": 0,
    "start_time": "2023-06-18T10:50:17.141Z"
   },
   {
    "duration": 0,
    "start_time": "2023-06-18T10:50:17.142Z"
   },
   {
    "duration": 0,
    "start_time": "2023-06-18T10:50:17.143Z"
   },
   {
    "duration": 20,
    "start_time": "2023-06-18T10:50:44.472Z"
   },
   {
    "duration": 1085,
    "start_time": "2023-06-18T10:52:06.612Z"
   },
   {
    "duration": 80,
    "start_time": "2023-06-18T10:52:07.699Z"
   },
   {
    "duration": 35,
    "start_time": "2023-06-18T10:52:07.781Z"
   },
   {
    "duration": 37,
    "start_time": "2023-06-18T10:52:07.818Z"
   },
   {
    "duration": 8,
    "start_time": "2023-06-18T10:52:07.857Z"
   },
   {
    "duration": 14,
    "start_time": "2023-06-18T10:52:07.867Z"
   },
   {
    "duration": 4,
    "start_time": "2023-06-18T10:52:07.883Z"
   },
   {
    "duration": 39,
    "start_time": "2023-06-18T10:52:07.888Z"
   },
   {
    "duration": 29,
    "start_time": "2023-06-18T10:52:07.929Z"
   },
   {
    "duration": 5,
    "start_time": "2023-06-18T10:52:07.960Z"
   },
   {
    "duration": 482,
    "start_time": "2023-06-18T10:52:07.966Z"
   },
   {
    "duration": 6,
    "start_time": "2023-06-18T10:52:08.450Z"
   },
   {
    "duration": 302,
    "start_time": "2023-06-18T10:52:08.458Z"
   },
   {
    "duration": 6,
    "start_time": "2023-06-18T10:52:08.762Z"
   },
   {
    "duration": 141,
    "start_time": "2023-06-18T10:52:08.826Z"
   },
   {
    "duration": 72,
    "start_time": "2023-06-18T10:52:08.969Z"
   },
   {
    "duration": 498,
    "start_time": "2023-06-18T10:52:09.043Z"
   },
   {
    "duration": 9,
    "start_time": "2023-06-18T10:52:09.542Z"
   },
   {
    "duration": 477,
    "start_time": "2023-06-18T10:52:09.552Z"
   },
   {
    "duration": 13,
    "start_time": "2023-06-18T10:52:10.031Z"
   },
   {
    "duration": 241,
    "start_time": "2023-06-18T10:52:10.046Z"
   },
   {
    "duration": 45,
    "start_time": "2023-06-18T10:52:10.289Z"
   },
   {
    "duration": 9,
    "start_time": "2023-06-18T10:52:10.337Z"
   },
   {
    "duration": 638,
    "start_time": "2023-06-18T10:52:10.348Z"
   },
   {
    "duration": 3,
    "start_time": "2023-06-18T10:52:10.988Z"
   },
   {
    "duration": 847,
    "start_time": "2023-06-18T10:52:10.993Z"
   },
   {
    "duration": 32,
    "start_time": "2023-06-18T10:52:11.842Z"
   },
   {
    "duration": 3,
    "start_time": "2023-06-18T10:52:11.877Z"
   },
   {
    "duration": 9,
    "start_time": "2023-06-18T10:52:11.881Z"
   },
   {
    "duration": 35,
    "start_time": "2023-06-18T10:52:11.892Z"
   },
   {
    "duration": 11,
    "start_time": "2023-06-18T10:52:11.937Z"
   },
   {
    "duration": 9,
    "start_time": "2023-06-18T10:55:16.312Z"
   },
   {
    "duration": 6,
    "start_time": "2023-06-18T10:55:24.996Z"
   },
   {
    "duration": 7,
    "start_time": "2023-06-18T10:56:07.362Z"
   },
   {
    "duration": 64,
    "start_time": "2023-06-18T10:56:33.714Z"
   },
   {
    "duration": 64,
    "start_time": "2023-06-18T10:56:44.404Z"
   },
   {
    "duration": 101,
    "start_time": "2023-06-18T10:56:49.505Z"
   },
   {
    "duration": 58,
    "start_time": "2023-06-18T10:57:39.203Z"
   },
   {
    "duration": 56,
    "start_time": "2023-06-18T10:57:45.736Z"
   },
   {
    "duration": 10,
    "start_time": "2023-06-18T10:57:52.034Z"
   },
   {
    "duration": 9,
    "start_time": "2023-06-18T10:57:58.734Z"
   },
   {
    "duration": 8,
    "start_time": "2023-06-18T10:58:07.353Z"
   },
   {
    "duration": 15,
    "start_time": "2023-06-18T10:58:11.222Z"
   },
   {
    "duration": 7,
    "start_time": "2023-06-18T10:58:33.595Z"
   },
   {
    "duration": 10,
    "start_time": "2023-06-18T11:00:07.008Z"
   },
   {
    "duration": 7,
    "start_time": "2023-06-18T11:00:26.861Z"
   },
   {
    "duration": 7,
    "start_time": "2023-06-18T11:00:28.348Z"
   },
   {
    "duration": 10,
    "start_time": "2023-06-18T11:00:41.468Z"
   },
   {
    "duration": 13,
    "start_time": "2023-06-18T11:00:50.212Z"
   },
   {
    "duration": 6,
    "start_time": "2023-06-18T11:00:58.994Z"
   },
   {
    "duration": 12,
    "start_time": "2023-06-18T11:07:29.242Z"
   },
   {
    "duration": 11,
    "start_time": "2023-06-18T11:07:36.660Z"
   },
   {
    "duration": 19,
    "start_time": "2023-06-18T11:08:44.411Z"
   },
   {
    "duration": 20,
    "start_time": "2023-06-18T11:09:55.442Z"
   },
   {
    "duration": 11,
    "start_time": "2023-06-18T11:10:05.897Z"
   },
   {
    "duration": 186,
    "start_time": "2023-06-18T11:17:24.846Z"
   },
   {
    "duration": 209,
    "start_time": "2023-06-18T11:17:49.921Z"
   },
   {
    "duration": 186,
    "start_time": "2023-06-18T11:18:00.155Z"
   },
   {
    "duration": 54,
    "start_time": "2023-06-18T11:18:03.047Z"
   },
   {
    "duration": 206,
    "start_time": "2023-06-18T11:18:05.059Z"
   },
   {
    "duration": 86,
    "start_time": "2023-06-18T11:18:42.451Z"
   },
   {
    "duration": 149,
    "start_time": "2023-06-18T11:18:44.964Z"
   },
   {
    "duration": 144,
    "start_time": "2023-06-18T11:18:51.008Z"
   },
   {
    "duration": 532,
    "start_time": "2023-06-18T11:18:55.440Z"
   },
   {
    "duration": 193,
    "start_time": "2023-06-18T11:18:57.802Z"
   },
   {
    "duration": 145,
    "start_time": "2023-06-18T11:19:00.814Z"
   },
   {
    "duration": 258,
    "start_time": "2023-06-18T11:19:45.033Z"
   },
   {
    "duration": 209,
    "start_time": "2023-06-18T11:19:48.840Z"
   },
   {
    "duration": 985,
    "start_time": "2023-06-18T11:39:08.267Z"
   },
   {
    "duration": 77,
    "start_time": "2023-06-18T11:39:09.254Z"
   },
   {
    "duration": 31,
    "start_time": "2023-06-18T11:39:09.332Z"
   },
   {
    "duration": 35,
    "start_time": "2023-06-18T11:39:09.365Z"
   },
   {
    "duration": 40,
    "start_time": "2023-06-18T11:39:09.402Z"
   },
   {
    "duration": 37,
    "start_time": "2023-06-18T11:39:09.444Z"
   },
   {
    "duration": 17,
    "start_time": "2023-06-18T11:39:09.483Z"
   },
   {
    "duration": 18,
    "start_time": "2023-06-18T11:39:09.501Z"
   },
   {
    "duration": 52,
    "start_time": "2023-06-18T11:39:09.520Z"
   },
   {
    "duration": 3,
    "start_time": "2023-06-18T11:39:09.573Z"
   },
   {
    "duration": 389,
    "start_time": "2023-06-18T11:39:09.577Z"
   },
   {
    "duration": 5,
    "start_time": "2023-06-18T11:39:09.968Z"
   },
   {
    "duration": 163,
    "start_time": "2023-06-18T11:39:09.974Z"
   },
   {
    "duration": 8,
    "start_time": "2023-06-18T11:39:10.140Z"
   },
   {
    "duration": 110,
    "start_time": "2023-06-18T11:39:10.150Z"
   },
   {
    "duration": 10,
    "start_time": "2023-06-18T11:39:10.262Z"
   },
   {
    "duration": 299,
    "start_time": "2023-06-18T11:39:10.274Z"
   },
   {
    "duration": 10,
    "start_time": "2023-06-18T11:39:10.576Z"
   },
   {
    "duration": 215,
    "start_time": "2023-06-18T11:39:10.588Z"
   },
   {
    "duration": 35,
    "start_time": "2023-06-18T11:39:10.804Z"
   },
   {
    "duration": 214,
    "start_time": "2023-06-18T11:39:10.841Z"
   },
   {
    "duration": 32,
    "start_time": "2023-06-18T11:39:11.056Z"
   },
   {
    "duration": 6,
    "start_time": "2023-06-18T11:39:11.090Z"
   },
   {
    "duration": 756,
    "start_time": "2023-06-18T11:39:11.097Z"
   },
   {
    "duration": 5,
    "start_time": "2023-06-18T11:39:11.855Z"
   },
   {
    "duration": 1016,
    "start_time": "2023-06-18T11:39:11.863Z"
   },
   {
    "duration": 21,
    "start_time": "2023-06-18T11:39:12.881Z"
   },
   {
    "duration": 23,
    "start_time": "2023-06-18T11:39:12.903Z"
   },
   {
    "duration": 48,
    "start_time": "2023-06-18T11:39:12.928Z"
   },
   {
    "duration": 49,
    "start_time": "2023-06-18T11:39:12.978Z"
   },
   {
    "duration": 61,
    "start_time": "2023-06-18T11:39:13.029Z"
   },
   {
    "duration": 1206,
    "start_time": "2023-06-18T16:20:55.704Z"
   },
   {
    "duration": 73,
    "start_time": "2023-06-18T16:20:56.912Z"
   },
   {
    "duration": 43,
    "start_time": "2023-06-18T16:20:56.988Z"
   },
   {
    "duration": 48,
    "start_time": "2023-06-18T16:20:57.033Z"
   },
   {
    "duration": 10,
    "start_time": "2023-06-18T16:20:57.084Z"
   },
   {
    "duration": 11,
    "start_time": "2023-06-18T16:20:57.096Z"
   },
   {
    "duration": 5,
    "start_time": "2023-06-18T16:20:57.109Z"
   },
   {
    "duration": 47,
    "start_time": "2023-06-18T16:20:57.116Z"
   },
   {
    "duration": 38,
    "start_time": "2023-06-18T16:20:57.168Z"
   },
   {
    "duration": 6,
    "start_time": "2023-06-18T16:20:57.208Z"
   },
   {
    "duration": 499,
    "start_time": "2023-06-18T16:20:57.215Z"
   },
   {
    "duration": 7,
    "start_time": "2023-06-18T16:20:57.717Z"
   },
   {
    "duration": 195,
    "start_time": "2023-06-18T16:20:57.726Z"
   },
   {
    "duration": 7,
    "start_time": "2023-06-18T16:20:57.922Z"
   },
   {
    "duration": 130,
    "start_time": "2023-06-18T16:20:57.931Z"
   },
   {
    "duration": 12,
    "start_time": "2023-06-18T16:20:58.063Z"
   },
   {
    "duration": 270,
    "start_time": "2023-06-18T16:20:58.077Z"
   },
   {
    "duration": 15,
    "start_time": "2023-06-18T16:20:58.348Z"
   },
   {
    "duration": 241,
    "start_time": "2023-06-18T16:20:58.365Z"
   },
   {
    "duration": 11,
    "start_time": "2023-06-18T16:20:58.608Z"
   },
   {
    "duration": 248,
    "start_time": "2023-06-18T16:20:58.621Z"
   },
   {
    "duration": 33,
    "start_time": "2023-06-18T16:20:58.871Z"
   },
   {
    "duration": 7,
    "start_time": "2023-06-18T16:20:58.906Z"
   },
   {
    "duration": 773,
    "start_time": "2023-06-18T16:20:58.915Z"
   },
   {
    "duration": 4,
    "start_time": "2023-06-18T16:20:59.689Z"
   },
   {
    "duration": 886,
    "start_time": "2023-06-18T16:20:59.695Z"
   },
   {
    "duration": 33,
    "start_time": "2023-06-18T16:21:00.584Z"
   },
   {
    "duration": 3,
    "start_time": "2023-06-18T16:21:00.621Z"
   },
   {
    "duration": 34,
    "start_time": "2023-06-18T16:21:00.626Z"
   },
   {
    "duration": 50,
    "start_time": "2023-06-18T16:21:00.662Z"
   },
   {
    "duration": 38,
    "start_time": "2023-06-18T16:21:00.714Z"
   },
   {
    "duration": 8,
    "start_time": "2023-06-18T16:23:35.639Z"
   },
   {
    "duration": 1387,
    "start_time": "2023-06-18T16:27:11.124Z"
   },
   {
    "duration": 76,
    "start_time": "2023-06-18T16:27:12.513Z"
   },
   {
    "duration": 41,
    "start_time": "2023-06-18T16:27:12.591Z"
   },
   {
    "duration": 59,
    "start_time": "2023-06-18T16:27:12.635Z"
   },
   {
    "duration": 10,
    "start_time": "2023-06-18T16:27:12.696Z"
   },
   {
    "duration": 13,
    "start_time": "2023-06-18T16:27:12.709Z"
   },
   {
    "duration": 35,
    "start_time": "2023-06-18T16:27:12.724Z"
   },
   {
    "duration": 23,
    "start_time": "2023-06-18T16:27:12.762Z"
   },
   {
    "duration": 42,
    "start_time": "2023-06-18T16:27:12.787Z"
   },
   {
    "duration": 26,
    "start_time": "2023-06-18T16:27:12.832Z"
   },
   {
    "duration": 582,
    "start_time": "2023-06-18T16:27:12.861Z"
   },
   {
    "duration": 13,
    "start_time": "2023-06-18T16:27:13.446Z"
   },
   {
    "duration": 219,
    "start_time": "2023-06-18T16:27:13.462Z"
   },
   {
    "duration": 9,
    "start_time": "2023-06-18T16:27:13.684Z"
   },
   {
    "duration": 140,
    "start_time": "2023-06-18T16:27:13.695Z"
   },
   {
    "duration": 20,
    "start_time": "2023-06-18T16:27:13.837Z"
   },
   {
    "duration": 386,
    "start_time": "2023-06-18T16:27:13.860Z"
   },
   {
    "duration": 16,
    "start_time": "2023-06-18T16:27:14.248Z"
   },
   {
    "duration": 288,
    "start_time": "2023-06-18T16:27:14.267Z"
   },
   {
    "duration": 11,
    "start_time": "2023-06-18T16:27:14.557Z"
   },
   {
    "duration": 300,
    "start_time": "2023-06-18T16:27:14.570Z"
   },
   {
    "duration": 47,
    "start_time": "2023-06-18T16:27:14.874Z"
   },
   {
    "duration": 32,
    "start_time": "2023-06-18T16:27:14.923Z"
   },
   {
    "duration": 1114,
    "start_time": "2023-06-18T16:27:14.957Z"
   },
   {
    "duration": 6,
    "start_time": "2023-06-18T16:27:16.074Z"
   },
   {
    "duration": 1484,
    "start_time": "2023-06-18T16:27:16.082Z"
   },
   {
    "duration": 41,
    "start_time": "2023-06-18T16:27:17.569Z"
   },
   {
    "duration": 3,
    "start_time": "2023-06-18T16:27:17.615Z"
   },
   {
    "duration": 11,
    "start_time": "2023-06-18T16:27:17.620Z"
   },
   {
    "duration": 12,
    "start_time": "2023-06-18T16:27:17.653Z"
   },
   {
    "duration": 18,
    "start_time": "2023-06-18T16:27:17.667Z"
   },
   {
    "duration": 70,
    "start_time": "2023-06-18T19:12:16.484Z"
   },
   {
    "duration": 2094,
    "start_time": "2023-06-18T19:12:27.393Z"
   },
   {
    "duration": 719,
    "start_time": "2023-06-18T19:12:29.489Z"
   },
   {
    "duration": 41,
    "start_time": "2023-06-18T19:12:30.210Z"
   },
   {
    "duration": 51,
    "start_time": "2023-06-18T19:12:30.254Z"
   },
   {
    "duration": 9,
    "start_time": "2023-06-18T19:12:30.307Z"
   },
   {
    "duration": 31,
    "start_time": "2023-06-18T19:12:30.318Z"
   },
   {
    "duration": 67,
    "start_time": "2023-06-18T19:12:30.351Z"
   },
   {
    "duration": 28,
    "start_time": "2023-06-18T19:12:30.420Z"
   },
   {
    "duration": 68,
    "start_time": "2023-06-18T19:12:30.450Z"
   },
   {
    "duration": 4,
    "start_time": "2023-06-18T19:12:30.523Z"
   },
   {
    "duration": 549,
    "start_time": "2023-06-18T19:12:30.529Z"
   },
   {
    "duration": 8,
    "start_time": "2023-06-18T19:12:31.080Z"
   },
   {
    "duration": 172,
    "start_time": "2023-06-18T19:12:31.099Z"
   },
   {
    "duration": 11,
    "start_time": "2023-06-18T19:12:31.277Z"
   },
   {
    "duration": 160,
    "start_time": "2023-06-18T19:12:31.294Z"
   },
   {
    "duration": 26,
    "start_time": "2023-06-18T19:12:31.458Z"
   },
   {
    "duration": 595,
    "start_time": "2023-06-18T19:12:31.489Z"
   },
   {
    "duration": 15,
    "start_time": "2023-06-18T19:12:32.085Z"
   },
   {
    "duration": 585,
    "start_time": "2023-06-18T19:12:32.102Z"
   },
   {
    "duration": 20,
    "start_time": "2023-06-18T19:12:32.690Z"
   },
   {
    "duration": 484,
    "start_time": "2023-06-18T19:12:32.712Z"
   },
   {
    "duration": 124,
    "start_time": "2023-06-18T19:12:33.198Z"
   },
   {
    "duration": 45,
    "start_time": "2023-06-18T19:12:33.324Z"
   },
   {
    "duration": 1665,
    "start_time": "2023-06-18T19:12:33.372Z"
   },
   {
    "duration": 19,
    "start_time": "2023-06-18T19:12:35.040Z"
   },
   {
    "duration": 1280,
    "start_time": "2023-06-18T19:12:35.072Z"
   },
   {
    "duration": 44,
    "start_time": "2023-06-18T19:12:36.362Z"
   },
   {
    "duration": 9,
    "start_time": "2023-06-18T19:12:36.411Z"
   },
   {
    "duration": 9,
    "start_time": "2023-06-18T19:12:36.422Z"
   },
   {
    "duration": 14,
    "start_time": "2023-06-18T19:12:36.432Z"
   },
   {
    "duration": 2195,
    "start_time": "2023-06-18T19:12:36.447Z"
   },
   {
    "duration": 28,
    "start_time": "2023-06-18T19:13:22.058Z"
   },
   {
    "duration": 21,
    "start_time": "2023-06-18T19:13:28.601Z"
   },
   {
    "duration": 17,
    "start_time": "2023-06-18T19:14:20.100Z"
   },
   {
    "duration": 23,
    "start_time": "2023-06-18T19:14:27.713Z"
   },
   {
    "duration": 17,
    "start_time": "2023-06-18T19:17:12.009Z"
   },
   {
    "duration": 1221,
    "start_time": "2023-06-19T05:01:02.959Z"
   },
   {
    "duration": 94,
    "start_time": "2023-06-19T05:01:04.182Z"
   },
   {
    "duration": 29,
    "start_time": "2023-06-19T05:01:04.278Z"
   },
   {
    "duration": 61,
    "start_time": "2023-06-19T05:01:04.309Z"
   },
   {
    "duration": 9,
    "start_time": "2023-06-19T05:01:04.372Z"
   },
   {
    "duration": 38,
    "start_time": "2023-06-19T05:01:04.383Z"
   },
   {
    "duration": 8,
    "start_time": "2023-06-19T05:01:04.425Z"
   },
   {
    "duration": 14,
    "start_time": "2023-06-19T05:01:04.435Z"
   },
   {
    "duration": 45,
    "start_time": "2023-06-19T05:01:04.451Z"
   },
   {
    "duration": 7,
    "start_time": "2023-06-19T05:01:04.500Z"
   },
   {
    "duration": 461,
    "start_time": "2023-06-19T05:01:04.509Z"
   },
   {
    "duration": 8,
    "start_time": "2023-06-19T05:01:04.972Z"
   },
   {
    "duration": 185,
    "start_time": "2023-06-19T05:01:04.982Z"
   },
   {
    "duration": 7,
    "start_time": "2023-06-19T05:01:05.169Z"
   },
   {
    "duration": 182,
    "start_time": "2023-06-19T05:01:05.178Z"
   },
   {
    "duration": 10,
    "start_time": "2023-06-19T05:01:05.362Z"
   },
   {
    "duration": 341,
    "start_time": "2023-06-19T05:01:05.374Z"
   },
   {
    "duration": 11,
    "start_time": "2023-06-19T05:01:05.723Z"
   },
   {
    "duration": 228,
    "start_time": "2023-06-19T05:01:05.739Z"
   },
   {
    "duration": 12,
    "start_time": "2023-06-19T05:01:05.969Z"
   },
   {
    "duration": 245,
    "start_time": "2023-06-19T05:01:05.983Z"
   },
   {
    "duration": 51,
    "start_time": "2023-06-19T05:01:06.236Z"
   },
   {
    "duration": 8,
    "start_time": "2023-06-19T05:01:06.289Z"
   },
   {
    "duration": 865,
    "start_time": "2023-06-19T05:01:06.299Z"
   },
   {
    "duration": 4,
    "start_time": "2023-06-19T05:01:07.166Z"
   },
   {
    "duration": 992,
    "start_time": "2023-06-19T05:01:07.172Z"
   },
   {
    "duration": 32,
    "start_time": "2023-06-19T05:01:08.167Z"
   },
   {
    "duration": 14,
    "start_time": "2023-06-19T05:01:08.212Z"
   },
   {
    "duration": 20,
    "start_time": "2023-06-19T05:01:08.228Z"
   },
   {
    "duration": 10,
    "start_time": "2023-06-19T05:01:08.257Z"
   },
   {
    "duration": 21,
    "start_time": "2023-06-19T05:01:08.269Z"
   }
  ],
  "kernelspec": {
   "display_name": "Python 3 (ipykernel)",
   "language": "python",
   "name": "python3"
  },
  "language_info": {
   "codemirror_mode": {
    "name": "ipython",
    "version": 3
   },
   "file_extension": ".py",
   "mimetype": "text/x-python",
   "name": "python",
   "nbconvert_exporter": "python",
   "pygments_lexer": "ipython3",
   "version": "3.10.15"
  },
  "toc": {
   "base_numbering": 1,
   "nav_menu": {
    "height": "205px",
    "width": "168px"
   },
   "number_sections": true,
   "sideBar": true,
   "skip_h1_title": true,
   "title_cell": "Table of Contents",
   "title_sidebar": "Contents",
   "toc_cell": false,
   "toc_position": {
    "height": "calc(100% - 180px)",
    "left": "10px",
    "top": "150px",
    "width": "294.225px"
   },
   "toc_section_display": true,
   "toc_window_display": true
  }
 },
 "nbformat": 4,
 "nbformat_minor": 5
}
